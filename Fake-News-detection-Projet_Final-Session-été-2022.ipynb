{
  "nbformat": 4,
  "nbformat_minor": 0,
  "metadata": {
    "colab": {
      "provenance": [],
      "mount_file_id": "1I-A022agRkJrEPQGq7lgFy94TEJspVWs",
      "authorship_tag": "ABX9TyOzyLPJOBuxF/+dlppzGiPQ",
      "include_colab_link": true
    },
    "kernelspec": {
      "name": "python3",
      "display_name": "Python 3"
    },
    "language_info": {
      "name": "python"
    }
  },
  "cells": [
    {
      "cell_type": "markdown",
      "metadata": {
        "id": "view-in-github",
        "colab_type": "text"
      },
      "source": [
        "<a href=\"https://colab.research.google.com/github/emaudealtema/Machine_Learning_repo/blob/master/Fake-News-detection-Projet_Final-Session-%C3%A9t%C3%A9-2022.ipynb\" target=\"_parent\"><img src=\"https://colab.research.google.com/assets/colab-badge.svg\" alt=\"Open In Colab\"/></a>"
      ]
    },
    {
      "cell_type": "code",
      "source": [
        "from google.colab import drive\n",
        "drive.mount('/content/drive')"
      ],
      "metadata": {
        "colab": {
          "base_uri": "https://localhost:8080/"
        },
        "id": "gDyWI_KqzMP0",
        "outputId": "b034083d-d155-460d-983e-cbca5bb8d822"
      },
      "execution_count": null,
      "outputs": [
        {
          "output_type": "stream",
          "name": "stdout",
          "text": [
            "Drive already mounted at /content/drive; to attempt to forcibly remount, call drive.mount(\"/content/drive\", force_remount=True).\n"
          ]
        }
      ]
    },
    {
      "cell_type": "code",
      "execution_count": null,
      "metadata": {
        "id": "SyLSWeQYzHuT"
      },
      "outputs": [],
      "source": [
        "import matplotlib.pyplot as plt\n",
        "import seaborn as sns\n",
        "import pandas as pd"
      ]
    },
    {
      "cell_type": "code",
      "source": [
        "data = pd.read_csv('/content/drive/MyDrive/Dataset/fake_news_detection_dataset.csv')\n",
        "\n",
        "#fake = pd.read_csv('/content/drive/MyDrive/Dataset/fake_news_data/Fake.csv')\n",
        "#true = pd.read_csv('/content/drive/MyDrive/Dataset/fake_news_data/True.csv')"
      ],
      "metadata": {
        "id": "t5pvLaUWzIrx"
      },
      "execution_count": null,
      "outputs": []
    },
    {
      "cell_type": "code",
      "source": [
        "#Regardons à quoi ressemble nos données\n",
        "\n",
        "data.sample(10)"
      ],
      "metadata": {
        "colab": {
          "base_uri": "https://localhost:8080/",
          "height": 546
        },
        "id": "5JrKxZyZzaeY",
        "outputId": "93469bb9-f7ec-45af-9cc4-8dad613bf45c"
      },
      "execution_count": null,
      "outputs": [
        {
          "output_type": "execute_result",
          "data": {
            "text/plain": [
              "      Labels                                               Text  \\\n",
              "3970       4               Rhode Island: 3% bigger at low tide.   \n",
              "4527       4  Were the only nation in the world that does no...   \n",
              "6455       1  Homosexual behavior cuts your lifeby about 20 ...   \n",
              "9031       2  I vetoed more than $3 billion in spending. Law...   \n",
              "1773       3  A lot of what (Cubas) survival depends on is V...   \n",
              "5816       3                    Obamacare is not a popular law.   \n",
              "4790       5  Taxpayers earning $1 million pay an effective ...   \n",
              "8975       4  Ken Cuccinelli tried to shut down state govern...   \n",
              "4037       0  Two-thirds of American families rely on the mo...   \n",
              "2970       1     The Islamic State just built a hotel in Syria.   \n",
              "\n",
              "                                              Text_Tag  \n",
              "3970                                           tourism  \n",
              "4527            homeland-security,immigration,military  \n",
              "6455           gays-and-lesbians,health-care,sexuality  \n",
              "9031  economy,housing,job-accomplishments,state-budget  \n",
              "1773                                    foreign-policy  \n",
              "5816           government-regulation,health-care,polls  \n",
              "4790                                             taxes  \n",
              "8975                       bipartisanship,state-budget  \n",
              "4037                             economy,poverty,women  \n",
              "2970                                         terrorism  "
            ],
            "text/html": [
              "\n",
              "  <div id=\"df-c1a164fb-75ee-467f-a3d0-94593187cfc6\">\n",
              "    <div class=\"colab-df-container\">\n",
              "      <div>\n",
              "<style scoped>\n",
              "    .dataframe tbody tr th:only-of-type {\n",
              "        vertical-align: middle;\n",
              "    }\n",
              "\n",
              "    .dataframe tbody tr th {\n",
              "        vertical-align: top;\n",
              "    }\n",
              "\n",
              "    .dataframe thead th {\n",
              "        text-align: right;\n",
              "    }\n",
              "</style>\n",
              "<table border=\"1\" class=\"dataframe\">\n",
              "  <thead>\n",
              "    <tr style=\"text-align: right;\">\n",
              "      <th></th>\n",
              "      <th>Labels</th>\n",
              "      <th>Text</th>\n",
              "      <th>Text_Tag</th>\n",
              "    </tr>\n",
              "  </thead>\n",
              "  <tbody>\n",
              "    <tr>\n",
              "      <th>3970</th>\n",
              "      <td>4</td>\n",
              "      <td>Rhode Island: 3% bigger at low tide.</td>\n",
              "      <td>tourism</td>\n",
              "    </tr>\n",
              "    <tr>\n",
              "      <th>4527</th>\n",
              "      <td>4</td>\n",
              "      <td>Were the only nation in the world that does no...</td>\n",
              "      <td>homeland-security,immigration,military</td>\n",
              "    </tr>\n",
              "    <tr>\n",
              "      <th>6455</th>\n",
              "      <td>1</td>\n",
              "      <td>Homosexual behavior cuts your lifeby about 20 ...</td>\n",
              "      <td>gays-and-lesbians,health-care,sexuality</td>\n",
              "    </tr>\n",
              "    <tr>\n",
              "      <th>9031</th>\n",
              "      <td>2</td>\n",
              "      <td>I vetoed more than $3 billion in spending. Law...</td>\n",
              "      <td>economy,housing,job-accomplishments,state-budget</td>\n",
              "    </tr>\n",
              "    <tr>\n",
              "      <th>1773</th>\n",
              "      <td>3</td>\n",
              "      <td>A lot of what (Cubas) survival depends on is V...</td>\n",
              "      <td>foreign-policy</td>\n",
              "    </tr>\n",
              "    <tr>\n",
              "      <th>5816</th>\n",
              "      <td>3</td>\n",
              "      <td>Obamacare is not a popular law.</td>\n",
              "      <td>government-regulation,health-care,polls</td>\n",
              "    </tr>\n",
              "    <tr>\n",
              "      <th>4790</th>\n",
              "      <td>5</td>\n",
              "      <td>Taxpayers earning $1 million pay an effective ...</td>\n",
              "      <td>taxes</td>\n",
              "    </tr>\n",
              "    <tr>\n",
              "      <th>8975</th>\n",
              "      <td>4</td>\n",
              "      <td>Ken Cuccinelli tried to shut down state govern...</td>\n",
              "      <td>bipartisanship,state-budget</td>\n",
              "    </tr>\n",
              "    <tr>\n",
              "      <th>4037</th>\n",
              "      <td>0</td>\n",
              "      <td>Two-thirds of American families rely on the mo...</td>\n",
              "      <td>economy,poverty,women</td>\n",
              "    </tr>\n",
              "    <tr>\n",
              "      <th>2970</th>\n",
              "      <td>1</td>\n",
              "      <td>The Islamic State just built a hotel in Syria.</td>\n",
              "      <td>terrorism</td>\n",
              "    </tr>\n",
              "  </tbody>\n",
              "</table>\n",
              "</div>\n",
              "      <button class=\"colab-df-convert\" onclick=\"convertToInteractive('df-c1a164fb-75ee-467f-a3d0-94593187cfc6')\"\n",
              "              title=\"Convert this dataframe to an interactive table.\"\n",
              "              style=\"display:none;\">\n",
              "        \n",
              "  <svg xmlns=\"http://www.w3.org/2000/svg\" height=\"24px\"viewBox=\"0 0 24 24\"\n",
              "       width=\"24px\">\n",
              "    <path d=\"M0 0h24v24H0V0z\" fill=\"none\"/>\n",
              "    <path d=\"M18.56 5.44l.94 2.06.94-2.06 2.06-.94-2.06-.94-.94-2.06-.94 2.06-2.06.94zm-11 1L8.5 8.5l.94-2.06 2.06-.94-2.06-.94L8.5 2.5l-.94 2.06-2.06.94zm10 10l.94 2.06.94-2.06 2.06-.94-2.06-.94-.94-2.06-.94 2.06-2.06.94z\"/><path d=\"M17.41 7.96l-1.37-1.37c-.4-.4-.92-.59-1.43-.59-.52 0-1.04.2-1.43.59L10.3 9.45l-7.72 7.72c-.78.78-.78 2.05 0 2.83L4 21.41c.39.39.9.59 1.41.59.51 0 1.02-.2 1.41-.59l7.78-7.78 2.81-2.81c.8-.78.8-2.07 0-2.86zM5.41 20L4 18.59l7.72-7.72 1.47 1.35L5.41 20z\"/>\n",
              "  </svg>\n",
              "      </button>\n",
              "      \n",
              "  <style>\n",
              "    .colab-df-container {\n",
              "      display:flex;\n",
              "      flex-wrap:wrap;\n",
              "      gap: 12px;\n",
              "    }\n",
              "\n",
              "    .colab-df-convert {\n",
              "      background-color: #E8F0FE;\n",
              "      border: none;\n",
              "      border-radius: 50%;\n",
              "      cursor: pointer;\n",
              "      display: none;\n",
              "      fill: #1967D2;\n",
              "      height: 32px;\n",
              "      padding: 0 0 0 0;\n",
              "      width: 32px;\n",
              "    }\n",
              "\n",
              "    .colab-df-convert:hover {\n",
              "      background-color: #E2EBFA;\n",
              "      box-shadow: 0px 1px 2px rgba(60, 64, 67, 0.3), 0px 1px 3px 1px rgba(60, 64, 67, 0.15);\n",
              "      fill: #174EA6;\n",
              "    }\n",
              "\n",
              "    [theme=dark] .colab-df-convert {\n",
              "      background-color: #3B4455;\n",
              "      fill: #D2E3FC;\n",
              "    }\n",
              "\n",
              "    [theme=dark] .colab-df-convert:hover {\n",
              "      background-color: #434B5C;\n",
              "      box-shadow: 0px 1px 3px 1px rgba(0, 0, 0, 0.15);\n",
              "      filter: drop-shadow(0px 1px 2px rgba(0, 0, 0, 0.3));\n",
              "      fill: #FFFFFF;\n",
              "    }\n",
              "  </style>\n",
              "\n",
              "      <script>\n",
              "        const buttonEl =\n",
              "          document.querySelector('#df-c1a164fb-75ee-467f-a3d0-94593187cfc6 button.colab-df-convert');\n",
              "        buttonEl.style.display =\n",
              "          google.colab.kernel.accessAllowed ? 'block' : 'none';\n",
              "\n",
              "        async function convertToInteractive(key) {\n",
              "          const element = document.querySelector('#df-c1a164fb-75ee-467f-a3d0-94593187cfc6');\n",
              "          const dataTable =\n",
              "            await google.colab.kernel.invokeFunction('convertToInteractive',\n",
              "                                                     [key], {});\n",
              "          if (!dataTable) return;\n",
              "\n",
              "          const docLinkHtml = 'Like what you see? Visit the ' +\n",
              "            '<a target=\"_blank\" href=https://colab.research.google.com/notebooks/data_table.ipynb>data table notebook</a>'\n",
              "            + ' to learn more about interactive tables.';\n",
              "          element.innerHTML = '';\n",
              "          dataTable['output_type'] = 'display_data';\n",
              "          await google.colab.output.renderOutput(dataTable, element);\n",
              "          const docLink = document.createElement('div');\n",
              "          docLink.innerHTML = docLinkHtml;\n",
              "          element.appendChild(docLink);\n",
              "        }\n",
              "      </script>\n",
              "    </div>\n",
              "  </div>\n",
              "  "
            ]
          },
          "metadata": {},
          "execution_count": 4
        }
      ]
    },
    {
      "cell_type": "code",
      "source": [
        "len(data)"
      ],
      "metadata": {
        "colab": {
          "base_uri": "https://localhost:8080/"
        },
        "id": "pjqoKXPJUQFK",
        "outputId": "1530ba49-8f9f-4e5b-f660-17054165119f"
      },
      "execution_count": null,
      "outputs": [
        {
          "output_type": "execute_result",
          "data": {
            "text/plain": [
              "10240"
            ]
          },
          "metadata": {},
          "execution_count": 5
        }
      ]
    },
    {
      "cell_type": "code",
      "source": [
        "# Regardons les derniéres lignes s'elles se ressemblent\n",
        "data.tail()"
      ],
      "metadata": {
        "colab": {
          "base_uri": "https://localhost:8080/",
          "height": 250
        },
        "id": "nQv4U2e4zfBF",
        "outputId": "fe5c16f4-6e33-4bfd-b7e4-5de91ccf32e0"
      },
      "execution_count": null,
      "outputs": [
        {
          "output_type": "execute_result",
          "data": {
            "text/plain": [
              "       Labels                                               Text  \\\n",
              "10235       3  There are a larger number of shark attacks in ...   \n",
              "10236       3  Democrats have now become the party of the [At...   \n",
              "10237       2  Says an alternative to Social Security that op...   \n",
              "10238       1  On lifting the U.S. Cuban embargo and allowing...   \n",
              "10239       4  The Department of Veterans Affairs has a manua...   \n",
              "\n",
              "                         Text_Tag  \n",
              "10235           animals,elections  \n",
              "10236                   elections  \n",
              "10237  retirement,social-security  \n",
              "10238      florida,foreign-policy  \n",
              "10239        health-care,veterans  "
            ],
            "text/html": [
              "\n",
              "  <div id=\"df-88771407-1fb5-43fc-ab08-f8f9dee25939\">\n",
              "    <div class=\"colab-df-container\">\n",
              "      <div>\n",
              "<style scoped>\n",
              "    .dataframe tbody tr th:only-of-type {\n",
              "        vertical-align: middle;\n",
              "    }\n",
              "\n",
              "    .dataframe tbody tr th {\n",
              "        vertical-align: top;\n",
              "    }\n",
              "\n",
              "    .dataframe thead th {\n",
              "        text-align: right;\n",
              "    }\n",
              "</style>\n",
              "<table border=\"1\" class=\"dataframe\">\n",
              "  <thead>\n",
              "    <tr style=\"text-align: right;\">\n",
              "      <th></th>\n",
              "      <th>Labels</th>\n",
              "      <th>Text</th>\n",
              "      <th>Text_Tag</th>\n",
              "    </tr>\n",
              "  </thead>\n",
              "  <tbody>\n",
              "    <tr>\n",
              "      <th>10235</th>\n",
              "      <td>3</td>\n",
              "      <td>There are a larger number of shark attacks in ...</td>\n",
              "      <td>animals,elections</td>\n",
              "    </tr>\n",
              "    <tr>\n",
              "      <th>10236</th>\n",
              "      <td>3</td>\n",
              "      <td>Democrats have now become the party of the [At...</td>\n",
              "      <td>elections</td>\n",
              "    </tr>\n",
              "    <tr>\n",
              "      <th>10237</th>\n",
              "      <td>2</td>\n",
              "      <td>Says an alternative to Social Security that op...</td>\n",
              "      <td>retirement,social-security</td>\n",
              "    </tr>\n",
              "    <tr>\n",
              "      <th>10238</th>\n",
              "      <td>1</td>\n",
              "      <td>On lifting the U.S. Cuban embargo and allowing...</td>\n",
              "      <td>florida,foreign-policy</td>\n",
              "    </tr>\n",
              "    <tr>\n",
              "      <th>10239</th>\n",
              "      <td>4</td>\n",
              "      <td>The Department of Veterans Affairs has a manua...</td>\n",
              "      <td>health-care,veterans</td>\n",
              "    </tr>\n",
              "  </tbody>\n",
              "</table>\n",
              "</div>\n",
              "      <button class=\"colab-df-convert\" onclick=\"convertToInteractive('df-88771407-1fb5-43fc-ab08-f8f9dee25939')\"\n",
              "              title=\"Convert this dataframe to an interactive table.\"\n",
              "              style=\"display:none;\">\n",
              "        \n",
              "  <svg xmlns=\"http://www.w3.org/2000/svg\" height=\"24px\"viewBox=\"0 0 24 24\"\n",
              "       width=\"24px\">\n",
              "    <path d=\"M0 0h24v24H0V0z\" fill=\"none\"/>\n",
              "    <path d=\"M18.56 5.44l.94 2.06.94-2.06 2.06-.94-2.06-.94-.94-2.06-.94 2.06-2.06.94zm-11 1L8.5 8.5l.94-2.06 2.06-.94-2.06-.94L8.5 2.5l-.94 2.06-2.06.94zm10 10l.94 2.06.94-2.06 2.06-.94-2.06-.94-.94-2.06-.94 2.06-2.06.94z\"/><path d=\"M17.41 7.96l-1.37-1.37c-.4-.4-.92-.59-1.43-.59-.52 0-1.04.2-1.43.59L10.3 9.45l-7.72 7.72c-.78.78-.78 2.05 0 2.83L4 21.41c.39.39.9.59 1.41.59.51 0 1.02-.2 1.41-.59l7.78-7.78 2.81-2.81c.8-.78.8-2.07 0-2.86zM5.41 20L4 18.59l7.72-7.72 1.47 1.35L5.41 20z\"/>\n",
              "  </svg>\n",
              "      </button>\n",
              "      \n",
              "  <style>\n",
              "    .colab-df-container {\n",
              "      display:flex;\n",
              "      flex-wrap:wrap;\n",
              "      gap: 12px;\n",
              "    }\n",
              "\n",
              "    .colab-df-convert {\n",
              "      background-color: #E8F0FE;\n",
              "      border: none;\n",
              "      border-radius: 50%;\n",
              "      cursor: pointer;\n",
              "      display: none;\n",
              "      fill: #1967D2;\n",
              "      height: 32px;\n",
              "      padding: 0 0 0 0;\n",
              "      width: 32px;\n",
              "    }\n",
              "\n",
              "    .colab-df-convert:hover {\n",
              "      background-color: #E2EBFA;\n",
              "      box-shadow: 0px 1px 2px rgba(60, 64, 67, 0.3), 0px 1px 3px 1px rgba(60, 64, 67, 0.15);\n",
              "      fill: #174EA6;\n",
              "    }\n",
              "\n",
              "    [theme=dark] .colab-df-convert {\n",
              "      background-color: #3B4455;\n",
              "      fill: #D2E3FC;\n",
              "    }\n",
              "\n",
              "    [theme=dark] .colab-df-convert:hover {\n",
              "      background-color: #434B5C;\n",
              "      box-shadow: 0px 1px 3px 1px rgba(0, 0, 0, 0.15);\n",
              "      filter: drop-shadow(0px 1px 2px rgba(0, 0, 0, 0.3));\n",
              "      fill: #FFFFFF;\n",
              "    }\n",
              "  </style>\n",
              "\n",
              "      <script>\n",
              "        const buttonEl =\n",
              "          document.querySelector('#df-88771407-1fb5-43fc-ab08-f8f9dee25939 button.colab-df-convert');\n",
              "        buttonEl.style.display =\n",
              "          google.colab.kernel.accessAllowed ? 'block' : 'none';\n",
              "\n",
              "        async function convertToInteractive(key) {\n",
              "          const element = document.querySelector('#df-88771407-1fb5-43fc-ab08-f8f9dee25939');\n",
              "          const dataTable =\n",
              "            await google.colab.kernel.invokeFunction('convertToInteractive',\n",
              "                                                     [key], {});\n",
              "          if (!dataTable) return;\n",
              "\n",
              "          const docLinkHtml = 'Like what you see? Visit the ' +\n",
              "            '<a target=\"_blank\" href=https://colab.research.google.com/notebooks/data_table.ipynb>data table notebook</a>'\n",
              "            + ' to learn more about interactive tables.';\n",
              "          element.innerHTML = '';\n",
              "          dataTable['output_type'] = 'display_data';\n",
              "          await google.colab.output.renderOutput(dataTable, element);\n",
              "          const docLink = document.createElement('div');\n",
              "          docLink.innerHTML = docLinkHtml;\n",
              "          element.appendChild(docLink);\n",
              "        }\n",
              "      </script>\n",
              "    </div>\n",
              "  </div>\n",
              "  "
            ]
          },
          "metadata": {},
          "execution_count": 6
        }
      ]
    },
    {
      "cell_type": "code",
      "source": [
        "data.Labels.value_counts()"
      ],
      "metadata": {
        "colab": {
          "base_uri": "https://localhost:8080/"
        },
        "id": "izNb1-3kzuFu",
        "outputId": "d809d3f6-00da-4df2-9151-d3230abb65bc"
      },
      "execution_count": null,
      "outputs": [
        {
          "output_type": "execute_result",
          "data": {
            "text/plain": [
              "2    2114\n",
              "1    1995\n",
              "3    1962\n",
              "5    1676\n",
              "0    1654\n",
              "4     839\n",
              "Name: Labels, dtype: int64"
            ]
          },
          "metadata": {},
          "execution_count": 7
        }
      ]
    },
    {
      "cell_type": "code",
      "source": [
        "sns.set(rc={'figure.figsize':(11.7,8.27)})\n",
        "sns.countplot(data['Labels'])"
      ],
      "metadata": {
        "colab": {
          "base_uri": "https://localhost:8080/",
          "height": 539
        },
        "id": "PazqmI6s375l",
        "outputId": "03b30a8e-7b86-47d4-d31e-982ae6cef613"
      },
      "execution_count": null,
      "outputs": [
        {
          "output_type": "stream",
          "name": "stderr",
          "text": [
            "/usr/local/lib/python3.7/dist-packages/seaborn/_decorators.py:43: FutureWarning: Pass the following variable as a keyword arg: x. From version 0.12, the only valid positional argument will be `data`, and passing other arguments without an explicit keyword will result in an error or misinterpretation.\n",
            "  FutureWarning\n"
          ]
        },
        {
          "output_type": "execute_result",
          "data": {
            "text/plain": [
              "<matplotlib.axes._subplots.AxesSubplot at 0x7f5a03a7e190>"
            ]
          },
          "metadata": {},
          "execution_count": 8
        },
        {
          "output_type": "display_data",
          "data": {
            "text/plain": [
              "<Figure size 842.4x595.44 with 1 Axes>"
            ],
            "image/png": "[encoded data removed]"
          },
          "metadata": {}
        }
      ]
    },
    {
      "cell_type": "markdown",
      "source": [
        "### Si on regarde ici on verra qu'il y a\n",
        "### Half-True represente par 2 ---> 2114 Documents\n",
        "### False represente par 1 ---------> 1995 Documents\n",
        "### Mostly-True represente par 3----> 1962 Documents\n",
        "### Barely-True represente par 0 ---> 1654 Documents\n",
        "### Not-Known represente par 4 -----> 839 Documents\n",
        "### True represente par 5 ----------> 1676 Documents"
      ],
      "metadata": {
        "id": "jFCE9t-R4Jj-"
      }
    },
    {
      "cell_type": "code",
      "source": [
        "_= data.Labels.value_counts().plot(kind='bar')"
      ],
      "metadata": {
        "colab": {
          "base_uri": "https://localhost:8080/",
          "height": 459
        },
        "id": "0rcROuex4EOC",
        "outputId": "74f2c06b-16db-45e3-c561-b8bdc8edc495"
      },
      "execution_count": null,
      "outputs": [
        {
          "output_type": "display_data",
          "data": {
            "text/plain": [
              "<Figure size 842.4x595.44 with 1 Axes>"
            ],
            "image/png": "[encoded data removed]"
          },
          "metadata": {}
        }
      ]
    },
    {
      "cell_type": "code",
      "source": [
        "# Regardons une ligne de nos données\n",
        "data['Text'][0], 'Classe :', data['Labels'][0]"
      ],
      "metadata": {
        "colab": {
          "base_uri": "https://localhost:8080/"
        },
        "id": "5RoRNgyj4iTL",
        "outputId": "d69a2dfc-d03c-462d-8744-cef73157fd89"
      },
      "execution_count": null,
      "outputs": [
        {
          "output_type": "execute_result",
          "data": {
            "text/plain": [
              "('Says the Annies List political group supports third-trimester abortions on demand.',\n",
              " 'Classe :',\n",
              " 1)"
            ]
          },
          "metadata": {},
          "execution_count": 10
        }
      ]
    },
    {
      "cell_type": "code",
      "source": [
        "# Une autre phrase\n",
        "data['Text'][6], 'Classe :', data['Labels'][6]"
      ],
      "metadata": {
        "colab": {
          "base_uri": "https://localhost:8080/"
        },
        "id": "17LaUJ-t43zc",
        "outputId": "45d8c028-7ed0-4dc4-99c4-0577de9de2c1"
      },
      "execution_count": null,
      "outputs": [
        {
          "output_type": "execute_result",
          "data": {
            "text/plain": [
              "('Jim Dunnam has not lived in the district he represents for years now.',\n",
              " 'Classe :',\n",
              " 0)"
            ]
          },
          "metadata": {},
          "execution_count": 11
        }
      ]
    },
    {
      "cell_type": "markdown",
      "source": [
        "#Le word embedding d'un mot peut être récupérée en utilisant la bibliothèque spaCy."
      ],
      "metadata": {
        "id": "UxT8ThSJYHrS"
      }
    },
    {
      "cell_type": "code",
      "source": [
        "!pip3 install spacy\n",
        "!python3 -m spacy download en_core_web_sm"
      ],
      "metadata": {
        "id": "TIy8oubt-y7-"
      },
      "execution_count": null,
      "outputs": []
    },
    {
      "cell_type": "code",
      "source": [
        "import spacy\n",
        "import string"
      ],
      "metadata": {
        "id": "VHIJaUfl_AKE"
      },
      "execution_count": null,
      "outputs": []
    },
    {
      "cell_type": "code",
      "source": [
        "nlp = spacy.load(\"en_core_web_sm\") # chargeons le modèle en anglais en_core_web_sm\n",
        "\n",
        "spacy_stopwords = list(spacy.lang.en.stop_words.STOP_WORDS) # Affichons la liste des mots vides de SpaCy\n",
        "\n",
        "punctuation = list(string.punctuation) # Affichons une liste avec ponctuations\n",
        "\n",
        "spacy_stopwords[:10], punctuation[:10]"
      ],
      "metadata": {
        "colab": {
          "base_uri": "https://localhost:8080/"
        },
        "id": "joti2NB0_OEk",
        "outputId": "54419259-a82b-473c-97f1-0b1908d78a41"
      },
      "execution_count": null,
      "outputs": [
        {
          "output_type": "execute_result",
          "data": {
            "text/plain": [
              "(['whereby',\n",
              "  'us',\n",
              "  'latterly',\n",
              "  'rather',\n",
              "  'thereafter',\n",
              "  'above',\n",
              "  'name',\n",
              "  'beside',\n",
              "  'nothing',\n",
              "  '‘d'],\n",
              " ['!', '\"', '#', '$', '%', '&', \"'\", '(', ')', '*'])"
            ]
          },
          "metadata": {},
          "execution_count": 14
        }
      ]
    },
    {
      "cell_type": "markdown",
      "source": [
        "#Étape de prétraitement des données"
      ],
      "metadata": {
        "id": "SyU4B6Hf_1Fh"
      }
    },
    {
      "cell_type": "code",
      "source": [
        "# Création une fonction pour prétraiter nos données\n",
        "\n",
        "def preprocess(phrase):\n",
        "    \n",
        "    tokens = [word.text.replace('\\n', '').strip() for word in nlp(phrase) \n",
        "              if word.text.lower() not in spacy_stopwords + punctuation]\n",
        "    tokens = [token for token in tokens if len(token) > 1]\n",
        "    if len(tokens) > 1:\n",
        "        return tokens\n",
        "    return None\n",
        "\n",
        "data['cleaned_text'] = data['Text'].apply(preprocess)"
      ],
      "metadata": {
        "id": "g9eeVVBC_swl"
      },
      "execution_count": null,
      "outputs": []
    },
    {
      "cell_type": "markdown",
      "source": [
        "##Apres avoir pretraite les donnees en enlevant les retours en ligne les ##espaces devant et deriere, les stopwords, les ponctuations, je crée une nouvelle colonne nommee clean_text et met les donnees pretraitees"
      ],
      "metadata": {
        "id": "3ibFPCZ9AO3o"
      }
    },
    {
      "cell_type": "code",
      "source": [
        "data.head()"
      ],
      "metadata": {
        "colab": {
          "base_uri": "https://localhost:8080/",
          "height": 337
        },
        "id": "8KYvEaE5AIJH",
        "outputId": "a63210d5-d2ef-4686-d19d-92b31b18f326"
      },
      "execution_count": null,
      "outputs": [
        {
          "output_type": "execute_result",
          "data": {
            "text/plain": [
              "   Labels                                               Text  \\\n",
              "0       1  Says the Annies List political group supports ...   \n",
              "1       2  When did the decline of coal start? It started...   \n",
              "2       3  Hillary Clinton agrees with John McCain \"by vo...   \n",
              "3       1  Health care reform legislation is likely to ma...   \n",
              "4       2  The economic turnaround started at the end of ...   \n",
              "\n",
              "                             Text_Tag  \\\n",
              "0                            abortion   \n",
              "1  energy,history,job-accomplishments   \n",
              "2                      foreign-policy   \n",
              "3                         health-care   \n",
              "4                        economy,jobs   \n",
              "\n",
              "                                        cleaned_text  \n",
              "0  [Says, Annies, List, political, group, support...  \n",
              "1  [decline, coal, start, started, natural, gas, ...  \n",
              "2  [Hillary, Clinton, agrees, John, McCain, votin...  \n",
              "3  [Health, care, reform, legislation, likely, ma...  \n",
              "4         [economic, turnaround, started, end, term]  "
            ],
            "text/html": [
              "\n",
              "  <div id=\"df-6a0f6016-ef1a-490d-9ee2-79646eccf148\">\n",
              "    <div class=\"colab-df-container\">\n",
              "      <div>\n",
              "<style scoped>\n",
              "    .dataframe tbody tr th:only-of-type {\n",
              "        vertical-align: middle;\n",
              "    }\n",
              "\n",
              "    .dataframe tbody tr th {\n",
              "        vertical-align: top;\n",
              "    }\n",
              "\n",
              "    .dataframe thead th {\n",
              "        text-align: right;\n",
              "    }\n",
              "</style>\n",
              "<table border=\"1\" class=\"dataframe\">\n",
              "  <thead>\n",
              "    <tr style=\"text-align: right;\">\n",
              "      <th></th>\n",
              "      <th>Labels</th>\n",
              "      <th>Text</th>\n",
              "      <th>Text_Tag</th>\n",
              "      <th>cleaned_text</th>\n",
              "    </tr>\n",
              "  </thead>\n",
              "  <tbody>\n",
              "    <tr>\n",
              "      <th>0</th>\n",
              "      <td>1</td>\n",
              "      <td>Says the Annies List political group supports ...</td>\n",
              "      <td>abortion</td>\n",
              "      <td>[Says, Annies, List, political, group, support...</td>\n",
              "    </tr>\n",
              "    <tr>\n",
              "      <th>1</th>\n",
              "      <td>2</td>\n",
              "      <td>When did the decline of coal start? It started...</td>\n",
              "      <td>energy,history,job-accomplishments</td>\n",
              "      <td>[decline, coal, start, started, natural, gas, ...</td>\n",
              "    </tr>\n",
              "    <tr>\n",
              "      <th>2</th>\n",
              "      <td>3</td>\n",
              "      <td>Hillary Clinton agrees with John McCain \"by vo...</td>\n",
              "      <td>foreign-policy</td>\n",
              "      <td>[Hillary, Clinton, agrees, John, McCain, votin...</td>\n",
              "    </tr>\n",
              "    <tr>\n",
              "      <th>3</th>\n",
              "      <td>1</td>\n",
              "      <td>Health care reform legislation is likely to ma...</td>\n",
              "      <td>health-care</td>\n",
              "      <td>[Health, care, reform, legislation, likely, ma...</td>\n",
              "    </tr>\n",
              "    <tr>\n",
              "      <th>4</th>\n",
              "      <td>2</td>\n",
              "      <td>The economic turnaround started at the end of ...</td>\n",
              "      <td>economy,jobs</td>\n",
              "      <td>[economic, turnaround, started, end, term]</td>\n",
              "    </tr>\n",
              "  </tbody>\n",
              "</table>\n",
              "</div>\n",
              "      <button class=\"colab-df-convert\" onclick=\"convertToInteractive('df-6a0f6016-ef1a-490d-9ee2-79646eccf148')\"\n",
              "              title=\"Convert this dataframe to an interactive table.\"\n",
              "              style=\"display:none;\">\n",
              "        \n",
              "  <svg xmlns=\"http://www.w3.org/2000/svg\" height=\"24px\"viewBox=\"0 0 24 24\"\n",
              "       width=\"24px\">\n",
              "    <path d=\"M0 0h24v24H0V0z\" fill=\"none\"/>\n",
              "    <path d=\"M18.56 5.44l.94 2.06.94-2.06 2.06-.94-2.06-.94-.94-2.06-.94 2.06-2.06.94zm-11 1L8.5 8.5l.94-2.06 2.06-.94-2.06-.94L8.5 2.5l-.94 2.06-2.06.94zm10 10l.94 2.06.94-2.06 2.06-.94-2.06-.94-.94-2.06-.94 2.06-2.06.94z\"/><path d=\"M17.41 7.96l-1.37-1.37c-.4-.4-.92-.59-1.43-.59-.52 0-1.04.2-1.43.59L10.3 9.45l-7.72 7.72c-.78.78-.78 2.05 0 2.83L4 21.41c.39.39.9.59 1.41.59.51 0 1.02-.2 1.41-.59l7.78-7.78 2.81-2.81c.8-.78.8-2.07 0-2.86zM5.41 20L4 18.59l7.72-7.72 1.47 1.35L5.41 20z\"/>\n",
              "  </svg>\n",
              "      </button>\n",
              "      \n",
              "  <style>\n",
              "    .colab-df-container {\n",
              "      display:flex;\n",
              "      flex-wrap:wrap;\n",
              "      gap: 12px;\n",
              "    }\n",
              "\n",
              "    .colab-df-convert {\n",
              "      background-color: #E8F0FE;\n",
              "      border: none;\n",
              "      border-radius: 50%;\n",
              "      cursor: pointer;\n",
              "      display: none;\n",
              "      fill: #1967D2;\n",
              "      height: 32px;\n",
              "      padding: 0 0 0 0;\n",
              "      width: 32px;\n",
              "    }\n",
              "\n",
              "    .colab-df-convert:hover {\n",
              "      background-color: #E2EBFA;\n",
              "      box-shadow: 0px 1px 2px rgba(60, 64, 67, 0.3), 0px 1px 3px 1px rgba(60, 64, 67, 0.15);\n",
              "      fill: #174EA6;\n",
              "    }\n",
              "\n",
              "    [theme=dark] .colab-df-convert {\n",
              "      background-color: #3B4455;\n",
              "      fill: #D2E3FC;\n",
              "    }\n",
              "\n",
              "    [theme=dark] .colab-df-convert:hover {\n",
              "      background-color: #434B5C;\n",
              "      box-shadow: 0px 1px 3px 1px rgba(0, 0, 0, 0.15);\n",
              "      filter: drop-shadow(0px 1px 2px rgba(0, 0, 0, 0.3));\n",
              "      fill: #FFFFFF;\n",
              "    }\n",
              "  </style>\n",
              "\n",
              "      <script>\n",
              "        const buttonEl =\n",
              "          document.querySelector('#df-6a0f6016-ef1a-490d-9ee2-79646eccf148 button.colab-df-convert');\n",
              "        buttonEl.style.display =\n",
              "          google.colab.kernel.accessAllowed ? 'block' : 'none';\n",
              "\n",
              "        async function convertToInteractive(key) {\n",
              "          const element = document.querySelector('#df-6a0f6016-ef1a-490d-9ee2-79646eccf148');\n",
              "          const dataTable =\n",
              "            await google.colab.kernel.invokeFunction('convertToInteractive',\n",
              "                                                     [key], {});\n",
              "          if (!dataTable) return;\n",
              "\n",
              "          const docLinkHtml = 'Like what you see? Visit the ' +\n",
              "            '<a target=\"_blank\" href=https://colab.research.google.com/notebooks/data_table.ipynb>data table notebook</a>'\n",
              "            + ' to learn more about interactive tables.';\n",
              "          element.innerHTML = '';\n",
              "          dataTable['output_type'] = 'display_data';\n",
              "          await google.colab.output.renderOutput(dataTable, element);\n",
              "          const docLink = document.createElement('div');\n",
              "          docLink.innerHTML = docLinkHtml;\n",
              "          element.appendChild(docLink);\n",
              "        }\n",
              "      </script>\n",
              "    </div>\n",
              "  </div>\n",
              "  "
            ]
          },
          "metadata": {},
          "execution_count": 16
        }
      ]
    },
    {
      "cell_type": "markdown",
      "source": [
        "#verifions s'il y a des documents vides afin de les jetter"
      ],
      "metadata": {
        "id": "57X5hBz7Asuw"
      }
    },
    {
      "cell_type": "code",
      "source": [
        "data['cleaned_text'].isnull().sum()"
      ],
      "metadata": {
        "colab": {
          "base_uri": "https://localhost:8080/"
        },
        "id": "39oQ1G7_AnDM",
        "outputId": "83e21e53-93d9-43db-e495-8e7423643912"
      },
      "execution_count": null,
      "outputs": [
        {
          "output_type": "execute_result",
          "data": {
            "text/plain": [
              "0"
            ]
          },
          "metadata": {},
          "execution_count": 58
        }
      ]
    },
    {
      "cell_type": "code",
      "source": [
        "data['cleaned_text'][1][:10]"
      ],
      "metadata": {
        "colab": {
          "base_uri": "https://localhost:8080/"
        },
        "id": "gJaUPsd8AlQD",
        "outputId": "adfb4038-5b76-4a52-e40c-6f6af220fbe5"
      },
      "execution_count": null,
      "outputs": [
        {
          "output_type": "execute_result",
          "data": {
            "text/plain": [
              "['decline',\n",
              " 'coal',\n",
              " 'start',\n",
              " 'started',\n",
              " 'natural',\n",
              " 'gas',\n",
              " 'took',\n",
              " 'started',\n",
              " 'begin',\n",
              " 'President']"
            ]
          },
          "metadata": {},
          "execution_count": 17
        }
      ]
    },
    {
      "cell_type": "markdown",
      "source": [
        "#Comme il y en a 12 documents vides on va les jetter"
      ],
      "metadata": {
        "id": "vvdd6vupBJ2g"
      }
    },
    {
      "cell_type": "code",
      "source": [
        "data.dropna(subset=['cleaned_text'], inplace=True)"
      ],
      "metadata": {
        "id": "cdSleemPAm_z"
      },
      "execution_count": null,
      "outputs": []
    },
    {
      "cell_type": "markdown",
      "source": [
        "#faisons une petite verication"
      ],
      "metadata": {
        "id": "2FZrnZleBXrg"
      }
    },
    {
      "cell_type": "code",
      "source": [
        "data['cleaned_text'].isnull().sum()"
      ],
      "metadata": {
        "colab": {
          "base_uri": "https://localhost:8080/"
        },
        "id": "Bv8Fe1PUBD_T",
        "outputId": "39d7e2e9-6587-49f6-c03d-483502f64c90"
      },
      "execution_count": null,
      "outputs": [
        {
          "output_type": "execute_result",
          "data": {
            "text/plain": [
              "0"
            ]
          },
          "metadata": {},
          "execution_count": 20
        }
      ]
    },
    {
      "cell_type": "markdown",
      "source": [
        "verifions la longueur de notre nouvau jeu de donnee ce qui nous le nombre de documents qui y existe"
      ],
      "metadata": {
        "id": "zLBKVHIXCX0d"
      }
    },
    {
      "cell_type": "code",
      "source": [
        "len(data)"
      ],
      "metadata": {
        "colab": {
          "base_uri": "https://localhost:8080/"
        },
        "id": "bssOksFRAm7Y",
        "outputId": "4174c763-3f95-4ccf-d1a3-4ba1a47bac4f"
      },
      "execution_count": null,
      "outputs": [
        {
          "output_type": "execute_result",
          "data": {
            "text/plain": [
              "10228"
            ]
          },
          "metadata": {},
          "execution_count": 21
        }
      ]
    },
    {
      "cell_type": "markdown",
      "source": [
        "#Vérifions le nombre de mot de quelques document de notre jeu de donnnée"
      ],
      "metadata": {
        "id": "CBd_k9cZDEUk"
      }
    },
    {
      "cell_type": "code",
      "source": [
        "data['document_length'] = data['cleaned_text'].apply(lambda tokens: len(tokens))\n",
        "data['document_length']"
      ],
      "metadata": {
        "colab": {
          "base_uri": "https://localhost:8080/"
        },
        "id": "MZ59Jp_vAm3n",
        "outputId": "53fe170f-4753-4b1a-c2bb-36cc5d2727ad"
      },
      "execution_count": null,
      "outputs": [
        {
          "output_type": "execute_result",
          "data": {
            "text/plain": [
              "0         9\n",
              "1        14\n",
              "2        11\n",
              "3        10\n",
              "4         5\n",
              "         ..\n",
              "10235     8\n",
              "10236     6\n",
              "10237    15\n",
              "10238     7\n",
              "10239    14\n",
              "Name: document_length, Length: 10228, dtype: int64"
            ]
          },
          "metadata": {},
          "execution_count": 22
        }
      ]
    },
    {
      "cell_type": "code",
      "source": [
        "max(data['document_length'])"
      ],
      "metadata": {
        "colab": {
          "base_uri": "https://localhost:8080/"
        },
        "id": "RPofCOiVAmUK",
        "outputId": "339261bb-c17c-46f2-f616-a800f42a2492"
      },
      "execution_count": null,
      "outputs": [
        {
          "output_type": "execute_result",
          "data": {
            "text/plain": [
              "332"
            ]
          },
          "metadata": {},
          "execution_count": 23
        }
      ]
    },
    {
      "cell_type": "markdown",
      "source": [
        "#le plus long mon jeu de donnees et on constate qu'il contient 332 Documents"
      ],
      "metadata": {
        "id": "XwAIw242EKqS"
      }
    },
    {
      "cell_type": "markdown",
      "source": [
        "#Ici je fais deux choses je trie les donnees dans le tableau documment_length puis j'affichishe les 5 lignes du tableau qui ont le plus petit nombre de mots"
      ],
      "metadata": {
        "id": "ifK0lP_FEeGn"
      }
    },
    {
      "cell_type": "code",
      "source": [
        "data.sort_values('document_length', inplace=True)\n",
        "data.head()"
      ],
      "metadata": {
        "colab": {
          "base_uri": "https://localhost:8080/",
          "height": 320
        },
        "id": "YlOWtnzhEA5X",
        "outputId": "ad158522-a950-42de-a6c1-cc38631f1198"
      },
      "execution_count": null,
      "outputs": [
        {
          "output_type": "execute_result",
          "data": {
            "text/plain": [
              "      Labels                             Text                      Text_Tag  \\\n",
              "8642       5                  On oil drilling            energy,environment   \n",
              "4728       1  The Chinese are there in Syria.       foreign-policy,military   \n",
              "298        3     Immigrants are more fertile.                   immigration   \n",
              "4868       0         Congress is on vacation.  congress,congressional-rules   \n",
              "5724       0        I released all my emails.          candidates-biography   \n",
              "\n",
              "               cleaned_text  document_length  \n",
              "8642        [oil, drilling]                2  \n",
              "4728       [Chinese, Syria]                2  \n",
              "298   [Immigrants, fertile]                2  \n",
              "4868   [Congress, vacation]                2  \n",
              "5724     [released, emails]                2  "
            ],
            "text/html": [
              "\n",
              "  <div id=\"df-f80763a7-9a64-4369-8c5e-7b6626379399\">\n",
              "    <div class=\"colab-df-container\">\n",
              "      <div>\n",
              "<style scoped>\n",
              "    .dataframe tbody tr th:only-of-type {\n",
              "        vertical-align: middle;\n",
              "    }\n",
              "\n",
              "    .dataframe tbody tr th {\n",
              "        vertical-align: top;\n",
              "    }\n",
              "\n",
              "    .dataframe thead th {\n",
              "        text-align: right;\n",
              "    }\n",
              "</style>\n",
              "<table border=\"1\" class=\"dataframe\">\n",
              "  <thead>\n",
              "    <tr style=\"text-align: right;\">\n",
              "      <th></th>\n",
              "      <th>Labels</th>\n",
              "      <th>Text</th>\n",
              "      <th>Text_Tag</th>\n",
              "      <th>cleaned_text</th>\n",
              "      <th>document_length</th>\n",
              "    </tr>\n",
              "  </thead>\n",
              "  <tbody>\n",
              "    <tr>\n",
              "      <th>8642</th>\n",
              "      <td>5</td>\n",
              "      <td>On oil drilling</td>\n",
              "      <td>energy,environment</td>\n",
              "      <td>[oil, drilling]</td>\n",
              "      <td>2</td>\n",
              "    </tr>\n",
              "    <tr>\n",
              "      <th>4728</th>\n",
              "      <td>1</td>\n",
              "      <td>The Chinese are there in Syria.</td>\n",
              "      <td>foreign-policy,military</td>\n",
              "      <td>[Chinese, Syria]</td>\n",
              "      <td>2</td>\n",
              "    </tr>\n",
              "    <tr>\n",
              "      <th>298</th>\n",
              "      <td>3</td>\n",
              "      <td>Immigrants are more fertile.</td>\n",
              "      <td>immigration</td>\n",
              "      <td>[Immigrants, fertile]</td>\n",
              "      <td>2</td>\n",
              "    </tr>\n",
              "    <tr>\n",
              "      <th>4868</th>\n",
              "      <td>0</td>\n",
              "      <td>Congress is on vacation.</td>\n",
              "      <td>congress,congressional-rules</td>\n",
              "      <td>[Congress, vacation]</td>\n",
              "      <td>2</td>\n",
              "    </tr>\n",
              "    <tr>\n",
              "      <th>5724</th>\n",
              "      <td>0</td>\n",
              "      <td>I released all my emails.</td>\n",
              "      <td>candidates-biography</td>\n",
              "      <td>[released, emails]</td>\n",
              "      <td>2</td>\n",
              "    </tr>\n",
              "  </tbody>\n",
              "</table>\n",
              "</div>\n",
              "      <button class=\"colab-df-convert\" onclick=\"convertToInteractive('df-f80763a7-9a64-4369-8c5e-7b6626379399')\"\n",
              "              title=\"Convert this dataframe to an interactive table.\"\n",
              "              style=\"display:none;\">\n",
              "        \n",
              "  <svg xmlns=\"http://www.w3.org/2000/svg\" height=\"24px\"viewBox=\"0 0 24 24\"\n",
              "       width=\"24px\">\n",
              "    <path d=\"M0 0h24v24H0V0z\" fill=\"none\"/>\n",
              "    <path d=\"M18.56 5.44l.94 2.06.94-2.06 2.06-.94-2.06-.94-.94-2.06-.94 2.06-2.06.94zm-11 1L8.5 8.5l.94-2.06 2.06-.94-2.06-.94L8.5 2.5l-.94 2.06-2.06.94zm10 10l.94 2.06.94-2.06 2.06-.94-2.06-.94-.94-2.06-.94 2.06-2.06.94z\"/><path d=\"M17.41 7.96l-1.37-1.37c-.4-.4-.92-.59-1.43-.59-.52 0-1.04.2-1.43.59L10.3 9.45l-7.72 7.72c-.78.78-.78 2.05 0 2.83L4 21.41c.39.39.9.59 1.41.59.51 0 1.02-.2 1.41-.59l7.78-7.78 2.81-2.81c.8-.78.8-2.07 0-2.86zM5.41 20L4 18.59l7.72-7.72 1.47 1.35L5.41 20z\"/>\n",
              "  </svg>\n",
              "      </button>\n",
              "      \n",
              "  <style>\n",
              "    .colab-df-container {\n",
              "      display:flex;\n",
              "      flex-wrap:wrap;\n",
              "      gap: 12px;\n",
              "    }\n",
              "\n",
              "    .colab-df-convert {\n",
              "      background-color: #E8F0FE;\n",
              "      border: none;\n",
              "      border-radius: 50%;\n",
              "      cursor: pointer;\n",
              "      display: none;\n",
              "      fill: #1967D2;\n",
              "      height: 32px;\n",
              "      padding: 0 0 0 0;\n",
              "      width: 32px;\n",
              "    }\n",
              "\n",
              "    .colab-df-convert:hover {\n",
              "      background-color: #E2EBFA;\n",
              "      box-shadow: 0px 1px 2px rgba(60, 64, 67, 0.3), 0px 1px 3px 1px rgba(60, 64, 67, 0.15);\n",
              "      fill: #174EA6;\n",
              "    }\n",
              "\n",
              "    [theme=dark] .colab-df-convert {\n",
              "      background-color: #3B4455;\n",
              "      fill: #D2E3FC;\n",
              "    }\n",
              "\n",
              "    [theme=dark] .colab-df-convert:hover {\n",
              "      background-color: #434B5C;\n",
              "      box-shadow: 0px 1px 3px 1px rgba(0, 0, 0, 0.15);\n",
              "      filter: drop-shadow(0px 1px 2px rgba(0, 0, 0, 0.3));\n",
              "      fill: #FFFFFF;\n",
              "    }\n",
              "  </style>\n",
              "\n",
              "      <script>\n",
              "        const buttonEl =\n",
              "          document.querySelector('#df-f80763a7-9a64-4369-8c5e-7b6626379399 button.colab-df-convert');\n",
              "        buttonEl.style.display =\n",
              "          google.colab.kernel.accessAllowed ? 'block' : 'none';\n",
              "\n",
              "        async function convertToInteractive(key) {\n",
              "          const element = document.querySelector('#df-f80763a7-9a64-4369-8c5e-7b6626379399');\n",
              "          const dataTable =\n",
              "            await google.colab.kernel.invokeFunction('convertToInteractive',\n",
              "                                                     [key], {});\n",
              "          if (!dataTable) return;\n",
              "\n",
              "          const docLinkHtml = 'Like what you see? Visit the ' +\n",
              "            '<a target=\"_blank\" href=https://colab.research.google.com/notebooks/data_table.ipynb>data table notebook</a>'\n",
              "            + ' to learn more about interactive tables.';\n",
              "          element.innerHTML = '';\n",
              "          dataTable['output_type'] = 'display_data';\n",
              "          await google.colab.output.renderOutput(dataTable, element);\n",
              "          const docLink = document.createElement('div');\n",
              "          docLink.innerHTML = docLinkHtml;\n",
              "          element.appendChild(docLink);\n",
              "        }\n",
              "      </script>\n",
              "    </div>\n",
              "  </div>\n",
              "  "
            ]
          },
          "metadata": {},
          "execution_count": 24
        }
      ]
    },
    {
      "cell_type": "markdown",
      "source": [
        "#Ici j'affiche les 5 dernieres lignes celle qui ont le plus grand nombre de mots"
      ],
      "metadata": {
        "id": "Ppwm5plyFMv2"
      }
    },
    {
      "cell_type": "code",
      "source": [
        "data.tail()"
      ],
      "metadata": {
        "colab": {
          "base_uri": "https://localhost:8080/",
          "height": 510
        },
        "id": "Ng3XgmzQEjZd",
        "outputId": "e539cba0-3787-4539-9c28-bd1e3cda742a"
      },
      "execution_count": null,
      "outputs": [
        {
          "output_type": "execute_result",
          "data": {
            "text/plain": [
              "      Labels                                               Text  \\\n",
              "9962       3  Barbara Buono by the numbers: As a Trenton pol...   \n",
              "2142       1  The fact is that although we have had a presid...   \n",
              "6119       5  Georgia has the most restrictive ballot access...   \n",
              "7550       1  The vast majority of the money I got was from ...   \n",
              "1280       3  Hospitals, doctors, MRIs, surgeries and so for...   \n",
              "\n",
              "                                    Text_Tag  \\\n",
              "9962  debt,state-budget,state-finances,taxes   \n",
              "2142                                     NaN   \n",
              "6119                                   crime   \n",
              "7550                 stimulus,transportation   \n",
              "1280                 elections,ethics,states   \n",
              "\n",
              "                                           cleaned_text  document_length  \n",
              "9962  [Barbara, Buono, numbers, Trenton, politician,...               46  \n",
              "2142  [fact, president, opposed, abortion, years, ab...               54  \n",
              "6119  [Georgia, restrictive, ballot, access, laws, c...              173  \n",
              "7550  [vast, majority, money, got, small, donors, co...              243  \n",
              "1280  [Hospitals, doctors, MRIs, surgeries, forth, e...              332  "
            ],
            "text/html": [
              "\n",
              "  <div id=\"df-fbc36492-766e-494c-8092-48a3e9610fe9\">\n",
              "    <div class=\"colab-df-container\">\n",
              "      <div>\n",
              "<style scoped>\n",
              "    .dataframe tbody tr th:only-of-type {\n",
              "        vertical-align: middle;\n",
              "    }\n",
              "\n",
              "    .dataframe tbody tr th {\n",
              "        vertical-align: top;\n",
              "    }\n",
              "\n",
              "    .dataframe thead th {\n",
              "        text-align: right;\n",
              "    }\n",
              "</style>\n",
              "<table border=\"1\" class=\"dataframe\">\n",
              "  <thead>\n",
              "    <tr style=\"text-align: right;\">\n",
              "      <th></th>\n",
              "      <th>Labels</th>\n",
              "      <th>Text</th>\n",
              "      <th>Text_Tag</th>\n",
              "      <th>cleaned_text</th>\n",
              "      <th>document_length</th>\n",
              "    </tr>\n",
              "  </thead>\n",
              "  <tbody>\n",
              "    <tr>\n",
              "      <th>9962</th>\n",
              "      <td>3</td>\n",
              "      <td>Barbara Buono by the numbers: As a Trenton pol...</td>\n",
              "      <td>debt,state-budget,state-finances,taxes</td>\n",
              "      <td>[Barbara, Buono, numbers, Trenton, politician,...</td>\n",
              "      <td>46</td>\n",
              "    </tr>\n",
              "    <tr>\n",
              "      <th>2142</th>\n",
              "      <td>1</td>\n",
              "      <td>The fact is that although we have had a presid...</td>\n",
              "      <td>NaN</td>\n",
              "      <td>[fact, president, opposed, abortion, years, ab...</td>\n",
              "      <td>54</td>\n",
              "    </tr>\n",
              "    <tr>\n",
              "      <th>6119</th>\n",
              "      <td>5</td>\n",
              "      <td>Georgia has the most restrictive ballot access...</td>\n",
              "      <td>crime</td>\n",
              "      <td>[Georgia, restrictive, ballot, access, laws, c...</td>\n",
              "      <td>173</td>\n",
              "    </tr>\n",
              "    <tr>\n",
              "      <th>7550</th>\n",
              "      <td>1</td>\n",
              "      <td>The vast majority of the money I got was from ...</td>\n",
              "      <td>stimulus,transportation</td>\n",
              "      <td>[vast, majority, money, got, small, donors, co...</td>\n",
              "      <td>243</td>\n",
              "    </tr>\n",
              "    <tr>\n",
              "      <th>1280</th>\n",
              "      <td>3</td>\n",
              "      <td>Hospitals, doctors, MRIs, surgeries and so for...</td>\n",
              "      <td>elections,ethics,states</td>\n",
              "      <td>[Hospitals, doctors, MRIs, surgeries, forth, e...</td>\n",
              "      <td>332</td>\n",
              "    </tr>\n",
              "  </tbody>\n",
              "</table>\n",
              "</div>\n",
              "      <button class=\"colab-df-convert\" onclick=\"convertToInteractive('df-fbc36492-766e-494c-8092-48a3e9610fe9')\"\n",
              "              title=\"Convert this dataframe to an interactive table.\"\n",
              "              style=\"display:none;\">\n",
              "        \n",
              "  <svg xmlns=\"http://www.w3.org/2000/svg\" height=\"24px\"viewBox=\"0 0 24 24\"\n",
              "       width=\"24px\">\n",
              "    <path d=\"M0 0h24v24H0V0z\" fill=\"none\"/>\n",
              "    <path d=\"M18.56 5.44l.94 2.06.94-2.06 2.06-.94-2.06-.94-.94-2.06-.94 2.06-2.06.94zm-11 1L8.5 8.5l.94-2.06 2.06-.94-2.06-.94L8.5 2.5l-.94 2.06-2.06.94zm10 10l.94 2.06.94-2.06 2.06-.94-2.06-.94-.94-2.06-.94 2.06-2.06.94z\"/><path d=\"M17.41 7.96l-1.37-1.37c-.4-.4-.92-.59-1.43-.59-.52 0-1.04.2-1.43.59L10.3 9.45l-7.72 7.72c-.78.78-.78 2.05 0 2.83L4 21.41c.39.39.9.59 1.41.59.51 0 1.02-.2 1.41-.59l7.78-7.78 2.81-2.81c.8-.78.8-2.07 0-2.86zM5.41 20L4 18.59l7.72-7.72 1.47 1.35L5.41 20z\"/>\n",
              "  </svg>\n",
              "      </button>\n",
              "      \n",
              "  <style>\n",
              "    .colab-df-container {\n",
              "      display:flex;\n",
              "      flex-wrap:wrap;\n",
              "      gap: 12px;\n",
              "    }\n",
              "\n",
              "    .colab-df-convert {\n",
              "      background-color: #E8F0FE;\n",
              "      border: none;\n",
              "      border-radius: 50%;\n",
              "      cursor: pointer;\n",
              "      display: none;\n",
              "      fill: #1967D2;\n",
              "      height: 32px;\n",
              "      padding: 0 0 0 0;\n",
              "      width: 32px;\n",
              "    }\n",
              "\n",
              "    .colab-df-convert:hover {\n",
              "      background-color: #E2EBFA;\n",
              "      box-shadow: 0px 1px 2px rgba(60, 64, 67, 0.3), 0px 1px 3px 1px rgba(60, 64, 67, 0.15);\n",
              "      fill: #174EA6;\n",
              "    }\n",
              "\n",
              "    [theme=dark] .colab-df-convert {\n",
              "      background-color: #3B4455;\n",
              "      fill: #D2E3FC;\n",
              "    }\n",
              "\n",
              "    [theme=dark] .colab-df-convert:hover {\n",
              "      background-color: #434B5C;\n",
              "      box-shadow: 0px 1px 3px 1px rgba(0, 0, 0, 0.15);\n",
              "      filter: drop-shadow(0px 1px 2px rgba(0, 0, 0, 0.3));\n",
              "      fill: #FFFFFF;\n",
              "    }\n",
              "  </style>\n",
              "\n",
              "      <script>\n",
              "        const buttonEl =\n",
              "          document.querySelector('#df-fbc36492-766e-494c-8092-48a3e9610fe9 button.colab-df-convert');\n",
              "        buttonEl.style.display =\n",
              "          google.colab.kernel.accessAllowed ? 'block' : 'none';\n",
              "\n",
              "        async function convertToInteractive(key) {\n",
              "          const element = document.querySelector('#df-fbc36492-766e-494c-8092-48a3e9610fe9');\n",
              "          const dataTable =\n",
              "            await google.colab.kernel.invokeFunction('convertToInteractive',\n",
              "                                                     [key], {});\n",
              "          if (!dataTable) return;\n",
              "\n",
              "          const docLinkHtml = 'Like what you see? Visit the ' +\n",
              "            '<a target=\"_blank\" href=https://colab.research.google.com/notebooks/data_table.ipynb>data table notebook</a>'\n",
              "            + ' to learn more about interactive tables.';\n",
              "          element.innerHTML = '';\n",
              "          dataTable['output_type'] = 'display_data';\n",
              "          await google.colab.output.renderOutput(dataTable, element);\n",
              "          const docLink = document.createElement('div');\n",
              "          docLink.innerHTML = docLinkHtml;\n",
              "          element.appendChild(docLink);\n",
              "        }\n",
              "      </script>\n",
              "    </div>\n",
              "  </div>\n",
              "  "
            ]
          },
          "metadata": {},
          "execution_count": 25
        }
      ]
    },
    {
      "cell_type": "markdown",
      "source": [
        "#Affichons un histogramme de notre colonne qui contient les documents nettroyés"
      ],
      "metadata": {
        "id": "42i4wI2_Flz_"
      }
    },
    {
      "cell_type": "code",
      "source": [
        "_ = data.plot(y='document_length', kind='hist')"
      ],
      "metadata": {
        "colab": {
          "base_uri": "https://localhost:8080/",
          "height": 447
        },
        "id": "ZeOq3crLE-Jv",
        "outputId": "fb4ac01a-814b-405d-f7b5-ac0553f0ff90"
      },
      "execution_count": null,
      "outputs": [
        {
          "output_type": "display_data",
          "data": {
            "text/plain": [
              "<Figure size 842.4x595.44 with 1 Axes>"
            ],
            "image/png": "[encoded data removed]"
          },
          "metadata": {}
        }
      ]
    },
    {
      "cell_type": "markdown",
      "source": [
        "#Essayons maintenant d'extraire les trigrammes"
      ],
      "metadata": {
        "id": "H3N5LBbZFyPG"
      }
    },
    {
      "cell_type": "code",
      "source": [
        "import nltk\n",
        "import numpy as np\n",
        "\n",
        "list(nltk.ngrams(np.hstack(data['cleaned_text']), 3))[:10]"
      ],
      "metadata": {
        "colab": {
          "base_uri": "https://localhost:8080/"
        },
        "id": "8o-6exijE-Gw",
        "outputId": "caa1092b-2155-49b0-b56f-b57f4baada74"
      },
      "execution_count": null,
      "outputs": [
        {
          "output_type": "execute_result",
          "data": {
            "text/plain": [
              "[('oil', 'drilling', 'Chinese'),\n",
              " ('drilling', 'Chinese', 'Syria'),\n",
              " ('Chinese', 'Syria', 'Immigrants'),\n",
              " ('Syria', 'Immigrants', 'fertile'),\n",
              " ('Immigrants', 'fertile', 'Congress'),\n",
              " ('fertile', 'Congress', 'vacation'),\n",
              " ('Congress', 'vacation', 'released'),\n",
              " ('vacation', 'released', 'emails'),\n",
              " ('released', 'emails', 'Crime'),\n",
              " ('emails', 'Crime', 'rising')]"
            ]
          },
          "metadata": {},
          "execution_count": 27
        }
      ]
    },
    {
      "cell_type": "markdown",
      "source": [
        "###Faisons maintenant la lemmatisation pour avoir la forme canonique des mots de notre baseEtant deja dans le meme environnement ou on a deja telecharge averaged_perceptron_tagger, wordnet etc on va juste les imorter et les utilisser a partir d'ici"
      ],
      "metadata": {
        "id": "sMop1kLKGEPn"
      }
    },
    {
      "cell_type": "markdown",
      "source": [
        "#Faisons la lemmatisation, On dit que c'est le processus de regroupement des formes fléchies d'un mot afin qu'elles puissent être analysées comme un seul élément, identifié par le lemme du mot ou la forme du dictionnaire."
      ],
      "metadata": {
        "id": "iLZ3LU-UGlnR"
      }
    },
    {
      "cell_type": "code",
      "source": [
        "import nltk\n",
        "from nltk.corpus import wordnet\n",
        "from nltk.stem.wordnet import WordNetLemmatizer\n",
        "\n",
        "lemmatizer = WordNetLemmatizer()"
      ],
      "metadata": {
        "id": "a2Ic_WgVE-C9"
      },
      "execution_count": null,
      "outputs": []
    },
    {
      "cell_type": "code",
      "source": [
        "nltk.download('averaged_perceptron_tagger')"
      ],
      "metadata": {
        "colab": {
          "base_uri": "https://localhost:8080/"
        },
        "id": "uPRxr1JaE9_V",
        "outputId": "75d19835-2389-493c-dee4-a6d15cafaad1"
      },
      "execution_count": null,
      "outputs": [
        {
          "output_type": "stream",
          "name": "stderr",
          "text": [
            "[nltk_data] Downloading package averaged_perceptron_tagger to\n",
            "[nltk_data]     /root/nltk_data...\n",
            "[nltk_data]   Unzipping taggers/averaged_perceptron_tagger.zip.\n"
          ]
        },
        {
          "output_type": "execute_result",
          "data": {
            "text/plain": [
              "True"
            ]
          },
          "metadata": {},
          "execution_count": 29
        }
      ]
    },
    {
      "cell_type": "markdown",
      "source": [
        "#Post-Tagging"
      ],
      "metadata": {
        "id": "gJLzBhf0GsfU"
      }
    },
    {
      "cell_type": "code",
      "source": [
        "\n",
        "nltk.pos_tag([\"That\", \"was\", \"a\", \"joke\", \"please\", \"forget\", \"that\", \"Vladimir Poutine\"])"
      ],
      "metadata": {
        "colab": {
          "base_uri": "https://localhost:8080/"
        },
        "id": "rp8j-CTIE92a",
        "outputId": "27437350-55be-4e47-d92b-d098a485bc63"
      },
      "execution_count": null,
      "outputs": [
        {
          "output_type": "execute_result",
          "data": {
            "text/plain": [
              "[('That', 'DT'),\n",
              " ('was', 'VBD'),\n",
              " ('a', 'DT'),\n",
              " ('joke', 'NN'),\n",
              " ('please', 'NN'),\n",
              " ('forget', 'VB'),\n",
              " ('that', 'DT'),\n",
              " ('Vladimir Poutine', 'NNP')]"
            ]
          },
          "metadata": {},
          "execution_count": 30
        }
      ]
    },
    {
      "cell_type": "markdown",
      "source": [
        "#On va installer WordNet qui est une base de données lexicale des relations sémantiques entre les mots dans plus de 200 langues"
      ],
      "metadata": {
        "id": "pFpFreFjH76i"
      }
    },
    {
      "cell_type": "code",
      "source": [
        "!python -m nltk.downloader wordnet"
      ],
      "metadata": {
        "colab": {
          "base_uri": "https://localhost:8080/"
        },
        "id": "jfbgv-F5E9nc",
        "outputId": "71460281-3a74-42e7-aa48-ef2cb62c938b"
      },
      "execution_count": null,
      "outputs": [
        {
          "output_type": "stream",
          "name": "stdout",
          "text": [
            "/usr/lib/python3.7/runpy.py:125: RuntimeWarning: 'nltk.downloader' found in sys.modules after import of package 'nltk', but prior to execution of 'nltk.downloader'; this may result in unpredictable behaviour\n",
            "  warn(RuntimeWarning(msg))\n",
            "[nltk_data] Downloading package wordnet to /root/nltk_data...\n",
            "[nltk_data]   Package wordnet is already up-to-date!\n"
          ]
        }
      ]
    },
    {
      "cell_type": "code",
      "source": [
        " import nltk\n",
        "nltk.download('omw-1.4')"
      ],
      "metadata": {
        "colab": {
          "base_uri": "https://localhost:8080/"
        },
        "id": "28o9ZGGiE9bk",
        "outputId": "93309a9c-2582-4c62-efc1-9065d1f040ba"
      },
      "execution_count": null,
      "outputs": [
        {
          "output_type": "stream",
          "name": "stderr",
          "text": [
            "[nltk_data] Downloading package omw-1.4 to /root/nltk_data...\n",
            "[nltk_data]   Package omw-1.4 is already up-to-date!\n"
          ]
        },
        {
          "output_type": "execute_result",
          "data": {
            "text/plain": [
              "True"
            ]
          },
          "metadata": {},
          "execution_count": 63
        }
      ]
    },
    {
      "cell_type": "code",
      "source": [
        "print(\"mom :\", lemmatizer.lemmatize(\"mom\", pos=wordnet.NOUN))\n",
        "print(\"worst : \", lemmatizer.lemmatize(\"worst\", pos=wordnet.ADJ))"
      ],
      "metadata": {
        "colab": {
          "base_uri": "https://localhost:8080/"
        },
        "id": "i8CvlK3QE9YL",
        "outputId": "456105ef-3665-4157-84c8-c285a49e815d"
      },
      "execution_count": null,
      "outputs": [
        {
          "output_type": "stream",
          "name": "stdout",
          "text": [
            "mom : mom\n",
            "worst :  bad\n"
          ]
        }
      ]
    },
    {
      "cell_type": "markdown",
      "source": [
        "#La tokenisation"
      ],
      "metadata": {
        "id": "2b6Cp-OqJDob"
      }
    },
    {
      "cell_type": "code",
      "source": [
        "from nltk.tokenize import word_tokenize\n",
        "import nltk\n",
        "nltk.download('punkt')"
      ],
      "metadata": {
        "colab": {
          "base_uri": "https://localhost:8080/"
        },
        "id": "scIKBOeXE9Uy",
        "outputId": "a58fb753-d468-49e1-ef5a-ed0b457d2ad0"
      },
      "execution_count": null,
      "outputs": [
        {
          "output_type": "stream",
          "name": "stderr",
          "text": [
            "[nltk_data] Downloading package punkt to /root/nltk_data...\n",
            "[nltk_data]   Package punkt is already up-to-date!\n"
          ]
        },
        {
          "output_type": "execute_result",
          "data": {
            "text/plain": [
              "True"
            ]
          },
          "metadata": {},
          "execution_count": 64
        }
      ]
    },
    {
      "cell_type": "code",
      "source": [
        "# Ecrivons une fonction de lemmatisation qui agit sur tout le jeu de donnee\n",
        "def preprocess_with_nltk_and_lemmatisation(phrase):\n",
        "    \n",
        "    tokens = [lemmatizer.lemmatize(word.replace('\\n', '').strip(), pos='n') for word in word_tokenize(phrase)]\n",
        "    if len(tokens) > 1:\n",
        "        return tokens\n",
        "    return None\n",
        "\n",
        "data['cleaned_text_nltk_and_lemmatisation'] = data['Text'].apply(preprocess_with_nltk_and_lemmatisation)"
      ],
      "metadata": {
        "id": "EvPMargKE9Ry"
      },
      "execution_count": null,
      "outputs": []
    },
    {
      "cell_type": "markdown",
      "source": [
        "#Ecrivons une fonction qui fait la racinisation"
      ],
      "metadata": {
        "id": "apr5vgedJfRB"
      }
    },
    {
      "cell_type": "code",
      "source": [
        "from nltk.stem.snowball import EnglishStemmer\n",
        "stemmer = EnglishStemmer()"
      ],
      "metadata": {
        "id": "9iV57SBNJQVX"
      },
      "execution_count": null,
      "outputs": []
    },
    {
      "cell_type": "code",
      "source": [
        "print(\"stayed :\", stemmer.stem(\"friendly\"))\n",
        "print(\"friends : \", stemmer.stem(\"laughing\"))\n",
        "print(\"gaming :\", stemmer.stem(\"running\"))"
      ],
      "metadata": {
        "colab": {
          "base_uri": "https://localhost:8080/"
        },
        "id": "_gUXj7G-JeM3",
        "outputId": "7b298602-a467-4cfa-b932-87200d94c8e6"
      },
      "execution_count": null,
      "outputs": [
        {
          "output_type": "stream",
          "name": "stdout",
          "text": [
            "stayed : friend\n",
            "friends :  laugh\n",
            "gaming : run\n"
          ]
        }
      ]
    },
    {
      "cell_type": "code",
      "source": [
        "def preprocess_with_nltk_and_stemming(phrase):\n",
        "    \n",
        "    tokens = [stemmer.stem(word.replace('\\n', '').strip()) for word in word_tokenize(phrase)]\n",
        "    if len(tokens) > 1:\n",
        "        return tokens\n",
        "    return None\n",
        "\n",
        "data['cleaned_text_nltk_and_stemming'] = data['Text'].apply(preprocess_with_nltk_and_stemming)"
      ],
      "metadata": {
        "id": "H1h05id3JnwZ"
      },
      "execution_count": null,
      "outputs": []
    },
    {
      "cell_type": "code",
      "source": [
        "data.head()"
      ],
      "metadata": {
        "colab": {
          "base_uri": "https://localhost:8080/",
          "height": 444
        },
        "id": "kdCzQ_ojJwUK",
        "outputId": "72ce9d7a-fc27-48c6-cb7e-1908aded78fa"
      },
      "execution_count": null,
      "outputs": [
        {
          "output_type": "execute_result",
          "data": {
            "text/plain": [
              "      Labels                             Text                      Text_Tag  \\\n",
              "8642       5                  On oil drilling            energy,environment   \n",
              "4728       1  The Chinese are there in Syria.       foreign-policy,military   \n",
              "298        3     Immigrants are more fertile.                   immigration   \n",
              "4868       0         Congress is on vacation.  congress,congressional-rules   \n",
              "5724       0        I released all my emails.          candidates-biography   \n",
              "\n",
              "               cleaned_text  document_length  \\\n",
              "8642        [oil, drilling]                2   \n",
              "4728       [Chinese, Syria]                2   \n",
              "298   [Immigrants, fertile]                2   \n",
              "4868   [Congress, vacation]                2   \n",
              "5724     [released, emails]                2   \n",
              "\n",
              "           cleaned_text_nltk_and_lemmatisation  \\\n",
              "8642                       [On, oil, drilling]   \n",
              "4728  [The, Chinese, are, there, in, Syria, .]   \n",
              "298        [Immigrants, are, more, fertile, .]   \n",
              "4868           [Congress, is, on, vacation, .]   \n",
              "5724          [I, released, all, my, email, .]   \n",
              "\n",
              "               cleaned_text_nltk_and_stemming  \n",
              "8642                         [on, oil, drill]  \n",
              "4728  [the, chines, are, there, in, syria, .]  \n",
              "298            [immigr, are, more, fertil, .]  \n",
              "4868             [congress, is, on, vacat, .]  \n",
              "5724           [i, releas, all, my, email, .]  "
            ],
            "text/html": [
              "\n",
              "  <div id=\"df-a62759ee-713a-4eac-934c-d494bdeaba5d\">\n",
              "    <div class=\"colab-df-container\">\n",
              "      <div>\n",
              "<style scoped>\n",
              "    .dataframe tbody tr th:only-of-type {\n",
              "        vertical-align: middle;\n",
              "    }\n",
              "\n",
              "    .dataframe tbody tr th {\n",
              "        vertical-align: top;\n",
              "    }\n",
              "\n",
              "    .dataframe thead th {\n",
              "        text-align: right;\n",
              "    }\n",
              "</style>\n",
              "<table border=\"1\" class=\"dataframe\">\n",
              "  <thead>\n",
              "    <tr style=\"text-align: right;\">\n",
              "      <th></th>\n",
              "      <th>Labels</th>\n",
              "      <th>Text</th>\n",
              "      <th>Text_Tag</th>\n",
              "      <th>cleaned_text</th>\n",
              "      <th>document_length</th>\n",
              "      <th>cleaned_text_nltk_and_lemmatisation</th>\n",
              "      <th>cleaned_text_nltk_and_stemming</th>\n",
              "    </tr>\n",
              "  </thead>\n",
              "  <tbody>\n",
              "    <tr>\n",
              "      <th>8642</th>\n",
              "      <td>5</td>\n",
              "      <td>On oil drilling</td>\n",
              "      <td>energy,environment</td>\n",
              "      <td>[oil, drilling]</td>\n",
              "      <td>2</td>\n",
              "      <td>[On, oil, drilling]</td>\n",
              "      <td>[on, oil, drill]</td>\n",
              "    </tr>\n",
              "    <tr>\n",
              "      <th>4728</th>\n",
              "      <td>1</td>\n",
              "      <td>The Chinese are there in Syria.</td>\n",
              "      <td>foreign-policy,military</td>\n",
              "      <td>[Chinese, Syria]</td>\n",
              "      <td>2</td>\n",
              "      <td>[The, Chinese, are, there, in, Syria, .]</td>\n",
              "      <td>[the, chines, are, there, in, syria, .]</td>\n",
              "    </tr>\n",
              "    <tr>\n",
              "      <th>298</th>\n",
              "      <td>3</td>\n",
              "      <td>Immigrants are more fertile.</td>\n",
              "      <td>immigration</td>\n",
              "      <td>[Immigrants, fertile]</td>\n",
              "      <td>2</td>\n",
              "      <td>[Immigrants, are, more, fertile, .]</td>\n",
              "      <td>[immigr, are, more, fertil, .]</td>\n",
              "    </tr>\n",
              "    <tr>\n",
              "      <th>4868</th>\n",
              "      <td>0</td>\n",
              "      <td>Congress is on vacation.</td>\n",
              "      <td>congress,congressional-rules</td>\n",
              "      <td>[Congress, vacation]</td>\n",
              "      <td>2</td>\n",
              "      <td>[Congress, is, on, vacation, .]</td>\n",
              "      <td>[congress, is, on, vacat, .]</td>\n",
              "    </tr>\n",
              "    <tr>\n",
              "      <th>5724</th>\n",
              "      <td>0</td>\n",
              "      <td>I released all my emails.</td>\n",
              "      <td>candidates-biography</td>\n",
              "      <td>[released, emails]</td>\n",
              "      <td>2</td>\n",
              "      <td>[I, released, all, my, email, .]</td>\n",
              "      <td>[i, releas, all, my, email, .]</td>\n",
              "    </tr>\n",
              "  </tbody>\n",
              "</table>\n",
              "</div>\n",
              "      <button class=\"colab-df-convert\" onclick=\"convertToInteractive('df-a62759ee-713a-4eac-934c-d494bdeaba5d')\"\n",
              "              title=\"Convert this dataframe to an interactive table.\"\n",
              "              style=\"display:none;\">\n",
              "        \n",
              "  <svg xmlns=\"http://www.w3.org/2000/svg\" height=\"24px\"viewBox=\"0 0 24 24\"\n",
              "       width=\"24px\">\n",
              "    <path d=\"M0 0h24v24H0V0z\" fill=\"none\"/>\n",
              "    <path d=\"M18.56 5.44l.94 2.06.94-2.06 2.06-.94-2.06-.94-.94-2.06-.94 2.06-2.06.94zm-11 1L8.5 8.5l.94-2.06 2.06-.94-2.06-.94L8.5 2.5l-.94 2.06-2.06.94zm10 10l.94 2.06.94-2.06 2.06-.94-2.06-.94-.94-2.06-.94 2.06-2.06.94z\"/><path d=\"M17.41 7.96l-1.37-1.37c-.4-.4-.92-.59-1.43-.59-.52 0-1.04.2-1.43.59L10.3 9.45l-7.72 7.72c-.78.78-.78 2.05 0 2.83L4 21.41c.39.39.9.59 1.41.59.51 0 1.02-.2 1.41-.59l7.78-7.78 2.81-2.81c.8-.78.8-2.07 0-2.86zM5.41 20L4 18.59l7.72-7.72 1.47 1.35L5.41 20z\"/>\n",
              "  </svg>\n",
              "      </button>\n",
              "      \n",
              "  <style>\n",
              "    .colab-df-container {\n",
              "      display:flex;\n",
              "      flex-wrap:wrap;\n",
              "      gap: 12px;\n",
              "    }\n",
              "\n",
              "    .colab-df-convert {\n",
              "      background-color: #E8F0FE;\n",
              "      border: none;\n",
              "      border-radius: 50%;\n",
              "      cursor: pointer;\n",
              "      display: none;\n",
              "      fill: #1967D2;\n",
              "      height: 32px;\n",
              "      padding: 0 0 0 0;\n",
              "      width: 32px;\n",
              "    }\n",
              "\n",
              "    .colab-df-convert:hover {\n",
              "      background-color: #E2EBFA;\n",
              "      box-shadow: 0px 1px 2px rgba(60, 64, 67, 0.3), 0px 1px 3px 1px rgba(60, 64, 67, 0.15);\n",
              "      fill: #174EA6;\n",
              "    }\n",
              "\n",
              "    [theme=dark] .colab-df-convert {\n",
              "      background-color: #3B4455;\n",
              "      fill: #D2E3FC;\n",
              "    }\n",
              "\n",
              "    [theme=dark] .colab-df-convert:hover {\n",
              "      background-color: #434B5C;\n",
              "      box-shadow: 0px 1px 3px 1px rgba(0, 0, 0, 0.15);\n",
              "      filter: drop-shadow(0px 1px 2px rgba(0, 0, 0, 0.3));\n",
              "      fill: #FFFFFF;\n",
              "    }\n",
              "  </style>\n",
              "\n",
              "      <script>\n",
              "        const buttonEl =\n",
              "          document.querySelector('#df-a62759ee-713a-4eac-934c-d494bdeaba5d button.colab-df-convert');\n",
              "        buttonEl.style.display =\n",
              "          google.colab.kernel.accessAllowed ? 'block' : 'none';\n",
              "\n",
              "        async function convertToInteractive(key) {\n",
              "          const element = document.querySelector('#df-a62759ee-713a-4eac-934c-d494bdeaba5d');\n",
              "          const dataTable =\n",
              "            await google.colab.kernel.invokeFunction('convertToInteractive',\n",
              "                                                     [key], {});\n",
              "          if (!dataTable) return;\n",
              "\n",
              "          const docLinkHtml = 'Like what you see? Visit the ' +\n",
              "            '<a target=\"_blank\" href=https://colab.research.google.com/notebooks/data_table.ipynb>data table notebook</a>'\n",
              "            + ' to learn more about interactive tables.';\n",
              "          element.innerHTML = '';\n",
              "          dataTable['output_type'] = 'display_data';\n",
              "          await google.colab.output.renderOutput(dataTable, element);\n",
              "          const docLink = document.createElement('div');\n",
              "          docLink.innerHTML = docLinkHtml;\n",
              "          element.appendChild(docLink);\n",
              "        }\n",
              "      </script>\n",
              "    </div>\n",
              "  </div>\n",
              "  "
            ]
          },
          "metadata": {},
          "execution_count": 39
        }
      ]
    },
    {
      "cell_type": "markdown",
      "source": [
        "#L’extraction d’information est l’étape qui suit le nettoyage du corpus. Pour ce faire, il nous faut changer la représentation du texte pour qu’il puisse être utilisé par un modèle statistique, et pour pouvoir l’exploiter. Utilisons Bac-of-word pour construire un vecteur de chque document de notre base à l’aide de la classe CountVectorizer de scikit-learn"
      ],
      "metadata": {
        "id": "XP4J0rP2KATq"
      }
    },
    {
      "cell_type": "code",
      "source": [
        "import numpy as np\n",
        "from sklearn.feature_extraction.text import CountVectorizer\n",
        "vectorizer = CountVectorizer(ngram_range=(1,5))\n",
        "vectorizer.fit(np.hstack(data['cleaned_text'][110:130]))\n",
        "\n",
        "X = vectorizer.transform(np.hstack(data['cleaned_text'][110:130]))\n",
        "\n",
        "pd.DataFrame(X.toarray(), columns=vectorizer.get_feature_names()).T"
      ],
      "metadata": {
        "id": "yk40loW6JwQG"
      },
      "execution_count": null,
      "outputs": []
    },
    {
      "cell_type": "markdown",
      "source": [
        "#Faisons appel a la fonction TF-IDF de scikit-learn Pour connaître les termes qui représentent le plus un document,\n",
        "\n",
        "#TF-IDF (Term Frequency - Inverse Document Frequency) est un algorithme pratique qui utilise la fréquence des mots pour déterminer la pertinence de ces mots par rapport à un document donné.\n"
      ],
      "metadata": {
        "id": "h9HTvjhVKTzL"
      }
    },
    {
      "cell_type": "code",
      "source": [
        "import numpy as np\n",
        "from sklearn.feature_extraction.text import TfidfVectorizer\n",
        "\n",
        "vectorizer = TfidfVectorizer()\n",
        "vectors = vectorizer.fit_transform(np.hstack(data['cleaned_text'])[110:130])\n",
        "\n",
        "pd.DataFrame(vectors.toarray(), columns=vectorizer.get_feature_names()).T"
      ],
      "metadata": {
        "colab": {
          "base_uri": "https://localhost:8080/",
          "height": 775
        },
        "id": "TuoSryeeJwIl",
        "outputId": "ff505624-5dae-484b-ec9d-56e0b8ed5574"
      },
      "execution_count": null,
      "outputs": [
        {
          "output_type": "stream",
          "name": "stderr",
          "text": [
            "/usr/local/lib/python3.7/dist-packages/sklearn/utils/deprecation.py:87: FutureWarning: Function get_feature_names is deprecated; get_feature_names is deprecated in 1.0 and will be removed in 1.2. Please use get_feature_names_out instead.\n",
            "  warnings.warn(msg, category=FutureWarning)\n"
          ]
        },
        {
          "output_type": "execute_result",
          "data": {
            "text/plain": [
              "              0    1    2    3    4    5    6    7    8    9    10   11   12  \\\n",
              "arab         0.0  0.0  0.0  0.0  0.0  0.0  0.0  0.0  1.0  0.0  0.0  0.0  0.0   \n",
              "arizona      0.0  0.0  0.0  0.0  0.0  0.0  0.0  0.0  0.0  0.0  0.0  0.0  0.0   \n",
              "assault      0.0  0.0  0.0  0.0  1.0  0.0  0.0  0.0  0.0  0.0  0.0  0.0  0.0   \n",
              "banned       0.0  0.0  0.0  0.0  0.0  0.0  1.0  0.0  0.0  0.0  0.0  0.0  0.0   \n",
              "coming       0.0  0.0  0.0  0.0  0.0  0.0  0.0  0.0  0.0  0.0  1.0  0.0  0.0   \n",
              "country      0.0  0.0  0.0  0.0  0.0  0.0  0.0  0.0  0.0  1.0  0.0  0.0  0.0   \n",
              "deal         1.0  0.0  0.0  0.0  0.0  0.0  0.0  0.0  0.0  0.0  0.0  0.0  0.0   \n",
              "falkland     0.0  0.0  1.0  0.0  0.0  0.0  0.0  0.0  0.0  0.0  0.0  0.0  0.0   \n",
              "gay          0.0  0.0  0.0  0.0  0.0  0.0  0.0  0.0  0.0  0.0  0.0  0.0  0.0   \n",
              "graduation   0.0  0.0  0.0  0.0  0.0  0.0  0.0  0.0  0.0  0.0  0.0  0.0  0.0   \n",
              "immigration  0.0  0.0  0.0  0.0  0.0  0.0  0.0  0.0  0.0  0.0  0.0  0.0  0.0   \n",
              "islands      0.0  0.0  0.0  1.0  0.0  0.0  0.0  0.0  0.0  0.0  0.0  0.0  0.0   \n",
              "law          0.0  0.0  0.0  0.0  0.0  0.0  0.0  0.0  0.0  0.0  0.0  0.0  0.0   \n",
              "marriage     0.0  0.0  0.0  0.0  0.0  0.0  0.0  0.0  0.0  0.0  0.0  0.0  0.0   \n",
              "rifles       0.0  0.0  0.0  0.0  0.0  1.0  0.0  0.0  0.0  0.0  0.0  0.0  0.0   \n",
              "said         0.0  1.0  0.0  0.0  0.0  0.0  0.0  0.0  0.0  0.0  0.0  0.0  0.0   \n",
              "stop         0.0  0.0  0.0  0.0  0.0  0.0  0.0  0.0  0.0  0.0  0.0  1.0  0.0   \n",
              "support      0.0  0.0  0.0  0.0  0.0  0.0  0.0  0.0  0.0  0.0  0.0  0.0  0.0   \n",
              "train        0.0  0.0  0.0  0.0  0.0  0.0  0.0  0.0  0.0  0.0  0.0  0.0  1.0   \n",
              "turkey       0.0  0.0  0.0  0.0  0.0  0.0  0.0  1.0  0.0  0.0  0.0  0.0  0.0   \n",
              "\n",
              "              13   14   15   16   17   18   19  \n",
              "arab         0.0  0.0  0.0  0.0  0.0  0.0  0.0  \n",
              "arizona      0.0  0.0  0.0  1.0  0.0  0.0  0.0  \n",
              "assault      0.0  0.0  0.0  0.0  0.0  0.0  0.0  \n",
              "banned       0.0  0.0  0.0  0.0  0.0  0.0  0.0  \n",
              "coming       0.0  0.0  0.0  0.0  0.0  0.0  0.0  \n",
              "country      0.0  0.0  0.0  0.0  0.0  0.0  0.0  \n",
              "deal         0.0  0.0  0.0  0.0  0.0  0.0  0.0  \n",
              "falkland     0.0  0.0  0.0  0.0  0.0  0.0  0.0  \n",
              "gay          0.0  1.0  0.0  0.0  0.0  0.0  0.0  \n",
              "graduation   0.0  0.0  0.0  0.0  0.0  0.0  1.0  \n",
              "immigration  0.0  0.0  0.0  0.0  1.0  0.0  0.0  \n",
              "islands      0.0  0.0  0.0  0.0  0.0  0.0  0.0  \n",
              "law          0.0  0.0  0.0  0.0  0.0  1.0  0.0  \n",
              "marriage     0.0  0.0  1.0  0.0  0.0  0.0  0.0  \n",
              "rifles       0.0  0.0  0.0  0.0  0.0  0.0  0.0  \n",
              "said         0.0  0.0  0.0  0.0  0.0  0.0  0.0  \n",
              "stop         0.0  0.0  0.0  0.0  0.0  0.0  0.0  \n",
              "support      1.0  0.0  0.0  0.0  0.0  0.0  0.0  \n",
              "train        0.0  0.0  0.0  0.0  0.0  0.0  0.0  \n",
              "turkey       0.0  0.0  0.0  0.0  0.0  0.0  0.0  "
            ],
            "text/html": [
              "\n",
              "  <div id=\"df-560c09e9-ba62-444d-a424-638635539bc2\">\n",
              "    <div class=\"colab-df-container\">\n",
              "      <div>\n",
              "<style scoped>\n",
              "    .dataframe tbody tr th:only-of-type {\n",
              "        vertical-align: middle;\n",
              "    }\n",
              "\n",
              "    .dataframe tbody tr th {\n",
              "        vertical-align: top;\n",
              "    }\n",
              "\n",
              "    .dataframe thead th {\n",
              "        text-align: right;\n",
              "    }\n",
              "</style>\n",
              "<table border=\"1\" class=\"dataframe\">\n",
              "  <thead>\n",
              "    <tr style=\"text-align: right;\">\n",
              "      <th></th>\n",
              "      <th>0</th>\n",
              "      <th>1</th>\n",
              "      <th>2</th>\n",
              "      <th>3</th>\n",
              "      <th>4</th>\n",
              "      <th>5</th>\n",
              "      <th>6</th>\n",
              "      <th>7</th>\n",
              "      <th>8</th>\n",
              "      <th>9</th>\n",
              "      <th>10</th>\n",
              "      <th>11</th>\n",
              "      <th>12</th>\n",
              "      <th>13</th>\n",
              "      <th>14</th>\n",
              "      <th>15</th>\n",
              "      <th>16</th>\n",
              "      <th>17</th>\n",
              "      <th>18</th>\n",
              "      <th>19</th>\n",
              "    </tr>\n",
              "  </thead>\n",
              "  <tbody>\n",
              "    <tr>\n",
              "      <th>arab</th>\n",
              "      <td>0.0</td>\n",
              "      <td>0.0</td>\n",
              "      <td>0.0</td>\n",
              "      <td>0.0</td>\n",
              "      <td>0.0</td>\n",
              "      <td>0.0</td>\n",
              "      <td>0.0</td>\n",
              "      <td>0.0</td>\n",
              "      <td>1.0</td>\n",
              "      <td>0.0</td>\n",
              "      <td>0.0</td>\n",
              "      <td>0.0</td>\n",
              "      <td>0.0</td>\n",
              "      <td>0.0</td>\n",
              "      <td>0.0</td>\n",
              "      <td>0.0</td>\n",
              "      <td>0.0</td>\n",
              "      <td>0.0</td>\n",
              "      <td>0.0</td>\n",
              "      <td>0.0</td>\n",
              "    </tr>\n",
              "    <tr>\n",
              "      <th>arizona</th>\n",
              "      <td>0.0</td>\n",
              "      <td>0.0</td>\n",
              "      <td>0.0</td>\n",
              "      <td>0.0</td>\n",
              "      <td>0.0</td>\n",
              "      <td>0.0</td>\n",
              "      <td>0.0</td>\n",
              "      <td>0.0</td>\n",
              "      <td>0.0</td>\n",
              "      <td>0.0</td>\n",
              "      <td>0.0</td>\n",
              "      <td>0.0</td>\n",
              "      <td>0.0</td>\n",
              "      <td>0.0</td>\n",
              "      <td>0.0</td>\n",
              "      <td>0.0</td>\n",
              "      <td>1.0</td>\n",
              "      <td>0.0</td>\n",
              "      <td>0.0</td>\n",
              "      <td>0.0</td>\n",
              "    </tr>\n",
              "    <tr>\n",
              "      <th>assault</th>\n",
              "      <td>0.0</td>\n",
              "      <td>0.0</td>\n",
              "      <td>0.0</td>\n",
              "      <td>0.0</td>\n",
              "      <td>1.0</td>\n",
              "      <td>0.0</td>\n",
              "      <td>0.0</td>\n",
              "      <td>0.0</td>\n",
              "      <td>0.0</td>\n",
              "      <td>0.0</td>\n",
              "      <td>0.0</td>\n",
              "      <td>0.0</td>\n",
              "      <td>0.0</td>\n",
              "      <td>0.0</td>\n",
              "      <td>0.0</td>\n",
              "      <td>0.0</td>\n",
              "      <td>0.0</td>\n",
              "      <td>0.0</td>\n",
              "      <td>0.0</td>\n",
              "      <td>0.0</td>\n",
              "    </tr>\n",
              "    <tr>\n",
              "      <th>banned</th>\n",
              "      <td>0.0</td>\n",
              "      <td>0.0</td>\n",
              "      <td>0.0</td>\n",
              "      <td>0.0</td>\n",
              "      <td>0.0</td>\n",
              "      <td>0.0</td>\n",
              "      <td>1.0</td>\n",
              "      <td>0.0</td>\n",
              "      <td>0.0</td>\n",
              "      <td>0.0</td>\n",
              "      <td>0.0</td>\n",
              "      <td>0.0</td>\n",
              "      <td>0.0</td>\n",
              "      <td>0.0</td>\n",
              "      <td>0.0</td>\n",
              "      <td>0.0</td>\n",
              "      <td>0.0</td>\n",
              "      <td>0.0</td>\n",
              "      <td>0.0</td>\n",
              "      <td>0.0</td>\n",
              "    </tr>\n",
              "    <tr>\n",
              "      <th>coming</th>\n",
              "      <td>0.0</td>\n",
              "      <td>0.0</td>\n",
              "      <td>0.0</td>\n",
              "      <td>0.0</td>\n",
              "      <td>0.0</td>\n",
              "      <td>0.0</td>\n",
              "      <td>0.0</td>\n",
              "      <td>0.0</td>\n",
              "      <td>0.0</td>\n",
              "      <td>0.0</td>\n",
              "      <td>1.0</td>\n",
              "      <td>0.0</td>\n",
              "      <td>0.0</td>\n",
              "      <td>0.0</td>\n",
              "      <td>0.0</td>\n",
              "      <td>0.0</td>\n",
              "      <td>0.0</td>\n",
              "      <td>0.0</td>\n",
              "      <td>0.0</td>\n",
              "      <td>0.0</td>\n",
              "    </tr>\n",
              "    <tr>\n",
              "      <th>country</th>\n",
              "      <td>0.0</td>\n",
              "      <td>0.0</td>\n",
              "      <td>0.0</td>\n",
              "      <td>0.0</td>\n",
              "      <td>0.0</td>\n",
              "      <td>0.0</td>\n",
              "      <td>0.0</td>\n",
              "      <td>0.0</td>\n",
              "      <td>0.0</td>\n",
              "      <td>1.0</td>\n",
              "      <td>0.0</td>\n",
              "      <td>0.0</td>\n",
              "      <td>0.0</td>\n",
              "      <td>0.0</td>\n",
              "      <td>0.0</td>\n",
              "      <td>0.0</td>\n",
              "      <td>0.0</td>\n",
              "      <td>0.0</td>\n",
              "      <td>0.0</td>\n",
              "      <td>0.0</td>\n",
              "    </tr>\n",
              "    <tr>\n",
              "      <th>deal</th>\n",
              "      <td>1.0</td>\n",
              "      <td>0.0</td>\n",
              "      <td>0.0</td>\n",
              "      <td>0.0</td>\n",
              "      <td>0.0</td>\n",
              "      <td>0.0</td>\n",
              "      <td>0.0</td>\n",
              "      <td>0.0</td>\n",
              "      <td>0.0</td>\n",
              "      <td>0.0</td>\n",
              "      <td>0.0</td>\n",
              "      <td>0.0</td>\n",
              "      <td>0.0</td>\n",
              "      <td>0.0</td>\n",
              "      <td>0.0</td>\n",
              "      <td>0.0</td>\n",
              "      <td>0.0</td>\n",
              "      <td>0.0</td>\n",
              "      <td>0.0</td>\n",
              "      <td>0.0</td>\n",
              "    </tr>\n",
              "    <tr>\n",
              "      <th>falkland</th>\n",
              "      <td>0.0</td>\n",
              "      <td>0.0</td>\n",
              "      <td>1.0</td>\n",
              "      <td>0.0</td>\n",
              "      <td>0.0</td>\n",
              "      <td>0.0</td>\n",
              "      <td>0.0</td>\n",
              "      <td>0.0</td>\n",
              "      <td>0.0</td>\n",
              "      <td>0.0</td>\n",
              "      <td>0.0</td>\n",
              "      <td>0.0</td>\n",
              "      <td>0.0</td>\n",
              "      <td>0.0</td>\n",
              "      <td>0.0</td>\n",
              "      <td>0.0</td>\n",
              "      <td>0.0</td>\n",
              "      <td>0.0</td>\n",
              "      <td>0.0</td>\n",
              "      <td>0.0</td>\n",
              "    </tr>\n",
              "    <tr>\n",
              "      <th>gay</th>\n",
              "      <td>0.0</td>\n",
              "      <td>0.0</td>\n",
              "      <td>0.0</td>\n",
              "      <td>0.0</td>\n",
              "      <td>0.0</td>\n",
              "      <td>0.0</td>\n",
              "      <td>0.0</td>\n",
              "      <td>0.0</td>\n",
              "      <td>0.0</td>\n",
              "      <td>0.0</td>\n",
              "      <td>0.0</td>\n",
              "      <td>0.0</td>\n",
              "      <td>0.0</td>\n",
              "      <td>0.0</td>\n",
              "      <td>1.0</td>\n",
              "      <td>0.0</td>\n",
              "      <td>0.0</td>\n",
              "      <td>0.0</td>\n",
              "      <td>0.0</td>\n",
              "      <td>0.0</td>\n",
              "    </tr>\n",
              "    <tr>\n",
              "      <th>graduation</th>\n",
              "      <td>0.0</td>\n",
              "      <td>0.0</td>\n",
              "      <td>0.0</td>\n",
              "      <td>0.0</td>\n",
              "      <td>0.0</td>\n",
              "      <td>0.0</td>\n",
              "      <td>0.0</td>\n",
              "      <td>0.0</td>\n",
              "      <td>0.0</td>\n",
              "      <td>0.0</td>\n",
              "      <td>0.0</td>\n",
              "      <td>0.0</td>\n",
              "      <td>0.0</td>\n",
              "      <td>0.0</td>\n",
              "      <td>0.0</td>\n",
              "      <td>0.0</td>\n",
              "      <td>0.0</td>\n",
              "      <td>0.0</td>\n",
              "      <td>0.0</td>\n",
              "      <td>1.0</td>\n",
              "    </tr>\n",
              "    <tr>\n",
              "      <th>immigration</th>\n",
              "      <td>0.0</td>\n",
              "      <td>0.0</td>\n",
              "      <td>0.0</td>\n",
              "      <td>0.0</td>\n",
              "      <td>0.0</td>\n",
              "      <td>0.0</td>\n",
              "      <td>0.0</td>\n",
              "      <td>0.0</td>\n",
              "      <td>0.0</td>\n",
              "      <td>0.0</td>\n",
              "      <td>0.0</td>\n",
              "      <td>0.0</td>\n",
              "      <td>0.0</td>\n",
              "      <td>0.0</td>\n",
              "      <td>0.0</td>\n",
              "      <td>0.0</td>\n",
              "      <td>0.0</td>\n",
              "      <td>1.0</td>\n",
              "      <td>0.0</td>\n",
              "      <td>0.0</td>\n",
              "    </tr>\n",
              "    <tr>\n",
              "      <th>islands</th>\n",
              "      <td>0.0</td>\n",
              "      <td>0.0</td>\n",
              "      <td>0.0</td>\n",
              "      <td>1.0</td>\n",
              "      <td>0.0</td>\n",
              "      <td>0.0</td>\n",
              "      <td>0.0</td>\n",
              "      <td>0.0</td>\n",
              "      <td>0.0</td>\n",
              "      <td>0.0</td>\n",
              "      <td>0.0</td>\n",
              "      <td>0.0</td>\n",
              "      <td>0.0</td>\n",
              "      <td>0.0</td>\n",
              "      <td>0.0</td>\n",
              "      <td>0.0</td>\n",
              "      <td>0.0</td>\n",
              "      <td>0.0</td>\n",
              "      <td>0.0</td>\n",
              "      <td>0.0</td>\n",
              "    </tr>\n",
              "    <tr>\n",
              "      <th>law</th>\n",
              "      <td>0.0</td>\n",
              "      <td>0.0</td>\n",
              "      <td>0.0</td>\n",
              "      <td>0.0</td>\n",
              "      <td>0.0</td>\n",
              "      <td>0.0</td>\n",
              "      <td>0.0</td>\n",
              "      <td>0.0</td>\n",
              "      <td>0.0</td>\n",
              "      <td>0.0</td>\n",
              "      <td>0.0</td>\n",
              "      <td>0.0</td>\n",
              "      <td>0.0</td>\n",
              "      <td>0.0</td>\n",
              "      <td>0.0</td>\n",
              "      <td>0.0</td>\n",
              "      <td>0.0</td>\n",
              "      <td>0.0</td>\n",
              "      <td>1.0</td>\n",
              "      <td>0.0</td>\n",
              "    </tr>\n",
              "    <tr>\n",
              "      <th>marriage</th>\n",
              "      <td>0.0</td>\n",
              "      <td>0.0</td>\n",
              "      <td>0.0</td>\n",
              "      <td>0.0</td>\n",
              "      <td>0.0</td>\n",
              "      <td>0.0</td>\n",
              "      <td>0.0</td>\n",
              "      <td>0.0</td>\n",
              "      <td>0.0</td>\n",
              "      <td>0.0</td>\n",
              "      <td>0.0</td>\n",
              "      <td>0.0</td>\n",
              "      <td>0.0</td>\n",
              "      <td>0.0</td>\n",
              "      <td>0.0</td>\n",
              "      <td>1.0</td>\n",
              "      <td>0.0</td>\n",
              "      <td>0.0</td>\n",
              "      <td>0.0</td>\n",
              "      <td>0.0</td>\n",
              "    </tr>\n",
              "    <tr>\n",
              "      <th>rifles</th>\n",
              "      <td>0.0</td>\n",
              "      <td>0.0</td>\n",
              "      <td>0.0</td>\n",
              "      <td>0.0</td>\n",
              "      <td>0.0</td>\n",
              "      <td>1.0</td>\n",
              "      <td>0.0</td>\n",
              "      <td>0.0</td>\n",
              "      <td>0.0</td>\n",
              "      <td>0.0</td>\n",
              "      <td>0.0</td>\n",
              "      <td>0.0</td>\n",
              "      <td>0.0</td>\n",
              "      <td>0.0</td>\n",
              "      <td>0.0</td>\n",
              "      <td>0.0</td>\n",
              "      <td>0.0</td>\n",
              "      <td>0.0</td>\n",
              "      <td>0.0</td>\n",
              "      <td>0.0</td>\n",
              "    </tr>\n",
              "    <tr>\n",
              "      <th>said</th>\n",
              "      <td>0.0</td>\n",
              "      <td>1.0</td>\n",
              "      <td>0.0</td>\n",
              "      <td>0.0</td>\n",
              "      <td>0.0</td>\n",
              "      <td>0.0</td>\n",
              "      <td>0.0</td>\n",
              "      <td>0.0</td>\n",
              "      <td>0.0</td>\n",
              "      <td>0.0</td>\n",
              "      <td>0.0</td>\n",
              "      <td>0.0</td>\n",
              "      <td>0.0</td>\n",
              "      <td>0.0</td>\n",
              "      <td>0.0</td>\n",
              "      <td>0.0</td>\n",
              "      <td>0.0</td>\n",
              "      <td>0.0</td>\n",
              "      <td>0.0</td>\n",
              "      <td>0.0</td>\n",
              "    </tr>\n",
              "    <tr>\n",
              "      <th>stop</th>\n",
              "      <td>0.0</td>\n",
              "      <td>0.0</td>\n",
              "      <td>0.0</td>\n",
              "      <td>0.0</td>\n",
              "      <td>0.0</td>\n",
              "      <td>0.0</td>\n",
              "      <td>0.0</td>\n",
              "      <td>0.0</td>\n",
              "      <td>0.0</td>\n",
              "      <td>0.0</td>\n",
              "      <td>0.0</td>\n",
              "      <td>1.0</td>\n",
              "      <td>0.0</td>\n",
              "      <td>0.0</td>\n",
              "      <td>0.0</td>\n",
              "      <td>0.0</td>\n",
              "      <td>0.0</td>\n",
              "      <td>0.0</td>\n",
              "      <td>0.0</td>\n",
              "      <td>0.0</td>\n",
              "    </tr>\n",
              "    <tr>\n",
              "      <th>support</th>\n",
              "      <td>0.0</td>\n",
              "      <td>0.0</td>\n",
              "      <td>0.0</td>\n",
              "      <td>0.0</td>\n",
              "      <td>0.0</td>\n",
              "      <td>0.0</td>\n",
              "      <td>0.0</td>\n",
              "      <td>0.0</td>\n",
              "      <td>0.0</td>\n",
              "      <td>0.0</td>\n",
              "      <td>0.0</td>\n",
              "      <td>0.0</td>\n",
              "      <td>0.0</td>\n",
              "      <td>1.0</td>\n",
              "      <td>0.0</td>\n",
              "      <td>0.0</td>\n",
              "      <td>0.0</td>\n",
              "      <td>0.0</td>\n",
              "      <td>0.0</td>\n",
              "      <td>0.0</td>\n",
              "    </tr>\n",
              "    <tr>\n",
              "      <th>train</th>\n",
              "      <td>0.0</td>\n",
              "      <td>0.0</td>\n",
              "      <td>0.0</td>\n",
              "      <td>0.0</td>\n",
              "      <td>0.0</td>\n",
              "      <td>0.0</td>\n",
              "      <td>0.0</td>\n",
              "      <td>0.0</td>\n",
              "      <td>0.0</td>\n",
              "      <td>0.0</td>\n",
              "      <td>0.0</td>\n",
              "      <td>0.0</td>\n",
              "      <td>1.0</td>\n",
              "      <td>0.0</td>\n",
              "      <td>0.0</td>\n",
              "      <td>0.0</td>\n",
              "      <td>0.0</td>\n",
              "      <td>0.0</td>\n",
              "      <td>0.0</td>\n",
              "      <td>0.0</td>\n",
              "    </tr>\n",
              "    <tr>\n",
              "      <th>turkey</th>\n",
              "      <td>0.0</td>\n",
              "      <td>0.0</td>\n",
              "      <td>0.0</td>\n",
              "      <td>0.0</td>\n",
              "      <td>0.0</td>\n",
              "      <td>0.0</td>\n",
              "      <td>0.0</td>\n",
              "      <td>1.0</td>\n",
              "      <td>0.0</td>\n",
              "      <td>0.0</td>\n",
              "      <td>0.0</td>\n",
              "      <td>0.0</td>\n",
              "      <td>0.0</td>\n",
              "      <td>0.0</td>\n",
              "      <td>0.0</td>\n",
              "      <td>0.0</td>\n",
              "      <td>0.0</td>\n",
              "      <td>0.0</td>\n",
              "      <td>0.0</td>\n",
              "      <td>0.0</td>\n",
              "    </tr>\n",
              "  </tbody>\n",
              "</table>\n",
              "</div>\n",
              "      <button class=\"colab-df-convert\" onclick=\"convertToInteractive('df-560c09e9-ba62-444d-a424-638635539bc2')\"\n",
              "              title=\"Convert this dataframe to an interactive table.\"\n",
              "              style=\"display:none;\">\n",
              "        \n",
              "  <svg xmlns=\"http://www.w3.org/2000/svg\" height=\"24px\"viewBox=\"0 0 24 24\"\n",
              "       width=\"24px\">\n",
              "    <path d=\"M0 0h24v24H0V0z\" fill=\"none\"/>\n",
              "    <path d=\"M18.56 5.44l.94 2.06.94-2.06 2.06-.94-2.06-.94-.94-2.06-.94 2.06-2.06.94zm-11 1L8.5 8.5l.94-2.06 2.06-.94-2.06-.94L8.5 2.5l-.94 2.06-2.06.94zm10 10l.94 2.06.94-2.06 2.06-.94-2.06-.94-.94-2.06-.94 2.06-2.06.94z\"/><path d=\"M17.41 7.96l-1.37-1.37c-.4-.4-.92-.59-1.43-.59-.52 0-1.04.2-1.43.59L10.3 9.45l-7.72 7.72c-.78.78-.78 2.05 0 2.83L4 21.41c.39.39.9.59 1.41.59.51 0 1.02-.2 1.41-.59l7.78-7.78 2.81-2.81c.8-.78.8-2.07 0-2.86zM5.41 20L4 18.59l7.72-7.72 1.47 1.35L5.41 20z\"/>\n",
              "  </svg>\n",
              "      </button>\n",
              "      \n",
              "  <style>\n",
              "    .colab-df-container {\n",
              "      display:flex;\n",
              "      flex-wrap:wrap;\n",
              "      gap: 12px;\n",
              "    }\n",
              "\n",
              "    .colab-df-convert {\n",
              "      background-color: #E8F0FE;\n",
              "      border: none;\n",
              "      border-radius: 50%;\n",
              "      cursor: pointer;\n",
              "      display: none;\n",
              "      fill: #1967D2;\n",
              "      height: 32px;\n",
              "      padding: 0 0 0 0;\n",
              "      width: 32px;\n",
              "    }\n",
              "\n",
              "    .colab-df-convert:hover {\n",
              "      background-color: #E2EBFA;\n",
              "      box-shadow: 0px 1px 2px rgba(60, 64, 67, 0.3), 0px 1px 3px 1px rgba(60, 64, 67, 0.15);\n",
              "      fill: #174EA6;\n",
              "    }\n",
              "\n",
              "    [theme=dark] .colab-df-convert {\n",
              "      background-color: #3B4455;\n",
              "      fill: #D2E3FC;\n",
              "    }\n",
              "\n",
              "    [theme=dark] .colab-df-convert:hover {\n",
              "      background-color: #434B5C;\n",
              "      box-shadow: 0px 1px 3px 1px rgba(0, 0, 0, 0.15);\n",
              "      filter: drop-shadow(0px 1px 2px rgba(0, 0, 0, 0.3));\n",
              "      fill: #FFFFFF;\n",
              "    }\n",
              "  </style>\n",
              "\n",
              "      <script>\n",
              "        const buttonEl =\n",
              "          document.querySelector('#df-560c09e9-ba62-444d-a424-638635539bc2 button.colab-df-convert');\n",
              "        buttonEl.style.display =\n",
              "          google.colab.kernel.accessAllowed ? 'block' : 'none';\n",
              "\n",
              "        async function convertToInteractive(key) {\n",
              "          const element = document.querySelector('#df-560c09e9-ba62-444d-a424-638635539bc2');\n",
              "          const dataTable =\n",
              "            await google.colab.kernel.invokeFunction('convertToInteractive',\n",
              "                                                     [key], {});\n",
              "          if (!dataTable) return;\n",
              "\n",
              "          const docLinkHtml = 'Like what you see? Visit the ' +\n",
              "            '<a target=\"_blank\" href=https://colab.research.google.com/notebooks/data_table.ipynb>data table notebook</a>'\n",
              "            + ' to learn more about interactive tables.';\n",
              "          element.innerHTML = '';\n",
              "          dataTable['output_type'] = 'display_data';\n",
              "          await google.colab.output.renderOutput(dataTable, element);\n",
              "          const docLink = document.createElement('div');\n",
              "          docLink.innerHTML = docLinkHtml;\n",
              "          element.appendChild(docLink);\n",
              "        }\n",
              "      </script>\n",
              "    </div>\n",
              "  </div>\n",
              "  "
            ]
          },
          "metadata": {},
          "execution_count": 68
        }
      ]
    },
    {
      "cell_type": "markdown",
      "source": [
        "#On Constate qu le mot Graduation est le plus represente dans tout les documents de notre avec un score 19 fois"
      ],
      "metadata": {
        "id": "LmPViIoQKymJ"
      }
    },
    {
      "cell_type": "code",
      "source": [
        "token = nlp(\"graduation\")\n",
        "token, token.vector.shape, token.vector"
      ],
      "metadata": {
        "colab": {
          "base_uri": "https://localhost:8080/"
        },
        "id": "p6bQLkl6JwCn",
        "outputId": "61582612-a286-40d9-fad5-7add98487b9e"
      },
      "execution_count": null,
      "outputs": [
        {
          "output_type": "execute_result",
          "data": {
            "text/plain": [
              "(graduation,\n",
              " (96,),\n",
              " array([ 1.0413197 ,  0.60159206,  0.33495346, -1.1028017 , -0.18121803,\n",
              "         0.2585441 ,  0.40614557, -0.17282628,  1.0460609 , -0.17385584,\n",
              "         0.11128008, -0.7011368 ,  1.2259961 ,  0.6730344 , -0.5953181 ,\n",
              "        -0.04933706,  0.33913493,  0.1498251 , -0.20983826,  0.396038  ,\n",
              "         0.5644046 , -0.46068078,  0.9354014 ,  0.79900646,  0.98482835,\n",
              "        -0.18336464,  0.18759346, -0.7068528 ,  0.579308  ,  0.12885141,\n",
              "        -0.39397305, -0.44418132, -1.6618634 , -0.03415981, -0.98795086,\n",
              "         0.46603933, -0.53413564,  0.7327786 ,  0.30594462, -0.3523773 ,\n",
              "        -0.01758295,  0.19711497, -0.51484   ,  0.18764222, -0.50808465,\n",
              "        -1.3728071 , -0.05978924,  0.9646126 , -0.15948677,  0.23716158,\n",
              "        -0.45020112, -1.1935031 , -1.3088613 , -1.4628892 , -0.7843846 ,\n",
              "        -0.6835197 , -0.9705714 , -1.1219156 , -0.1154694 ,  0.28401947,\n",
              "         0.21465297, -0.9081876 , -0.03949299,  0.16708024, -0.45456845,\n",
              "         0.07971686, -0.2964279 ,  1.0022883 , -1.0417626 , -1.0599257 ,\n",
              "         0.2627857 , -0.13172054,  0.24639143,  0.5430627 , -0.22191755,\n",
              "         1.2053449 ,  0.12459284,  0.4009907 , -0.6787865 ,  2.1760998 ,\n",
              "         0.2719109 , -1.4129314 ,  0.06623073,  0.26563844,  0.7647569 ,\n",
              "         1.0449697 ,  0.42899013,  0.59779364, -0.6719545 ,  1.2035536 ,\n",
              "        -1.0304774 , -0.5349852 , -0.20823145,  0.08049423,  0.2564775 ,\n",
              "         0.7209957 ], dtype=float32))"
            ]
          },
          "metadata": {},
          "execution_count": 69
        }
      ]
    },
    {
      "cell_type": "markdown",
      "source": [
        "# Comparaison du mot graduation avec quelques mots"
      ],
      "metadata": {
        "id": "ONXWdIoILeTx"
      }
    },
    {
      "cell_type": "code",
      "source": [
        "token = nlp('graduation')\n",
        "for word in ['graduation', 'rifles', 'stop', 'support', 'independent', 'men', 'obama', 'marriage', 'island']:\n",
        "    print('graduation', '~', word, ':', token.similarity(nlp(word)))"
      ],
      "metadata": {
        "colab": {
          "base_uri": "https://localhost:8080/"
        },
        "id": "-WQKG4-pJv74",
        "outputId": "d11306df-e1a4-4c44-f5e3-1d511e8603b1"
      },
      "execution_count": null,
      "outputs": [
        {
          "output_type": "stream",
          "name": "stderr",
          "text": [
            "/usr/local/lib/python3.7/dist-packages/ipykernel_launcher.py:3: UserWarning: [W007] The model you're using has no word vectors loaded, so the result of the Doc.similarity method will be based on the tagger, parser and NER, which may not give useful similarity judgements. This may happen if you're using one of the small models, e.g. `en_core_web_sm`, which don't ship with word vectors and only use context-sensitive tensors. You can always add your own word vectors, or use one of the larger models instead if available.\n",
            "  This is separate from the ipykernel package so we can avoid doing imports until\n"
          ]
        },
        {
          "output_type": "stream",
          "name": "stdout",
          "text": [
            "graduation ~ graduation : 1.0\n",
            "graduation ~ rifles : 0.3060584268197144\n",
            "graduation ~ stop : 0.3130643409529362\n",
            "graduation ~ support : 0.6773129896605229\n",
            "graduation ~ independent : 0.3723894951917822\n",
            "graduation ~ men : 0.3057272180918735\n",
            "graduation ~ obama : 0.6425889574215513\n",
            "graduation ~ marriage : 0.7991579554360816\n",
            "graduation ~ island : 0.7468471574565945\n"
          ]
        }
      ]
    },
    {
      "cell_type": "markdown",
      "source": [
        "#Partageons nos donnees en donnees d'apprentissage et en donnees de test"
      ],
      "metadata": {
        "id": "0o3j6ECvLrK_"
      }
    },
    {
      "cell_type": "code",
      "source": [
        "from sklearn.model_selection import train_test_split\n",
        "\n",
        "X_train, X_test, y_train, y_test = train_test_split(data['Text'], data['Labels'], test_size=0.2)\n",
        "len(X_train), len(X_test)"
      ],
      "metadata": {
        "colab": {
          "base_uri": "https://localhost:8080/"
        },
        "id": "nM8oxKzKJv1T",
        "outputId": "859ea525-e1b3-43c5-bcb8-d480f5fd1eae"
      },
      "execution_count": null,
      "outputs": [
        {
          "output_type": "execute_result",
          "data": {
            "text/plain": [
              "(8182, 2046)"
            ]
          },
          "metadata": {},
          "execution_count": 44
        }
      ]
    },
    {
      "cell_type": "markdown",
      "source": [
        "#Donc apres avoir partagé le dataset on a 8182 documents pour l'entrainement et 2046 pour le test"
      ],
      "metadata": {
        "id": "HyZnCIjBL7gj"
      }
    },
    {
      "cell_type": "markdown",
      "source": [
        "#Ici on va entrainer plusieurs modèles deep learning et camparer les résultats\n",
        "\n",
        "\n"
      ],
      "metadata": {
        "id": "UFvBwW1gMIRv"
      }
    },
    {
      "cell_type": "markdown",
      "source": [
        "# On va appliquer et comparer ces résultats suivantes: LogisticRegression (Logistic regression), RandomForestClassifier (Random forest classifier), DecisionTreeClassifier (Decision tree classifier)"
      ],
      "metadata": {
        "id": "G3-_3S9JjOUD"
      }
    },
    {
      "cell_type": "code",
      "source": [
        "from sklearn.feature_extraction.text import TfidfVectorizer\n",
        "\n",
        "vectorizer = TfidfVectorizer(ngram_range=(1, 2))\n",
        "X_train_tfidf = vectorizer.fit_transform(X_train)\n",
        "X_test_tfidf = vectorizer.transform(X_test)"
      ],
      "metadata": {
        "id": "SuGQ235yJvlt"
      },
      "execution_count": null,
      "outputs": []
    },
    {
      "cell_type": "markdown",
      "source": [
        "#1ème méthode qui est le svm"
      ],
      "metadata": {
        "id": "TEcCJaPLimbj"
      }
    },
    {
      "cell_type": "code",
      "source": [
        "from sklearn import svm\n",
        "\n",
        "clf = svm.LinearSVC()\n",
        "\n",
        "_ = clf.fit(X_train_tfidf, y_train)"
      ],
      "metadata": {
        "id": "OM8vYiBeijHA"
      },
      "execution_count": null,
      "outputs": []
    },
    {
      "cell_type": "code",
      "source": [
        "from sklearn.metrics import classification_report\n",
        "from sklearn.metrics import accuracy_score\n",
        "\n",
        "y_pred = clf.predict(X_test_tfidf)\n",
        "\n",
        "print(classification_report(y_test, y_pred))"
      ],
      "metadata": {
        "colab": {
          "base_uri": "https://localhost:8080/"
        },
        "id": "jyZ7PNyfhrOr",
        "outputId": "e89df675-2705-42fc-efb4-fc1705757602"
      },
      "execution_count": null,
      "outputs": [
        {
          "output_type": "stream",
          "name": "stdout",
          "text": [
            "              precision    recall  f1-score   support\n",
            "\n",
            "           0       0.17      0.19      0.18       308\n",
            "           1       0.25      0.25      0.25       410\n",
            "           2       0.24      0.26      0.25       440\n",
            "           3       0.21      0.28      0.24       356\n",
            "           4       0.25      0.10      0.15       173\n",
            "           5       0.21      0.18      0.20       359\n",
            "\n",
            "    accuracy                           0.22      2046\n",
            "   macro avg       0.22      0.21      0.21      2046\n",
            "weighted avg       0.22      0.22      0.22      2046\n",
            "\n"
          ]
        }
      ]
    },
    {
      "cell_type": "code",
      "source": [
        "from sklearn.metrics import confusion_matrix\n",
        "import seaborn as sns\n",
        "import matplotlib.pyplot as plt\n",
        "\n",
        "sns.heatmap(confusion_matrix(y_test, y_pred), annot=True, xticklabels=set(y_train), yticklabels=set(y_train))\n",
        "plt.ylabel('Vraies classes')\n",
        "plt.xlabel('Classes prédites')\n",
        "plt.show()"
      ],
      "metadata": {
        "colab": {
          "base_uri": "https://localhost:8080/",
          "height": 510
        },
        "id": "dszKbR_ehrGF",
        "outputId": "6cdc4e9b-ed39-4445-ddcc-7f749bfee497"
      },
      "execution_count": null,
      "outputs": [
        {
          "output_type": "display_data",
          "data": {
            "text/plain": [
              "<Figure size 842.4x595.44 with 2 Axes>"
            ],
            "image/png": "[encoded data removed]"
          },
          "metadata": {}
        }
      ]
    },
    {
      "cell_type": "markdown",
      "source": [
        "#2ème méthode Random Forest"
      ],
      "metadata": {
        "id": "9YW5Wl00jV4h"
      }
    },
    {
      "cell_type": "code",
      "source": [
        "from sklearn.ensemble import RandomForestClassifier\n",
        "\n",
        "clf = RandomForestClassifier()\n",
        "\n",
        "_ = clf.fit(X_train_tfidf, y_train)"
      ],
      "metadata": {
        "id": "6rTMkNu9jU6o"
      },
      "execution_count": null,
      "outputs": []
    },
    {
      "cell_type": "code",
      "source": [
        "from sklearn.metrics import classification_report\n",
        "from sklearn.metrics import accuracy_score\n",
        "\n",
        "y_pred = clf.predict(X_test_tfidf)\n",
        "\n",
        "print(classification_report(y_test, y_pred))"
      ],
      "metadata": {
        "colab": {
          "base_uri": "https://localhost:8080/"
        },
        "id": "y1BwkZCAjHQq",
        "outputId": "1c2b2a81-94ed-4354-872e-02d3f352f695"
      },
      "execution_count": null,
      "outputs": [
        {
          "output_type": "stream",
          "name": "stdout",
          "text": [
            "              precision    recall  f1-score   support\n",
            "\n",
            "           0       0.13      0.08      0.10       308\n",
            "           1       0.24      0.40      0.30       410\n",
            "           2       0.24      0.24      0.24       440\n",
            "           3       0.20      0.31      0.24       356\n",
            "           4       0.53      0.05      0.09       173\n",
            "           5       0.21      0.09      0.12       359\n",
            "\n",
            "    accuracy                           0.22      2046\n",
            "   macro avg       0.26      0.20      0.18      2046\n",
            "weighted avg       0.23      0.22      0.20      2046\n",
            "\n"
          ]
        }
      ]
    },
    {
      "cell_type": "code",
      "source": [
        "from sklearn.metrics import confusion_matrix\n",
        "import seaborn as sns\n",
        "import matplotlib.pyplot as plt\n",
        "\n",
        "sns.heatmap(confusion_matrix(y_test, y_pred), annot=True, xticklabels=set(y_train), yticklabels=set(y_train))\n",
        "plt.ylabel('Vraies classes')\n",
        "plt.xlabel('Classes prédites')\n",
        "plt.show()"
      ],
      "metadata": {
        "colab": {
          "base_uri": "https://localhost:8080/",
          "height": 510
        },
        "id": "jWr3rFqBjNiU",
        "outputId": "1eb08604-df57-4a7b-9af2-7d4a2f516eaa"
      },
      "execution_count": null,
      "outputs": [
        {
          "output_type": "display_data",
          "data": {
            "text/plain": [
              "<Figure size 842.4x595.44 with 2 Axes>"
            ],
            "image/png": "[encoded data removed]"
          },
          "metadata": {}
        }
      ]
    },
    {
      "cell_type": "markdown",
      "source": [
        "#3ème méthode DecisionTreeClassifier"
      ],
      "metadata": {
        "id": "bJbxwnJMkAQc"
      }
    },
    {
      "cell_type": "code",
      "source": [
        "from sklearn.tree import DecisionTreeClassifier\n",
        "\n",
        "clf = DecisionTreeClassifier()\n",
        "\n",
        "_ = clf.fit(X_train_tfidf, y_train)"
      ],
      "metadata": {
        "id": "vg6hazjvhq4Y"
      },
      "execution_count": null,
      "outputs": []
    },
    {
      "cell_type": "code",
      "source": [
        "from sklearn.metrics import classification_report\n",
        "from sklearn.metrics import accuracy_score\n",
        "\n",
        "y_pred = clf.predict(X_test_tfidf)\n",
        "\n",
        "print(classification_report(y_test, y_pred))"
      ],
      "metadata": {
        "colab": {
          "base_uri": "https://localhost:8080/"
        },
        "id": "UNllq6LINWHC",
        "outputId": "d7a7c46c-4c44-4502-8592-a86a7fd8e7e8"
      },
      "execution_count": null,
      "outputs": [
        {
          "output_type": "stream",
          "name": "stdout",
          "text": [
            "              precision    recall  f1-score   support\n",
            "\n",
            "           0       0.19      0.15      0.17       308\n",
            "           1       0.23      0.24      0.24       410\n",
            "           2       0.21      0.21      0.21       440\n",
            "           3       0.20      0.23      0.21       356\n",
            "           4       0.11      0.09      0.10       173\n",
            "           5       0.19      0.18      0.18       359\n",
            "\n",
            "    accuracy                           0.20      2046\n",
            "   macro avg       0.19      0.19      0.19      2046\n",
            "weighted avg       0.20      0.20      0.20      2046\n",
            "\n"
          ]
        }
      ]
    },
    {
      "cell_type": "code",
      "source": [
        "from sklearn.metrics import confusion_matrix\n",
        "import seaborn as sns\n",
        "import matplotlib.pyplot as plt\n",
        "\n",
        "sns.heatmap(confusion_matrix(y_test, y_pred), annot=True, xticklabels=set(y_train), yticklabels=set(y_train))\n",
        "plt.ylabel('Vraies classes')\n",
        "plt.xlabel('Classes prédites')\n",
        "plt.show()"
      ],
      "metadata": {
        "colab": {
          "base_uri": "https://localhost:8080/",
          "height": 510
        },
        "id": "P2JejSvFNVuq",
        "outputId": "d882ecb1-b7af-4163-e17a-0d1b8d16d960"
      },
      "execution_count": null,
      "outputs": [
        {
          "output_type": "display_data",
          "data": {
            "text/plain": [
              "<Figure size 842.4x595.44 with 2 Axes>"
            ],
            "image/png": "[encoded data removed]"
          },
          "metadata": {}
        }
      ]
    },
    {
      "cell_type": "markdown",
      "source": [
        "#4ème méthode LogisticRegression"
      ],
      "metadata": {
        "id": "TS9sX1ePkhb_"
      }
    },
    {
      "cell_type": "code",
      "source": [
        "from sklearn.linear_model import LogisticRegression\n",
        "clf = LogisticRegression()\n",
        "\n",
        "_ = clf.fit(X_train_tfidf, y_train)"
      ],
      "metadata": {
        "id": "AuJlQWXSNVlo"
      },
      "execution_count": null,
      "outputs": []
    },
    {
      "cell_type": "code",
      "source": [
        "from sklearn.metrics import classification_report\n",
        "from sklearn.metrics import accuracy_score\n",
        "\n",
        "y_pred = clf.predict(X_test_tfidf)\n",
        "\n",
        "print(classification_report(y_test, y_pred))"
      ],
      "metadata": {
        "colab": {
          "base_uri": "https://localhost:8080/"
        },
        "id": "bX46JR0sNVbC",
        "outputId": "38023f1b-aea9-4c78-a036-55e1eb6e7ad7"
      },
      "execution_count": null,
      "outputs": [
        {
          "output_type": "stream",
          "name": "stdout",
          "text": [
            "              precision    recall  f1-score   support\n",
            "\n",
            "           0       0.19      0.16      0.17       308\n",
            "           1       0.28      0.33      0.30       410\n",
            "           2       0.25      0.29      0.27       440\n",
            "           3       0.22      0.35      0.27       356\n",
            "           4       1.00      0.03      0.06       173\n",
            "           5       0.23      0.14      0.17       359\n",
            "\n",
            "    accuracy                           0.24      2046\n",
            "   macro avg       0.36      0.22      0.21      2046\n",
            "weighted avg       0.30      0.24      0.23      2046\n",
            "\n"
          ]
        }
      ]
    },
    {
      "cell_type": "code",
      "source": [
        "from sklearn.metrics import confusion_matrix\n",
        "import seaborn as sns\n",
        "import matplotlib.pyplot as plt\n",
        "\n",
        "sns.heatmap(confusion_matrix(y_test, y_pred), annot=True, xticklabels=set(y_train), yticklabels=set(y_train))\n",
        "plt.ylabel('Vraies classes')\n",
        "plt.xlabel('Classes prédites')\n",
        "plt.show()"
      ],
      "metadata": {
        "colab": {
          "base_uri": "https://localhost:8080/",
          "height": 510
        },
        "id": "7y2SdJbCNVKJ",
        "outputId": "fdf44727-e1f0-44fc-e9dd-6150aa90c5b9"
      },
      "execution_count": null,
      "outputs": [
        {
          "output_type": "display_data",
          "data": {
            "text/plain": [
              "<Figure size 842.4x595.44 with 2 Axes>"
            ],
            "image/png": "[encoded data removed]"
          },
          "metadata": {}
        }
      ]
    },
    {
      "cell_type": "markdown",
      "source": [
        "\n",
        "#En conclusion apres avoir implémenté tous les 5 modèles on constate que les modeles LogisticRegression et RandomForest sont plus performants sur notre jeu de donnnées   "
      ],
      "metadata": {
        "id": "F-VM4v9Ao2mc"
      }
    },
    {
      "cell_type": "code",
      "source": [],
      "metadata": {
        "id": "Q-IvmXaXk7D7"
      },
      "execution_count": null,
      "outputs": []
    }
  ]
}