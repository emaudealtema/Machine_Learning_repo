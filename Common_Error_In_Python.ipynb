{
  "nbformat": 4,
  "nbformat_minor": 0,
  "metadata": {
    "colab": {
      "name": "Common_Error_In_Python.ipynb",
      "provenance": [],
      "collapsed_sections": [],
      "authorship_tag": "ABX9TyOmLiWB+hRxTCK3mErlRife",
      "include_colab_link": true
    },
    "kernelspec": {
      "name": "python3",
      "display_name": "Python 3"
    },
    "language_info": {
      "name": "python"
    }
  },
  "cells": [
    {
      "cell_type": "markdown",
      "metadata": {
        "id": "view-in-github",
        "colab_type": "text"
      },
      "source": [
        "<a href=\"https://colab.research.google.com/github/emaudealtema/Machine_Learning_repo/blob/master/Common_Error_In_Python.ipynb\" target=\"_parent\"><img src=\"https://colab.research.google.com/assets/colab-badge.svg\" alt=\"Open In Colab\"/></a>"
      ]
    },
    {
      "cell_type": "markdown",
      "metadata": {
        "id": "V454XaD7tZre"
      },
      "source": [
        "# Des questions\n",
        "Comment Python signale-t-il les erreurs ?\n",
        "\n",
        "Comment gérer les erreurs dans les programmes Python ?\n",
        "\n",
        "**Objectifs**\n",
        "Pour pouvoir lire un retraçage et déterminer où l'erreur s'est produite et de quel type il s'agit.\n",
        "\n",
        "Être capable de décrire les types de situations dans lesquelles se produisent des erreurs de syntaxe, des erreurs d'indentation, des erreurs de nom, des erreurs d'index et des erreurs de fichier manquant.\n",
        "\n",
        "Chaque programmeur rencontre des erreurs, à la fois ceux qui débutent et ceux qui programment depuis des années. Rencontrer des erreurs et des exceptions peut parfois être très frustrant et peut donner l'impression que le codage est une entreprise sans espoir. Cependant, comprendre quels sont les différents types d'erreurs et quand vous êtes susceptible de rencontrer peut être très utile. Une fois que vous savez pourquoi vous obtenez certains types d'erreurs, elles deviennent beaucoup plus faciles à corriger.\n",
        "\n",
        "Les erreurs en Python ont une forme très spécifique, appelée traceback. Examinons-en un :"
      ]
    },
    {
      "cell_type": "code",
      "metadata": {
        "colab": {
          "base_uri": "https://localhost:8080/",
          "height": 313
        },
        "id": "MBBSCLQqs4gq",
        "outputId": "ae4809de-f778-498f-fd8d-86b632560b4b"
      },
      "source": [
        "# This code has an intentional error. You can type it directly or\n",
        "# use it for reference to understand the error message below.\n",
        "def favorite_ice_cream():\n",
        "    ice_creams = [\n",
        "        \"chocolate\",\n",
        "        \"vanilla\",\n",
        "        \"strawberry\"\n",
        "    ]\n",
        "    print(ice_creams[3])\n",
        "\n",
        "favorite_ice_cream()"
      ],
      "execution_count": null,
      "outputs": [
        {
          "output_type": "error",
          "ename": "IndexError",
          "evalue": "ignored",
          "traceback": [
            "\u001b[0;31m---------------------------------------------------------------------------\u001b[0m",
            "\u001b[0;31mIndexError\u001b[0m                                Traceback (most recent call last)",
            "\u001b[0;32m<ipython-input-1-d9c4f1bc4564>\u001b[0m in \u001b[0;36m<module>\u001b[0;34m()\u001b[0m\n\u001b[1;32m      9\u001b[0m     \u001b[0mprint\u001b[0m\u001b[0;34m(\u001b[0m\u001b[0mice_creams\u001b[0m\u001b[0;34m[\u001b[0m\u001b[0;36m3\u001b[0m\u001b[0;34m]\u001b[0m\u001b[0;34m)\u001b[0m\u001b[0;34m\u001b[0m\u001b[0;34m\u001b[0m\u001b[0m\n\u001b[1;32m     10\u001b[0m \u001b[0;34m\u001b[0m\u001b[0m\n\u001b[0;32m---> 11\u001b[0;31m \u001b[0mfavorite_ice_cream\u001b[0m\u001b[0;34m(\u001b[0m\u001b[0;34m)\u001b[0m\u001b[0;34m\u001b[0m\u001b[0;34m\u001b[0m\u001b[0m\n\u001b[0m",
            "\u001b[0;32m<ipython-input-1-d9c4f1bc4564>\u001b[0m in \u001b[0;36mfavorite_ice_cream\u001b[0;34m()\u001b[0m\n\u001b[1;32m      7\u001b[0m         \u001b[0;34m\"strawberry\"\u001b[0m\u001b[0;34m\u001b[0m\u001b[0;34m\u001b[0m\u001b[0m\n\u001b[1;32m      8\u001b[0m     ]\n\u001b[0;32m----> 9\u001b[0;31m     \u001b[0mprint\u001b[0m\u001b[0;34m(\u001b[0m\u001b[0mice_creams\u001b[0m\u001b[0;34m[\u001b[0m\u001b[0;36m3\u001b[0m\u001b[0;34m]\u001b[0m\u001b[0;34m)\u001b[0m\u001b[0;34m\u001b[0m\u001b[0;34m\u001b[0m\u001b[0m\n\u001b[0m\u001b[1;32m     10\u001b[0m \u001b[0;34m\u001b[0m\u001b[0m\n\u001b[1;32m     11\u001b[0m \u001b[0mfavorite_ice_cream\u001b[0m\u001b[0;34m(\u001b[0m\u001b[0;34m)\u001b[0m\u001b[0;34m\u001b[0m\u001b[0;34m\u001b[0m\u001b[0m\n",
            "\u001b[0;31mIndexError\u001b[0m: list index out of range"
          ]
        }
      ]
    },
    {
      "cell_type": "markdown",
      "metadata": {
        "id": "H6FouUGTvRf4"
      },
      "source": [
        "\n",
        "Ce retraçage particulier a deux niveaux. Vous pouvez déterminer le nombre de niveaux en recherchant le nombre de flèches sur le côté gauche. Dans ce cas:\n",
        "\n",
        "Le premier montre le code de la cellule ci-dessus, avec une flèche pointant vers la ligne 8 (qui est favorite_ice_cream()).\n",
        "\n",
        "La seconde montre du code dans la fonction favorite_ice_cream, avec une flèche pointant vers la ligne 6 (qui est print(ice_creams[3])).\n",
        "\n",
        "Le dernier niveau est l'endroit réel où l'erreur s'est produite. Les autres niveaux indiquent la fonction exécutée par le programme pour passer au niveau inférieur. Ainsi, dans ce cas, le programme a d'abord effectué un appel de fonction à la fonction favorite_ice_cream. Dans cette fonction, le programme a rencontré une erreur sur la ligne 6, lorsqu'il a essayé d'exécuter le code print(ice_creams[3])."
      ]
    },
    {
      "cell_type": "markdown",
      "metadata": {
        "id": "OTG6g_iTvees"
      },
      "source": [
        "# **Longs retraçages**\n",
        "Parfois, vous pouvez voir un retraçage qui est très long - parfois, il peut même avoir 20 niveaux de profondeur ! Cela peut donner l'impression que quelque chose d'horrible s'est produit, mais en réalité, cela signifie simplement que votre programme a appelé de nombreuses fonctions avant de rencontrer l'erreur. La plupart du temps, vous pouvez simplement faire attention au niveau le plus bas, qui est l'endroit réel où l'erreur s'est produite.\n",
        "\n",
        "Alors, quelle erreur le programme a-t-il réellement rencontré ? Dans la dernière ligne du traceback, Python nous indique utilement la catégorie ou le type d'erreur (dans ce cas, il s'agit d'une IndexError) et un message d'erreur plus détaillé (dans ce cas, il indique « index de liste hors limites »).\n",
        "\n",
        "Si vous rencontrez une erreur et ne savez pas ce que cela signifie, il est toujours important de lire attentivement le retraçage. De cette façon, si vous corrigez l'erreur, mais que vous en rencontrez une nouvelle, vous pouvez dire que l'erreur a changé. De plus, il suffit parfois de savoir où l'erreur s'est produite pour la corriger, même si vous ne comprenez pas entièrement le message.\n",
        "\n",
        "Si vous rencontrez une erreur que vous ne reconnaissez pas, essayez de consulter la documentation officielle sur les erreurs. Cependant, notez que vous ne pourrez peut-être pas toujours y trouver l'erreur, car il est possible de créer des erreurs personnalisées. Dans ce cas, j'espère que le message d'erreur personnalisé est suffisamment informatif pour vous aider à comprendre ce qui s'est mal passé.\n",
        "\n",
        "# Erreurs de syntaxe\n",
        "Lorsque vous oubliez un deux-points à la fin d'une ligne, ajoutez accidentellement un espace de trop lors de l'indentation sous une instruction if, ou oubliez une parenthèse, vous rencontrerez une erreur de syntaxe. Cela signifie que Python n'a pas pu comprendre comment lire votre programme. C'est comme oublier la ponctuation en anglais : par exemple, ce texte est difficile à lire il n'y a pas de ponctuation il n'y a pas non plus de majuscule pourquoi est-ce difficile car il faut savoir où se termine chaque phrase il faut aussi savoir où chaque phrase commence dans une certaine mesure, il peut être ambigu s'il doit y avoir un saut de phrase ou non\n",
        "\n",
        "Les gens peuvent généralement comprendre ce que l'on entend par texte sans ponctuation, mais les gens sont beaucoup plus intelligents que les ordinateurs. Si Python ne sait pas lire le programme, il abandonnera simplement et vous informera d'une erreur. Par example:"
      ]
    },
    {
      "cell_type": "code",
      "metadata": {
        "id": "YVR390vPu8yB",
        "colab": {
          "base_uri": "https://localhost:8080/",
          "height": 128
        },
        "outputId": "71284641-3c35-4a34-c623-265463b83fa0"
      },
      "source": [
        "def some_function():\n",
        "\tmsg = \"hello, world!\"\n",
        "\tprint(msg)\n",
        "        return msg          \n",
        "        "
      ],
      "execution_count": 1,
      "outputs": [
        {
          "output_type": "error",
          "ename": "TabError",
          "evalue": "ignored",
          "traceback": [
            "\u001b[0;36m  File \u001b[0;32m\"<ipython-input-1-90a21f24291e>\"\u001b[0;36m, line \u001b[0;32m4\u001b[0m\n\u001b[0;31m    return msg\u001b[0m\n\u001b[0m                        ^\u001b[0m\n\u001b[0;31mTabError\u001b[0m\u001b[0;31m:\u001b[0m inconsistent use of tabs and spaces in indentation\n"
          ]
        }
      ]
    },
    {
      "cell_type": "code",
      "metadata": {
        "colab": {
          "base_uri": "https://localhost:8080/",
          "height": 128
        },
        "id": "3zy0c45d7EeX",
        "outputId": "781fc2b8-1c6c-4d2c-984e-2961e00314ac"
      },
      "source": [
        "Erreurs de nom de variable\n",
        "Un autre type d'erreur très courant est appelé NameError et se produit lorsque vous essayez d'utiliser une variable qui n'existe pas. Par example:\n",
        "\n",
        "imprimer(a)"
      ],
      "execution_count": 2,
      "outputs": [
        {
          "output_type": "error",
          "ename": "SyntaxError",
          "evalue": "ignored",
          "traceback": [
            "\u001b[0;36m  File \u001b[0;32m\"<ipython-input-2-9eeb413e65b3>\"\u001b[0;36m, line \u001b[0;32m1\u001b[0m\n\u001b[0;31m    Erreurs de nom de variable\u001b[0m\n\u001b[0m             ^\u001b[0m\n\u001b[0;31mSyntaxError\u001b[0m\u001b[0;31m:\u001b[0m invalid syntax\n"
          ]
        }
      ]
    },
    {
      "cell_type": "markdown",
      "metadata": {
        "id": "tItYzBVkarLV"
      },
      "source": [
        "## Erreurs de nom de variable\n",
        "Un autre type d'erreur très courant est appelé NameError et se produit lorsque vous essayez d'utiliser une variable qui n'existe pas. Par example:\n",
        "\n"
      ]
    },
    {
      "cell_type": "code",
      "metadata": {
        "colab": {
          "base_uri": "https://localhost:8080/",
          "height": 162
        },
        "id": "nIxxt6X47jPM",
        "outputId": "3997b11f-4d9d-4790-905a-61c885118c9c"
      },
      "source": [
        "print(a)"
      ],
      "execution_count": 1,
      "outputs": [
        {
          "output_type": "error",
          "ename": "NameError",
          "evalue": "ignored",
          "traceback": [
            "\u001b[0;31m---------------------------------------------------------------------------\u001b[0m",
            "\u001b[0;31mNameError\u001b[0m                                 Traceback (most recent call last)",
            "\u001b[0;32m<ipython-input-1-bca0e2660b9f>\u001b[0m in \u001b[0;36m<module>\u001b[0;34m()\u001b[0m\n\u001b[0;32m----> 1\u001b[0;31m \u001b[0mprint\u001b[0m\u001b[0;34m(\u001b[0m\u001b[0ma\u001b[0m\u001b[0;34m)\u001b[0m\u001b[0;34m\u001b[0m\u001b[0;34m\u001b[0m\u001b[0m\n\u001b[0m",
            "\u001b[0;31mNameError\u001b[0m: name 'a' is not defined"
          ]
        }
      ]
    },
    {
      "cell_type": "markdown",
      "metadata": {
        "id": "wrZF2T9WbARu"
      },
      "source": [
        "Les erreurs de nom de variable sont accompagnées de certains des messages d'erreur les plus informatifs, qui sont généralement de la forme « le nom « le_nom_de_la_variable » n'est pas défini ».\n",
        "\n",
        "Pourquoi ce message d'erreur apparaît-il ? C'est une question plus difficile à répondre, car cela dépend de ce que votre code est censé faire. Cependant, il existe quelques raisons très courantes pour lesquelles vous pourriez avoir une variable non définie. La première est que vous vouliez utiliser une chaîne, mais que vous avez oublié de la mettre entre guillemets :"
      ]
    },
    {
      "cell_type": "code",
      "metadata": {
        "colab": {
          "base_uri": "https://localhost:8080/",
          "height": 162
        },
        "id": "RwXIap4pa3Mp",
        "outputId": "a7e7c2ed-6d8b-4c2e-a69c-dc1c2428640d"
      },
      "source": [
        "print(hello)"
      ],
      "execution_count": 2,
      "outputs": [
        {
          "output_type": "error",
          "ename": "NameError",
          "evalue": "ignored",
          "traceback": [
            "\u001b[0;31m---------------------------------------------------------------------------\u001b[0m",
            "\u001b[0;31mNameError\u001b[0m                                 Traceback (most recent call last)",
            "\u001b[0;32m<ipython-input-2-1cd80308eb4c>\u001b[0m in \u001b[0;36m<module>\u001b[0;34m()\u001b[0m\n\u001b[0;32m----> 1\u001b[0;31m \u001b[0mprint\u001b[0m\u001b[0;34m(\u001b[0m\u001b[0mhello\u001b[0m\u001b[0;34m)\u001b[0m\u001b[0;34m\u001b[0m\u001b[0;34m\u001b[0m\u001b[0m\n\u001b[0m",
            "\u001b[0;31mNameError\u001b[0m: name 'hello' is not defined"
          ]
        }
      ]
    },
    {
      "cell_type": "markdown",
      "metadata": {
        "id": "qZOih-JtbY_F"
      },
      "source": [
        "La seconde est que vous avez juste oublié de créer la variable avant de l'utiliser. Dans l'exemple suivant, count doit avoir été défini (par exemple, avec count = 0) avant la boucle for :\n",
        "\n"
      ]
    },
    {
      "cell_type": "code",
      "metadata": {
        "colab": {
          "base_uri": "https://localhost:8080/",
          "height": 195
        },
        "id": "MdqCoEK0bFZy",
        "outputId": "7149c950-4e62-4417-ff04-973633941800"
      },
      "source": [
        "for number in range(10):\n",
        "    count = count + number\n",
        "print(\"The count is:\", count)"
      ],
      "execution_count": 3,
      "outputs": [
        {
          "output_type": "error",
          "ename": "NameError",
          "evalue": "ignored",
          "traceback": [
            "\u001b[0;31m---------------------------------------------------------------------------\u001b[0m",
            "\u001b[0;31mNameError\u001b[0m                                 Traceback (most recent call last)",
            "\u001b[0;32m<ipython-input-3-223ed4c94391>\u001b[0m in \u001b[0;36m<module>\u001b[0;34m()\u001b[0m\n\u001b[1;32m      1\u001b[0m \u001b[0;32mfor\u001b[0m \u001b[0mnumber\u001b[0m \u001b[0;32min\u001b[0m \u001b[0mrange\u001b[0m\u001b[0;34m(\u001b[0m\u001b[0;36m10\u001b[0m\u001b[0;34m)\u001b[0m\u001b[0;34m:\u001b[0m\u001b[0;34m\u001b[0m\u001b[0;34m\u001b[0m\u001b[0m\n\u001b[0;32m----> 2\u001b[0;31m     \u001b[0mcount\u001b[0m \u001b[0;34m=\u001b[0m \u001b[0mcount\u001b[0m \u001b[0;34m+\u001b[0m \u001b[0mnumber\u001b[0m\u001b[0;34m\u001b[0m\u001b[0;34m\u001b[0m\u001b[0m\n\u001b[0m\u001b[1;32m      3\u001b[0m \u001b[0mprint\u001b[0m\u001b[0;34m(\u001b[0m\u001b[0;34m\"The count is:\"\u001b[0m\u001b[0;34m,\u001b[0m \u001b[0mcount\u001b[0m\u001b[0;34m)\u001b[0m\u001b[0;34m\u001b[0m\u001b[0;34m\u001b[0m\u001b[0m\n",
            "\u001b[0;31mNameError\u001b[0m: name 'count' is not defined"
          ]
        }
      ]
    },
    {
      "cell_type": "markdown",
      "metadata": {
        "id": "3LHBDu1bbmqy"
      },
      "source": [
        "Enfin, la troisième possibilité est que vous ayez fait une faute de frappe lors de l'écriture de votre code. Disons que nous avons corrigé l'erreur ci-dessus en ajoutant la ligne Count = 0 avant la boucle for. Frustrant, cela ne résout pas l'erreur. N'oubliez pas que les variables sont sensibles à la casse, donc le nombre de variables est différent de Count. Nous obtenons toujours la même erreur, car nous n'avons toujours pas défini le nombre :"
      ]
    },
    {
      "cell_type": "code",
      "metadata": {
        "colab": {
          "base_uri": "https://localhost:8080/",
          "height": 212
        },
        "id": "G-jTEvrXbhTP",
        "outputId": "bf0509f5-7709-40c5-c8b1-677841789009"
      },
      "source": [
        "Count = 0\n",
        "for number in range(10):\n",
        "    count = count + number\n",
        "print(\"The count is:\", count)"
      ],
      "execution_count": 4,
      "outputs": [
        {
          "output_type": "error",
          "ename": "NameError",
          "evalue": "ignored",
          "traceback": [
            "\u001b[0;31m---------------------------------------------------------------------------\u001b[0m",
            "\u001b[0;31mNameError\u001b[0m                                 Traceback (most recent call last)",
            "\u001b[0;32m<ipython-input-4-52704ad2ac41>\u001b[0m in \u001b[0;36m<module>\u001b[0;34m()\u001b[0m\n\u001b[1;32m      1\u001b[0m \u001b[0mCount\u001b[0m \u001b[0;34m=\u001b[0m \u001b[0;36m0\u001b[0m\u001b[0;34m\u001b[0m\u001b[0;34m\u001b[0m\u001b[0m\n\u001b[1;32m      2\u001b[0m \u001b[0;32mfor\u001b[0m \u001b[0mnumber\u001b[0m \u001b[0;32min\u001b[0m \u001b[0mrange\u001b[0m\u001b[0;34m(\u001b[0m\u001b[0;36m10\u001b[0m\u001b[0;34m)\u001b[0m\u001b[0;34m:\u001b[0m\u001b[0;34m\u001b[0m\u001b[0;34m\u001b[0m\u001b[0m\n\u001b[0;32m----> 3\u001b[0;31m     \u001b[0mcount\u001b[0m \u001b[0;34m=\u001b[0m \u001b[0mcount\u001b[0m \u001b[0;34m+\u001b[0m \u001b[0mnumber\u001b[0m\u001b[0;34m\u001b[0m\u001b[0;34m\u001b[0m\u001b[0m\n\u001b[0m\u001b[1;32m      4\u001b[0m \u001b[0mprint\u001b[0m\u001b[0;34m(\u001b[0m\u001b[0;34m\"The count is:\"\u001b[0m\u001b[0;34m,\u001b[0m \u001b[0mcount\u001b[0m\u001b[0;34m)\u001b[0m\u001b[0;34m\u001b[0m\u001b[0;34m\u001b[0m\u001b[0m\n",
            "\u001b[0;31mNameError\u001b[0m: name 'count' is not defined"
          ]
        }
      ]
    },
    {
      "cell_type": "markdown",
      "metadata": {
        "id": "Z8gbZdEQcMaW"
      },
      "source": [
        "## Index Errors\n",
        "Next up are errors having to do with containers (like lists and strings) and the items within them. If you try to access an item in a list or a string that does not exist, then you will get an error. This makes sense: if you asked someone what day they would like to get coffee, and they answered “caturday”, you might be a bit annoyed. Python gets similarly annoyed if you try to ask it for an item that doesn’t exist:"
      ]
    },
    {
      "cell_type": "code",
      "metadata": {
        "colab": {
          "base_uri": "https://localhost:8080/",
          "height": 246
        },
        "id": "49iqR55ncEhY",
        "outputId": "6fe80db2-e143-4b72-97de-994f185fdb48"
      },
      "source": [
        "letters = ['a', 'b', 'c']\n",
        "print(\"Letter #1 is\", letters[0])\n",
        "print(\"Letter #2 is\", letters[1])\n",
        "print(\"Letter #3 is\", letters[2])\n",
        "print(\"Letter #4 is\", letters[3])"
      ],
      "execution_count": 7,
      "outputs": [
        {
          "output_type": "stream",
          "text": [
            "Letter #1 is a\n",
            "Letter #2 is b\n",
            "Letter #3 is c\n"
          ],
          "name": "stdout"
        },
        {
          "output_type": "error",
          "ename": "IndexError",
          "evalue": "ignored",
          "traceback": [
            "\u001b[0;31m---------------------------------------------------------------------------\u001b[0m",
            "\u001b[0;31mIndexError\u001b[0m                                Traceback (most recent call last)",
            "\u001b[0;32m<ipython-input-7-9624ce6f7f87>\u001b[0m in \u001b[0;36m<module>\u001b[0;34m()\u001b[0m\n\u001b[1;32m      3\u001b[0m \u001b[0mprint\u001b[0m\u001b[0;34m(\u001b[0m\u001b[0;34m\"Letter #2 is\"\u001b[0m\u001b[0;34m,\u001b[0m \u001b[0mletters\u001b[0m\u001b[0;34m[\u001b[0m\u001b[0;36m1\u001b[0m\u001b[0;34m]\u001b[0m\u001b[0;34m)\u001b[0m\u001b[0;34m\u001b[0m\u001b[0;34m\u001b[0m\u001b[0m\n\u001b[1;32m      4\u001b[0m \u001b[0mprint\u001b[0m\u001b[0;34m(\u001b[0m\u001b[0;34m\"Letter #3 is\"\u001b[0m\u001b[0;34m,\u001b[0m \u001b[0mletters\u001b[0m\u001b[0;34m[\u001b[0m\u001b[0;36m2\u001b[0m\u001b[0;34m]\u001b[0m\u001b[0;34m)\u001b[0m\u001b[0;34m\u001b[0m\u001b[0;34m\u001b[0m\u001b[0m\n\u001b[0;32m----> 5\u001b[0;31m \u001b[0mprint\u001b[0m\u001b[0;34m(\u001b[0m\u001b[0;34m\"Letter #4 is\"\u001b[0m\u001b[0;34m,\u001b[0m \u001b[0mletters\u001b[0m\u001b[0;34m[\u001b[0m\u001b[0;36m3\u001b[0m\u001b[0;34m]\u001b[0m\u001b[0;34m)\u001b[0m\u001b[0;34m\u001b[0m\u001b[0;34m\u001b[0m\u001b[0m\n\u001b[0m",
            "\u001b[0;31mIndexError\u001b[0m: list index out of range"
          ]
        }
      ]
    },
    {
      "cell_type": "markdown",
      "metadata": {
        "id": "wxYIVixfe7MV"
      },
      "source": [
        "Ici, Python nous dit qu'il y a une IndexError dans notre code, ce qui signifie que nous avons essayé d'accéder à un index de liste qui n'existait pas.\n",
        "\n",
        "## Erreurs de fichier\n",
        "Le dernier type d'erreur que nous aborderons aujourd'hui est celui associé à la lecture et à l'écriture de fichiers : FileNotFoundError. Si vous essayez de lire un fichier qui n'existe pas, vous recevrez une erreur FileNotFoundError vous l'indiquant. Si vous essayez d'écrire dans un fichier qui a été ouvert en lecture seule, Python 3 renvoie une UnsupportedOperationError. Plus généralement, les problèmes d'entrée et de sortie se manifestent par des IOErrors ou OSErrors, selon la version de Python que vous utilisez."
      ]
    },
    {
      "cell_type": "code",
      "metadata": {
        "colab": {
          "base_uri": "https://localhost:8080/",
          "height": 162
        },
        "id": "C17d1nHZcat4",
        "outputId": "0c229cc4-0044-4b93-f9f0-5ac0c3a10946"
      },
      "source": [
        "file_handle = open('myfile.txt', 'r')"
      ],
      "execution_count": 8,
      "outputs": [
        {
          "output_type": "error",
          "ename": "FileNotFoundError",
          "evalue": "ignored",
          "traceback": [
            "\u001b[0;31m---------------------------------------------------------------------------\u001b[0m",
            "\u001b[0;31mFileNotFoundError\u001b[0m                         Traceback (most recent call last)",
            "\u001b[0;32m<ipython-input-8-080b0e91cc46>\u001b[0m in \u001b[0;36m<module>\u001b[0;34m()\u001b[0m\n\u001b[0;32m----> 1\u001b[0;31m \u001b[0mfile_handle\u001b[0m \u001b[0;34m=\u001b[0m \u001b[0mopen\u001b[0m\u001b[0;34m(\u001b[0m\u001b[0;34m'myfile.txt'\u001b[0m\u001b[0;34m,\u001b[0m \u001b[0;34m'r'\u001b[0m\u001b[0;34m)\u001b[0m\u001b[0;34m\u001b[0m\u001b[0;34m\u001b[0m\u001b[0m\n\u001b[0m",
            "\u001b[0;31mFileNotFoundError\u001b[0m: [Errno 2] No such file or directory: 'myfile.txt'"
          ]
        }
      ]
    },
    {
      "cell_type": "markdown",
      "metadata": {
        "id": "Vbs5K5jzfI-V"
      },
      "source": [
        "L'une des raisons de la réception de cette erreur est que vous avez spécifié un chemin d'accès incorrect au fichier. Par exemple, si je suis actuellement dans un dossier appelé myproject et que j'ai un fichier dans myproject/writing/myfile.txt, mais que j'essaie d'ouvrir simplement myfile.txt, cela échouera. Le chemin correct serait writing/myfile.txt. Il est également possible (comme avec NameError) que vous veniez de faire une faute de frappe.\n",
        "\n",
        "Un problème connexe peut se produire si vous utilisez l'indicateur « read » au lieu de l'indicateur « write ». Python ne vous donnera pas d'erreur si vous essayez d'ouvrir un fichier en écriture alors que le fichier n'existe pas. Cependant, si vous vouliez ouvrir un fichier en lecture, mais que vous l'avez accidentellement ouvert en écriture, puis essayez de le lire, vous obtiendrez une erreur UnsupportedOperation vous indiquant que le fichier n'a pas été ouvert en lecture :"
      ]
    },
    {
      "cell_type": "code",
      "metadata": {
        "colab": {
          "base_uri": "https://localhost:8080/",
          "height": 178
        },
        "id": "3OkcFaxOfB_d",
        "outputId": "02888282-ca93-44ed-fae8-f43b7756d7cf"
      },
      "source": [
        "file_handle = open('myfile.txt', 'w')\n",
        "file_handle.read()"
      ],
      "execution_count": 9,
      "outputs": [
        {
          "output_type": "error",
          "ename": "UnsupportedOperation",
          "evalue": "ignored",
          "traceback": [
            "\u001b[0;31m---------------------------------------------------------------------------\u001b[0m",
            "\u001b[0;31mUnsupportedOperation\u001b[0m                      Traceback (most recent call last)",
            "\u001b[0;32m<ipython-input-9-063a9999adc0>\u001b[0m in \u001b[0;36m<module>\u001b[0;34m()\u001b[0m\n\u001b[1;32m      1\u001b[0m \u001b[0mfile_handle\u001b[0m \u001b[0;34m=\u001b[0m \u001b[0mopen\u001b[0m\u001b[0;34m(\u001b[0m\u001b[0;34m'myfile.txt'\u001b[0m\u001b[0;34m,\u001b[0m \u001b[0;34m'w'\u001b[0m\u001b[0;34m)\u001b[0m\u001b[0;34m\u001b[0m\u001b[0;34m\u001b[0m\u001b[0m\n\u001b[0;32m----> 2\u001b[0;31m \u001b[0mfile_handle\u001b[0m\u001b[0;34m.\u001b[0m\u001b[0mread\u001b[0m\u001b[0;34m(\u001b[0m\u001b[0;34m)\u001b[0m\u001b[0;34m\u001b[0m\u001b[0;34m\u001b[0m\u001b[0m\n\u001b[0m",
            "\u001b[0;31mUnsupportedOperation\u001b[0m: not readable"
          ]
        }
      ]
    },
    {
      "cell_type": "markdown",
      "metadata": {
        "id": "MY30qK_MfZ1H"
      },
      "source": [
        "Ce sont les erreurs les plus courantes avec les fichiers, bien que de nombreuses autres existent. Si vous obtenez une erreur que vous n'avez jamais vue auparavant, la recherche sur Internet pour ce type d'erreur révèle souvent des raisons courantes pour lesquelles vous pourriez obtenir cette erreur."
      ]
    },
    {
      "cell_type": "markdown",
      "metadata": {
        "id": "18NkLSm6fguU"
      },
      "source": [
        "Lecture des messages d'erreur\n",
        "Lisez le code Python et le retraçage résultant ci-dessous, et répondez aux questions suivantes :\n",
        "\n",
        "1)Combien de niveaux le traceback a-t-il ?\n",
        "\n",
        "2)Quel est le nom de la fonction où l'erreur s'est produite ?\n",
        "\n",
        "3)Sur quel numéro de ligne dans cette fonction l'erreur s'est-elle produite ?\n",
        "\n",
        "4)Quel est le type d'erreur ?\n",
        "\n",
        "5)Quel est le message d'erreur?"
      ]
    },
    {
      "cell_type": "code",
      "metadata": {
        "colab": {
          "base_uri": "https://localhost:8080/",
          "height": 337
        },
        "id": "OllZzqTgfNO6",
        "outputId": "b51b6880-b02f-4f3d-d757-720996fd78e5"
      },
      "source": [
        "# This code has an intentional error. Do not type it directly;\n",
        "# use it for reference to understand the error message below.\n",
        "def print_message(day):\n",
        "    messages = {\n",
        "        \"monday\": \"Hello, world!\",\n",
        "        \"tuesday\": \"Today is tuesday!\",\n",
        "        \"wednesday\": \"It is the middle of the week.\",\n",
        "        \"thursday\": \"Today is Donnerstag in German!\",\n",
        "        \"friday\": \"Last day of the week!\",\n",
        "        \"saturday\": \"Hooray for the weekend!\",\n",
        "        \"sunday\": \"Aw, the weekend is almost over.\"\n",
        "    }\n",
        "    print(messages[day])\n",
        "\n",
        "def print_friday_message():\n",
        "    print_message(\"Friday\")\n",
        "\n",
        "print_friday_message()"
      ],
      "execution_count": 10,
      "outputs": [
        {
          "output_type": "error",
          "ename": "KeyError",
          "evalue": "ignored",
          "traceback": [
            "\u001b[0;31m---------------------------------------------------------------------------\u001b[0m",
            "\u001b[0;31mKeyError\u001b[0m                                  Traceback (most recent call last)",
            "\u001b[0;32m<ipython-input-10-de6550a81dbd>\u001b[0m in \u001b[0;36m<module>\u001b[0;34m()\u001b[0m\n\u001b[1;32m     16\u001b[0m     \u001b[0mprint_message\u001b[0m\u001b[0;34m(\u001b[0m\u001b[0;34m\"Friday\"\u001b[0m\u001b[0;34m)\u001b[0m\u001b[0;34m\u001b[0m\u001b[0;34m\u001b[0m\u001b[0m\n\u001b[1;32m     17\u001b[0m \u001b[0;34m\u001b[0m\u001b[0m\n\u001b[0;32m---> 18\u001b[0;31m \u001b[0mprint_friday_message\u001b[0m\u001b[0;34m(\u001b[0m\u001b[0;34m)\u001b[0m\u001b[0;34m\u001b[0m\u001b[0;34m\u001b[0m\u001b[0m\n\u001b[0m",
            "\u001b[0;32m<ipython-input-10-de6550a81dbd>\u001b[0m in \u001b[0;36mprint_friday_message\u001b[0;34m()\u001b[0m\n\u001b[1;32m     14\u001b[0m \u001b[0;34m\u001b[0m\u001b[0m\n\u001b[1;32m     15\u001b[0m \u001b[0;32mdef\u001b[0m \u001b[0mprint_friday_message\u001b[0m\u001b[0;34m(\u001b[0m\u001b[0;34m)\u001b[0m\u001b[0;34m:\u001b[0m\u001b[0;34m\u001b[0m\u001b[0;34m\u001b[0m\u001b[0m\n\u001b[0;32m---> 16\u001b[0;31m     \u001b[0mprint_message\u001b[0m\u001b[0;34m(\u001b[0m\u001b[0;34m\"Friday\"\u001b[0m\u001b[0;34m)\u001b[0m\u001b[0;34m\u001b[0m\u001b[0;34m\u001b[0m\u001b[0m\n\u001b[0m\u001b[1;32m     17\u001b[0m \u001b[0;34m\u001b[0m\u001b[0m\n\u001b[1;32m     18\u001b[0m \u001b[0mprint_friday_message\u001b[0m\u001b[0;34m(\u001b[0m\u001b[0;34m)\u001b[0m\u001b[0;34m\u001b[0m\u001b[0;34m\u001b[0m\u001b[0m\n",
            "\u001b[0;32m<ipython-input-10-de6550a81dbd>\u001b[0m in \u001b[0;36mprint_message\u001b[0;34m(day)\u001b[0m\n\u001b[1;32m     11\u001b[0m         \u001b[0;34m\"sunday\"\u001b[0m\u001b[0;34m:\u001b[0m \u001b[0;34m\"Aw, the weekend is almost over.\"\u001b[0m\u001b[0;34m\u001b[0m\u001b[0;34m\u001b[0m\u001b[0m\n\u001b[1;32m     12\u001b[0m     }\n\u001b[0;32m---> 13\u001b[0;31m     \u001b[0mprint\u001b[0m\u001b[0;34m(\u001b[0m\u001b[0mmessages\u001b[0m\u001b[0;34m[\u001b[0m\u001b[0mday\u001b[0m\u001b[0;34m]\u001b[0m\u001b[0;34m)\u001b[0m\u001b[0;34m\u001b[0m\u001b[0;34m\u001b[0m\u001b[0m\n\u001b[0m\u001b[1;32m     14\u001b[0m \u001b[0;34m\u001b[0m\u001b[0m\n\u001b[1;32m     15\u001b[0m \u001b[0;32mdef\u001b[0m \u001b[0mprint_friday_message\u001b[0m\u001b[0;34m(\u001b[0m\u001b[0;34m)\u001b[0m\u001b[0;34m:\u001b[0m\u001b[0;34m\u001b[0m\u001b[0;34m\u001b[0m\u001b[0m\n",
            "\u001b[0;31mKeyError\u001b[0m: 'Friday'"
          ]
        }
      ]
    },
    {
      "cell_type": "markdown",
      "metadata": {
        "id": "Vjri1GVVgcSA"
      },
      "source": [
        "1) 3 levels\n",
        "\n",
        "2) print_message\n",
        "\n",
        "3) 11\n",
        "\n",
        "4) KeyError\n",
        "\n",
        "5)There isn’t really a message; you’re supposed to infer that Friday is not a key in messages."
      ]
    },
    {
      "cell_type": "markdown",
      "metadata": {
        "id": "dyxVyaqig4Ei"
      },
      "source": [
        "# Identification des erreurs de syntaxe\n",
        "\n",
        "1) Lisez le code ci-dessous et (sans l'exécuter) essayez d'identifier les erreurs.\n",
        "\n",
        "2) Exécutez le code et lisez le message d'erreur. Est-ce une SyntaxError ou une IndentationError ?\n",
        "\n",
        "3) Corrigez l'erreur.\n",
        "\n",
        "4)Répétez les étapes 2 et 3 jusqu'à ce que vous ayez corrigé toutes les erreurs."
      ]
    },
    {
      "cell_type": "code",
      "metadata": {
        "colab": {
          "base_uri": "https://localhost:8080/",
          "height": 128
        },
        "id": "E7UVyyRqf7BY",
        "outputId": "8b2fb50f-2ea1-4001-cdf0-e12db8177d2b"
      },
      "source": [
        "def another_function\n",
        "  print(\"Syntax errors are annoying.\")\n",
        "   print(\"But at least Python tells us about them!\")\n",
        "  print(\"So they are usually not too hard to fix.\")"
      ],
      "execution_count": 11,
      "outputs": [
        {
          "output_type": "error",
          "ename": "SyntaxError",
          "evalue": "ignored",
          "traceback": [
            "\u001b[0;36m  File \u001b[0;32m\"<ipython-input-11-c15a79c89afd>\"\u001b[0;36m, line \u001b[0;32m1\u001b[0m\n\u001b[0;31m    def another_function\u001b[0m\n\u001b[0m                        ^\u001b[0m\n\u001b[0;31mSyntaxError\u001b[0m\u001b[0;31m:\u001b[0m invalid syntax\n"
          ]
        }
      ]
    },
    {
      "cell_type": "markdown",
      "metadata": {
        "id": "Q-M0Y7fJhg1b"
      },
      "source": [
        "SyntaxError for missing (): at end of first line, IndentationError for mismatch between second and third lines. A fixed version is:"
      ]
    },
    {
      "cell_type": "code",
      "metadata": {
        "id": "AbEMIUtbhVHk"
      },
      "source": [
        "def another_function():\n",
        "    print(\"Syntax errors are annoying.\")\n",
        "    print(\"But at least Python tells us about them!\")\n",
        "    print(\"So they are usually not too hard to fix.\")"
      ],
      "execution_count": 12,
      "outputs": []
    },
    {
      "cell_type": "markdown",
      "metadata": {
        "id": "JCPLON0Th38q"
      },
      "source": [
        "# Identification des erreurs de nom de variable\n",
        "\n",
        "1)Lisez le code ci-dessous et (sans l'exécuter) essayez d'identifier les erreurs.\n",
        "\n",
        "2)Exécutez le code et lisez le message d'erreur. De quel type de NameError pensez-vous qu'il s'agit ? En d'autres termes, s'agit-il d'une chaîne sans guillemets, d'une variable mal orthographiée ou d'une variable qui aurait dû être définie mais ne l'a pas été ?\n",
        "\n",
        "3)Corrigez l'erreur.\n",
        "\n",
        "4)Répétez les étapes 2 et 3 jusqu'à ce que vous ayez corrigé toutes les erreurs."
      ]
    },
    {
      "cell_type": "markdown",
      "metadata": {
        "id": "eZlPJUkGh3uO"
      },
      "source": [
        ""
      ]
    },
    {
      "cell_type": "code",
      "metadata": {
        "colab": {
          "base_uri": "https://localhost:8080/",
          "height": 229
        },
        "id": "bDYJ_oXhhr2T",
        "outputId": "a4c02cec-e8d9-437d-96d2-38a3bca24c0b"
      },
      "source": [
        "for number in range(10):\n",
        "    # use a if the number is a multiple of 3, otherwise use b\n",
        "    if (Number % 3) == 0:\n",
        "        message = message + a\n",
        "    else:\n",
        "        message = message + \"b\"\n",
        "print(message)"
      ],
      "execution_count": 13,
      "outputs": [
        {
          "output_type": "error",
          "ename": "NameError",
          "evalue": "ignored",
          "traceback": [
            "\u001b[0;31m---------------------------------------------------------------------------\u001b[0m",
            "\u001b[0;31mNameError\u001b[0m                                 Traceback (most recent call last)",
            "\u001b[0;32m<ipython-input-13-f828fe325418>\u001b[0m in \u001b[0;36m<module>\u001b[0;34m()\u001b[0m\n\u001b[1;32m      1\u001b[0m \u001b[0;32mfor\u001b[0m \u001b[0mnumber\u001b[0m \u001b[0;32min\u001b[0m \u001b[0mrange\u001b[0m\u001b[0;34m(\u001b[0m\u001b[0;36m10\u001b[0m\u001b[0;34m)\u001b[0m\u001b[0;34m:\u001b[0m\u001b[0;34m\u001b[0m\u001b[0;34m\u001b[0m\u001b[0m\n\u001b[1;32m      2\u001b[0m     \u001b[0;31m# use a if the number is a multiple of 3, otherwise use b\u001b[0m\u001b[0;34m\u001b[0m\u001b[0;34m\u001b[0m\u001b[0;34m\u001b[0m\u001b[0m\n\u001b[0;32m----> 3\u001b[0;31m     \u001b[0;32mif\u001b[0m \u001b[0;34m(\u001b[0m\u001b[0mNumber\u001b[0m \u001b[0;34m%\u001b[0m \u001b[0;36m3\u001b[0m\u001b[0;34m)\u001b[0m \u001b[0;34m==\u001b[0m \u001b[0;36m0\u001b[0m\u001b[0;34m:\u001b[0m\u001b[0;34m\u001b[0m\u001b[0;34m\u001b[0m\u001b[0m\n\u001b[0m\u001b[1;32m      4\u001b[0m         \u001b[0mmessage\u001b[0m \u001b[0;34m=\u001b[0m \u001b[0mmessage\u001b[0m \u001b[0;34m+\u001b[0m \u001b[0ma\u001b[0m\u001b[0;34m\u001b[0m\u001b[0;34m\u001b[0m\u001b[0m\n\u001b[1;32m      5\u001b[0m     \u001b[0;32melse\u001b[0m\u001b[0;34m:\u001b[0m\u001b[0;34m\u001b[0m\u001b[0;34m\u001b[0m\u001b[0m\n",
            "\u001b[0;31mNameError\u001b[0m: name 'Number' is not defined"
          ]
        }
      ]
    },
    {
      "cell_type": "markdown",
      "metadata": {
        "id": "rHoxb3E0inx4"
      },
      "source": [
        "# Solution\n",
        "\n",
        "3 NameErrors for number being misspelled, for message not defined, and for a not being in quotes.\n",
        "\n",
        "Fixed version:\n",
        "\n"
      ]
    },
    {
      "cell_type": "markdown",
      "metadata": {
        "id": "LTE8aHGBi7F4"
      },
      "source": [
        "# Identification des erreurs d'index\n",
        "\n",
        "Lisez le code ci-dessous et (sans l'exécuter) essayez d'identifier les erreurs.\n",
        "Exécutez le code et lisez le message d'erreur. De quel type d'erreur s'agit-il ?\n",
        "Corrigez l'erreur."
      ]
    },
    {
      "cell_type": "code",
      "metadata": {
        "colab": {
          "base_uri": "https://localhost:8080/",
          "height": 178
        },
        "id": "MPPv4gHpiWqu",
        "outputId": "bd273cef-02b5-4f8f-8bd7-b1d3760a5e74"
      },
      "source": [
        "seasons = ['Spring', 'Summer', 'Fall', 'Winter']\n",
        "print('My favorite season is ', seasons[4])"
      ],
      "execution_count": 14,
      "outputs": [
        {
          "output_type": "error",
          "ename": "IndexError",
          "evalue": "ignored",
          "traceback": [
            "\u001b[0;31m---------------------------------------------------------------------------\u001b[0m",
            "\u001b[0;31mIndexError\u001b[0m                                Traceback (most recent call last)",
            "\u001b[0;32m<ipython-input-14-c82c08095380>\u001b[0m in \u001b[0;36m<module>\u001b[0;34m()\u001b[0m\n\u001b[1;32m      1\u001b[0m \u001b[0mseasons\u001b[0m \u001b[0;34m=\u001b[0m \u001b[0;34m[\u001b[0m\u001b[0;34m'Spring'\u001b[0m\u001b[0;34m,\u001b[0m \u001b[0;34m'Summer'\u001b[0m\u001b[0;34m,\u001b[0m \u001b[0;34m'Fall'\u001b[0m\u001b[0;34m,\u001b[0m \u001b[0;34m'Winter'\u001b[0m\u001b[0;34m]\u001b[0m\u001b[0;34m\u001b[0m\u001b[0;34m\u001b[0m\u001b[0m\n\u001b[0;32m----> 2\u001b[0;31m \u001b[0mprint\u001b[0m\u001b[0;34m(\u001b[0m\u001b[0;34m'My favorite season is '\u001b[0m\u001b[0;34m,\u001b[0m \u001b[0mseasons\u001b[0m\u001b[0;34m[\u001b[0m\u001b[0;36m4\u001b[0m\u001b[0;34m]\u001b[0m\u001b[0;34m)\u001b[0m\u001b[0;34m\u001b[0m\u001b[0;34m\u001b[0m\u001b[0m\n\u001b[0m",
            "\u001b[0;31mIndexError\u001b[0m: list index out of range"
          ]
        }
      ]
    },
    {
      "cell_type": "markdown",
      "metadata": {
        "id": "0nDhdqI_k9PV"
      },
      "source": [
        "# IndexError; \n",
        "la dernière entrée est seasons[3], donc seasons[4] n'a pas de sens. Une version fixe est :"
      ]
    },
    {
      "cell_type": "code",
      "metadata": {
        "colab": {
          "base_uri": "https://localhost:8080/",
          "height": 178
        },
        "id": "BI3Vkx_BjCF-",
        "outputId": "994f109f-832e-4385-da89-dc95453ff90b"
      },
      "source": [
        "seasons = ['Spring', 'Summer', 'Fall', 'Winter']\n",
        "print('My favorite season is ', seasons[4])"
      ],
      "execution_count": 15,
      "outputs": [
        {
          "output_type": "error",
          "ename": "IndexError",
          "evalue": "ignored",
          "traceback": [
            "\u001b[0;31m---------------------------------------------------------------------------\u001b[0m",
            "\u001b[0;31mIndexError\u001b[0m                                Traceback (most recent call last)",
            "\u001b[0;32m<ipython-input-15-c82c08095380>\u001b[0m in \u001b[0;36m<module>\u001b[0;34m()\u001b[0m\n\u001b[1;32m      1\u001b[0m \u001b[0mseasons\u001b[0m \u001b[0;34m=\u001b[0m \u001b[0;34m[\u001b[0m\u001b[0;34m'Spring'\u001b[0m\u001b[0;34m,\u001b[0m \u001b[0;34m'Summer'\u001b[0m\u001b[0;34m,\u001b[0m \u001b[0;34m'Fall'\u001b[0m\u001b[0;34m,\u001b[0m \u001b[0;34m'Winter'\u001b[0m\u001b[0;34m]\u001b[0m\u001b[0;34m\u001b[0m\u001b[0;34m\u001b[0m\u001b[0m\n\u001b[0;32m----> 2\u001b[0;31m \u001b[0mprint\u001b[0m\u001b[0;34m(\u001b[0m\u001b[0;34m'My favorite season is '\u001b[0m\u001b[0;34m,\u001b[0m \u001b[0mseasons\u001b[0m\u001b[0;34m[\u001b[0m\u001b[0;36m4\u001b[0m\u001b[0;34m]\u001b[0m\u001b[0;34m)\u001b[0m\u001b[0;34m\u001b[0m\u001b[0;34m\u001b[0m\u001b[0m\n\u001b[0m",
            "\u001b[0;31mIndexError\u001b[0m: list index out of range"
          ]
        }
      ]
    },
    {
      "cell_type": "code",
      "metadata": {
        "colab": {
          "base_uri": "https://localhost:8080/"
        },
        "id": "JwL4H16SlTbj",
        "outputId": "4267e1e6-3085-4cc4-abf2-38fc4b33bc96"
      },
      "source": [
        "seasons = ['Spring', 'Summer', 'Fall', 'Winter']\n",
        "print('My favorite season is ', seasons[-1])"
      ],
      "execution_count": 16,
      "outputs": [
        {
          "output_type": "stream",
          "text": [
            "My favorite season is  Winter\n"
          ],
          "name": "stdout"
        }
      ]
    },
    {
      "cell_type": "markdown",
      "metadata": {
        "id": "Q3TExRVYlqCw"
      },
      "source": [
        "# Points clés\n",
        "\n",
        "Les retraçages peuvent sembler intimidants, mais ils nous donnent beaucoup d'informations utiles sur ce qui s'est mal passé dans notre programme, y compris où l'erreur s'est produite et de quel type d'erreur il s'agissait.\n",
        "\n",
        "Une erreur liée à la « grammaire » ou à la syntaxe du programme est appelée SyntaxError. Si le problème est lié à la façon dont le code est indenté, il sera alors appelé IndentationError.\n",
        "\n",
        "Une NameError se produira si vous utilisez une variable qui n'a pas été définie, soit parce que vous vouliez utiliser des guillemets autour d'une chaîne, vous avez oublié de définir la variable, ou vous venez de faire une faute de frappe.\n",
        "\n",
        "Les conteneurs tels que les listes et les chaînes généreront des erreurs si vous essayez d'accéder à des éléments qui n'existent pas. Ce type d'erreur est appelé IndexError.\n",
        "\n",
        "Essayer de lire un fichier qui n'existe pas vous donnera une erreur FileNotFoundError. Essayer de lire un fichier ouvert en écriture, ou écrire dans un fichier ouvert en lecture, vous donnera une IOError."
      ]
    },
    {
      "cell_type": "code",
      "metadata": {
        "id": "FZGQsDnNld1g"
      },
      "source": [
        ""
      ],
      "execution_count": null,
      "outputs": []
    }
  ]
}