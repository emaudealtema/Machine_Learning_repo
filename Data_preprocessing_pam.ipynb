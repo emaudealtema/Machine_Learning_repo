{
 "cells": [
  {
   "cell_type": "code",
   "execution_count": 94,
   "metadata": {},
   "outputs": [],
   "source": [
    "import statsmodels as stat\n",
    "import seaborn as sbn\n",
    "import pandas as pd\n",
    "import matplotlib.pyplot as plt\n",
    "import numpy as np\n",
    "from sklearn.preprocessing import Imputer\n",
    "from sklearn.preprocessing import LabelEncoder, OneHotEncoder\n",
    "from sklearn.cross_validation import train_test_split\n",
    "from sklearn.preprocessing import StandardScaler\n",
    "from sklearn.preprocessing import normalize\n"
   ]
  },
  {
   "cell_type": "code",
   "execution_count": 95,
   "metadata": {},
   "outputs": [],
   "source": [
    "dtst = pd.read_csv('C:/Datascience/credit_immo.csv')"
   ]
  },
  {
   "cell_type": "code",
   "execution_count": 96,
   "metadata": {},
   "outputs": [
    {
     "name": "stdout",
     "output_type": "stream",
     "text": [
      "(19, 10)\n"
     ]
    }
   ],
   "source": [
    "print(dtst.shape)"
   ]
  },
  {
   "cell_type": "code",
   "execution_count": 97,
   "metadata": {},
   "outputs": [
    {
     "name": "stdout",
     "output_type": "stream",
     "text": [
      "       Niv_Etude_Bac        age        Salaire  dette_anterieure     apport  \\\n",
      "count      18.000000  19.000000      19.000000         19.000000  19.000000   \n",
      "mean        1.444444  36.947368   43331.578947      11890.526316   0.142105   \n",
      "std         2.812205  11.824991   21473.499240      23687.941957   0.130451   \n",
      "min        -3.000000  23.000000   15000.000000          0.000000   0.000000   \n",
      "25%         0.000000  28.500000   28500.000000       1260.000000   0.000000   \n",
      "50%         0.500000  37.000000   40000.000000       3000.000000   0.100000   \n",
      "75%         3.000000  41.500000   47900.000000       8000.000000   0.250000   \n",
      "max         8.000000  70.000000  100000.000000     100000.000000   0.400000   \n",
      "\n",
      "       enfant_a_Charge  \n",
      "count        18.000000  \n",
      "mean          1.333333  \n",
      "std           1.328422  \n",
      "min           0.000000  \n",
      "25%           0.000000  \n",
      "50%           1.000000  \n",
      "75%           2.000000  \n",
      "max           4.000000  \n"
     ]
    }
   ],
   "source": [
    "print(dtst.describe())"
   ]
  },
  {
   "cell_type": "code",
   "execution_count": 98,
   "metadata": {},
   "outputs": [
    {
     "name": "stdout",
     "output_type": "stream",
     "text": [
      "Index(['ID_NOM', 'Niv_Etude_Bac', 'age', 'contrat_de_travail', 'Salaire',\n",
      "       'dette_anterieure', 'etat_civile', 'apport', 'enfant_a_Charge',\n",
      "       'Solvable'],\n",
      "      dtype='object')\n"
     ]
    }
   ],
   "source": [
    "print(dtst.columns)"
   ]
  },
  {
   "cell_type": "code",
   "execution_count": 99,
   "metadata": {},
   "outputs": [],
   "source": [
    "x = dtst.iloc[:,-9:-1].values"
   ]
  },
  {
   "cell_type": "code",
   "execution_count": 100,
   "metadata": {},
   "outputs": [
    {
     "name": "stdout",
     "output_type": "stream",
     "text": [
      "[[3.0 45 'CDI' 40000 4000 'M' 0.3 3.0]\n",
      " [5.0 28 'CDI' 30500 1320 'M' 0.1 0.0]\n",
      " [0.0 55 'CDI' 28000 40000 'C' 0.0 0.0]\n",
      " [4.0 23 'CDD' 15000 0 'M' 0.1 nan]\n",
      " [0.0 33 'CDD' 27000 3000 'C' 0.1 2.0]\n",
      " [0.0 41 'INTERIM' 40000 1000 'M' 0.0 4.0]\n",
      " [-1.0 29 'CDI' 50000 3000 'C' 0.0 0.0]\n",
      " [-3.0 24 'INTERIM' 29000 5000 'C' 0.0 0.0]\n",
      " [nan 26 'CDI' 44000 0 'M' 0.1 1.0]\n",
      " [3.0 37 'CDI' 45800 2000 'M' 0.2 2.0]\n",
      " [2.0 40 'CDI' 60000 1500 'M' 0.3 3.0]\n",
      " [0.0 38 'CDD' 26000 8000 'C' 0.4 0.0]\n",
      " [-3.0 39 'INTERIM' 29000 4900 'M' 0.0 1.0]\n",
      " [0.0 31 'CDI' 43000 100000 'M' 0.2 2.0]\n",
      " [1.0 70 'CDD' 45000 17000 'C' 0.3 0.0]\n",
      " [0.0 42 'ENTRPRENEUR' 70000 26000 'M' 0.2 0.0]\n",
      " [8.0 46 'CDI' 80000 8000 'M' 0.0 3.0]\n",
      " [3.0 23 'CDI' 100000 0 'M' 0.3 1.0]\n",
      " [4.0 32 'CDI' 21000 1200 'M' 0.1 2.0]]\n"
     ]
    }
   ],
   "source": [
    "print(x)"
   ]
  },
  {
   "cell_type": "code",
   "execution_count": 101,
   "metadata": {},
   "outputs": [],
   "source": [
    "y = dtst.iloc[:,-1].values"
   ]
  },
  {
   "cell_type": "code",
   "execution_count": 102,
   "metadata": {},
   "outputs": [
    {
     "name": "stdout",
     "output_type": "stream",
     "text": [
      "['OUI' 'OUI' 'NON' 'OUI' 'NON' 'NON' 'NON' 'NON' 'OUI' 'OUI' 'OUI' 'NON'\n",
      " 'NON' 'NON' 'NON' 'NON' 'OUI' 'OUI' 'OUI']\n"
     ]
    }
   ],
   "source": [
    "print(y)"
   ]
  },
  {
   "cell_type": "code",
   "execution_count": 103,
   "metadata": {
    "scrolled": true
   },
   "outputs": [
    {
     "name": "stdout",
     "output_type": "stream",
     "text": [
      "<bound method DataFrame.sum of     ID_NOM  Niv_Etude_Bac    age  contrat_de_travail  Salaire  \\\n",
      "0    False          False  False               False    False   \n",
      "1    False          False  False               False    False   \n",
      "2    False          False  False               False    False   \n",
      "3    False          False  False               False    False   \n",
      "4    False          False  False               False    False   \n",
      "5    False          False  False               False    False   \n",
      "6    False          False  False               False    False   \n",
      "7    False          False  False               False    False   \n",
      "8    False           True  False               False    False   \n",
      "9    False          False  False               False    False   \n",
      "10   False          False  False               False    False   \n",
      "11   False          False  False               False    False   \n",
      "12   False          False  False               False    False   \n",
      "13   False          False  False               False    False   \n",
      "14   False          False  False               False    False   \n",
      "15   False          False  False               False    False   \n",
      "16   False          False  False               False    False   \n",
      "17   False          False  False               False    False   \n",
      "18   False          False  False               False    False   \n",
      "\n",
      "    dette_anterieure  etat_civile  apport  enfant_a_Charge  Solvable  \n",
      "0              False        False   False            False     False  \n",
      "1              False        False   False            False     False  \n",
      "2              False        False   False            False     False  \n",
      "3              False        False   False             True     False  \n",
      "4              False        False   False            False     False  \n",
      "5              False        False   False            False     False  \n",
      "6              False        False   False            False     False  \n",
      "7              False        False   False            False     False  \n",
      "8              False        False   False            False     False  \n",
      "9              False        False   False            False     False  \n",
      "10             False        False   False            False     False  \n",
      "11             False        False   False            False     False  \n",
      "12             False        False   False            False     False  \n",
      "13             False        False   False            False     False  \n",
      "14             False        False   False            False     False  \n",
      "15             False        False   False            False     False  \n",
      "16             False        False   False            False     False  \n",
      "17             False        False   False            False     False  \n",
      "18             False        False   False            False     False  >\n"
     ]
    }
   ],
   "source": [
    "print(dtst.isnull().sum)"
   ]
  },
  {
   "cell_type": "code",
   "execution_count": 104,
   "metadata": {},
   "outputs": [
    {
     "name": "stdout",
     "output_type": "stream",
     "text": [
      "Collecting package metadata (current_repodata.json): ...working... done\n",
      "Solving environment: ...working... done\n",
      "\n",
      "# All requested packages already installed.\n",
      "\n",
      "\n",
      "Note: you may need to restart the kernel to use updated packages.\n"
     ]
    }
   ],
   "source": [
    "conda install scikit-learn=0.19"
   ]
  },
  {
   "cell_type": "code",
   "execution_count": 105,
   "metadata": {},
   "outputs": [],
   "source": [
    "imptr = Imputer(missing_values='NaN',strategy = 'mean',axis = 0)"
   ]
  },
  {
   "cell_type": "code",
   "execution_count": 106,
   "metadata": {},
   "outputs": [
    {
     "data": {
      "text/plain": [
       "Imputer(axis=0, copy=True, missing_values='NaN', strategy='mean', verbose=0)"
      ]
     },
     "execution_count": 106,
     "metadata": {},
     "output_type": "execute_result"
    }
   ],
   "source": [
    "imptr.fit(x[:,0:1])\n",
    "imptr.fit(x[:,7:8])"
   ]
  },
  {
   "cell_type": "code",
   "execution_count": 107,
   "metadata": {},
   "outputs": [],
   "source": [
    "x[:,0:1] = imptr.transform(x[:,0:1])\n",
    "# toutes les valeurs manquantes dans x\n",
    "x[:,7:8] = imptr.transform(x[:,7:8])"
   ]
  },
  {
   "cell_type": "code",
   "execution_count": 108,
   "metadata": {},
   "outputs": [
    {
     "name": "stdout",
     "output_type": "stream",
     "text": [
      "[[3.0 45 'CDI' 40000 4000 'M' 0.3 3.0]\n",
      " [5.0 28 'CDI' 30500 1320 'M' 0.1 0.0]\n",
      " [0.0 55 'CDI' 28000 40000 'C' 0.0 0.0]\n",
      " [4.0 23 'CDD' 15000 0 'M' 0.1 1.3333333333333333]\n",
      " [0.0 33 'CDD' 27000 3000 'C' 0.1 2.0]\n",
      " [0.0 41 'INTERIM' 40000 1000 'M' 0.0 4.0]\n",
      " [-1.0 29 'CDI' 50000 3000 'C' 0.0 0.0]\n",
      " [-3.0 24 'INTERIM' 29000 5000 'C' 0.0 0.0]\n",
      " [1.3333333333333333 26 'CDI' 44000 0 'M' 0.1 1.0]\n",
      " [3.0 37 'CDI' 45800 2000 'M' 0.2 2.0]\n",
      " [2.0 40 'CDI' 60000 1500 'M' 0.3 3.0]\n",
      " [0.0 38 'CDD' 26000 8000 'C' 0.4 0.0]\n",
      " [-3.0 39 'INTERIM' 29000 4900 'M' 0.0 1.0]\n",
      " [0.0 31 'CDI' 43000 100000 'M' 0.2 2.0]\n",
      " [1.0 70 'CDD' 45000 17000 'C' 0.3 0.0]\n",
      " [0.0 42 'ENTRPRENEUR' 70000 26000 'M' 0.2 0.0]\n",
      " [8.0 46 'CDI' 80000 8000 'M' 0.0 3.0]\n",
      " [3.0 23 'CDI' 100000 0 'M' 0.3 1.0]\n",
      " [4.0 32 'CDI' 21000 1200 'M' 0.1 2.0]]\n"
     ]
    }
   ],
   "source": [
    "print(x)"
   ]
  },
  {
   "cell_type": "code",
   "execution_count": 109,
   "metadata": {},
   "outputs": [
    {
     "name": "stdout",
     "output_type": "stream",
     "text": [
      "['OUI' 'OUI' 'NON' 'OUI' 'NON' 'NON' 'NON' 'NON' 'OUI' 'OUI' 'OUI' 'NON'\n",
      " 'NON' 'NON' 'NON' 'NON' 'OUI' 'OUI' 'OUI']\n"
     ]
    }
   ],
   "source": [
    "print(y)"
   ]
  },
  {
   "cell_type": "code",
   "execution_count": 110,
   "metadata": {},
   "outputs": [],
   "source": [
    "#Labeliser le donnees numeriques\n",
    "labEncr_x = LabelEncoder()\n",
    "x[:,2] = labEncr_x.fit_transform(x[:,2])\n",
    "x[:,5] =labEncr_x.fit_transform(x[:,5])"
   ]
  },
  {
   "cell_type": "code",
   "execution_count": 111,
   "metadata": {},
   "outputs": [
    {
     "name": "stdout",
     "output_type": "stream",
     "text": [
      "[[3.0 45 1 40000 4000 1 0.3 3.0]\n",
      " [5.0 28 1 30500 1320 1 0.1 0.0]\n",
      " [0.0 55 1 28000 40000 0 0.0 0.0]\n",
      " [4.0 23 0 15000 0 1 0.1 1.3333333333333333]\n",
      " [0.0 33 0 27000 3000 0 0.1 2.0]\n",
      " [0.0 41 3 40000 1000 1 0.0 4.0]\n",
      " [-1.0 29 1 50000 3000 0 0.0 0.0]\n",
      " [-3.0 24 3 29000 5000 0 0.0 0.0]\n",
      " [1.3333333333333333 26 1 44000 0 1 0.1 1.0]\n",
      " [3.0 37 1 45800 2000 1 0.2 2.0]\n",
      " [2.0 40 1 60000 1500 1 0.3 3.0]\n",
      " [0.0 38 0 26000 8000 0 0.4 0.0]\n",
      " [-3.0 39 3 29000 4900 1 0.0 1.0]\n",
      " [0.0 31 1 43000 100000 1 0.2 2.0]\n",
      " [1.0 70 0 45000 17000 0 0.3 0.0]\n",
      " [0.0 42 2 70000 26000 1 0.2 0.0]\n",
      " [8.0 46 1 80000 8000 1 0.0 3.0]\n",
      " [3.0 23 1 100000 0 1 0.3 1.0]\n",
      " [4.0 32 1 21000 1200 1 0.1 2.0]]\n"
     ]
    }
   ],
   "source": [
    "print(x)"
   ]
  },
  {
   "cell_type": "code",
   "execution_count": 112,
   "metadata": {},
   "outputs": [],
   "source": [
    "onehotEncr = OneHotEncoder(categorical_features=[2])\n",
    "oneHotEncr = OneHotEncoder(categorical_features=[5])"
   ]
  },
  {
   "cell_type": "code",
   "execution_count": 113,
   "metadata": {},
   "outputs": [
    {
     "name": "stdout",
     "output_type": "stream",
     "text": [
      "[[3.0 45 1 40000 4000 1 0.3 3.0]\n",
      " [5.0 28 1 30500 1320 1 0.1 0.0]\n",
      " [0.0 55 1 28000 40000 0 0.0 0.0]\n",
      " [4.0 23 0 15000 0 1 0.1 1.3333333333333333]\n",
      " [0.0 33 0 27000 3000 0 0.1 2.0]\n",
      " [0.0 41 3 40000 1000 1 0.0 4.0]\n",
      " [-1.0 29 1 50000 3000 0 0.0 0.0]\n",
      " [-3.0 24 3 29000 5000 0 0.0 0.0]\n",
      " [1.3333333333333333 26 1 44000 0 1 0.1 1.0]\n",
      " [3.0 37 1 45800 2000 1 0.2 2.0]\n",
      " [2.0 40 1 60000 1500 1 0.3 3.0]\n",
      " [0.0 38 0 26000 8000 0 0.4 0.0]\n",
      " [-3.0 39 3 29000 4900 1 0.0 1.0]\n",
      " [0.0 31 1 43000 100000 1 0.2 2.0]\n",
      " [1.0 70 0 45000 17000 0 0.3 0.0]\n",
      " [0.0 42 2 70000 26000 1 0.2 0.0]\n",
      " [8.0 46 1 80000 8000 1 0.0 3.0]\n",
      " [3.0 23 1 100000 0 1 0.3 1.0]\n",
      " [4.0 32 1 21000 1200 1 0.1 2.0]]\n"
     ]
    }
   ],
   "source": [
    "print(x)"
   ]
  },
  {
   "cell_type": "code",
   "execution_count": 114,
   "metadata": {},
   "outputs": [],
   "source": [
    "#on transforme les donnees de onhotencoder en tableau\n",
    "x = onehotEncr.fit_transform(x).toarray()"
   ]
  },
  {
   "cell_type": "code",
   "execution_count": 115,
   "metadata": {},
   "outputs": [],
   "source": [
    "labEncr_y = LabelEncoder()\n",
    "y = labEncr_y.fit_transform(y)"
   ]
  },
  {
   "cell_type": "code",
   "execution_count": 116,
   "metadata": {},
   "outputs": [
    {
     "name": "stdout",
     "output_type": "stream",
     "text": [
      "[[ 0.00000000e+00  1.00000000e+00  0.00000000e+00  0.00000000e+00\n",
      "   3.00000000e+00  4.50000000e+01  4.00000000e+04  4.00000000e+03\n",
      "   1.00000000e+00  3.00000000e-01  3.00000000e+00]\n",
      " [ 0.00000000e+00  1.00000000e+00  0.00000000e+00  0.00000000e+00\n",
      "   5.00000000e+00  2.80000000e+01  3.05000000e+04  1.32000000e+03\n",
      "   1.00000000e+00  1.00000000e-01  0.00000000e+00]\n",
      " [ 0.00000000e+00  1.00000000e+00  0.00000000e+00  0.00000000e+00\n",
      "   0.00000000e+00  5.50000000e+01  2.80000000e+04  4.00000000e+04\n",
      "   0.00000000e+00  0.00000000e+00  0.00000000e+00]\n",
      " [ 1.00000000e+00  0.00000000e+00  0.00000000e+00  0.00000000e+00\n",
      "   4.00000000e+00  2.30000000e+01  1.50000000e+04  0.00000000e+00\n",
      "   1.00000000e+00  1.00000000e-01  1.33333333e+00]\n",
      " [ 1.00000000e+00  0.00000000e+00  0.00000000e+00  0.00000000e+00\n",
      "   0.00000000e+00  3.30000000e+01  2.70000000e+04  3.00000000e+03\n",
      "   0.00000000e+00  1.00000000e-01  2.00000000e+00]\n",
      " [ 0.00000000e+00  0.00000000e+00  0.00000000e+00  1.00000000e+00\n",
      "   0.00000000e+00  4.10000000e+01  4.00000000e+04  1.00000000e+03\n",
      "   1.00000000e+00  0.00000000e+00  4.00000000e+00]\n",
      " [ 0.00000000e+00  1.00000000e+00  0.00000000e+00  0.00000000e+00\n",
      "  -1.00000000e+00  2.90000000e+01  5.00000000e+04  3.00000000e+03\n",
      "   0.00000000e+00  0.00000000e+00  0.00000000e+00]\n",
      " [ 0.00000000e+00  0.00000000e+00  0.00000000e+00  1.00000000e+00\n",
      "  -3.00000000e+00  2.40000000e+01  2.90000000e+04  5.00000000e+03\n",
      "   0.00000000e+00  0.00000000e+00  0.00000000e+00]\n",
      " [ 0.00000000e+00  1.00000000e+00  0.00000000e+00  0.00000000e+00\n",
      "   1.33333333e+00  2.60000000e+01  4.40000000e+04  0.00000000e+00\n",
      "   1.00000000e+00  1.00000000e-01  1.00000000e+00]\n",
      " [ 0.00000000e+00  1.00000000e+00  0.00000000e+00  0.00000000e+00\n",
      "   3.00000000e+00  3.70000000e+01  4.58000000e+04  2.00000000e+03\n",
      "   1.00000000e+00  2.00000000e-01  2.00000000e+00]\n",
      " [ 0.00000000e+00  1.00000000e+00  0.00000000e+00  0.00000000e+00\n",
      "   2.00000000e+00  4.00000000e+01  6.00000000e+04  1.50000000e+03\n",
      "   1.00000000e+00  3.00000000e-01  3.00000000e+00]\n",
      " [ 1.00000000e+00  0.00000000e+00  0.00000000e+00  0.00000000e+00\n",
      "   0.00000000e+00  3.80000000e+01  2.60000000e+04  8.00000000e+03\n",
      "   0.00000000e+00  4.00000000e-01  0.00000000e+00]\n",
      " [ 0.00000000e+00  0.00000000e+00  0.00000000e+00  1.00000000e+00\n",
      "  -3.00000000e+00  3.90000000e+01  2.90000000e+04  4.90000000e+03\n",
      "   1.00000000e+00  0.00000000e+00  1.00000000e+00]\n",
      " [ 0.00000000e+00  1.00000000e+00  0.00000000e+00  0.00000000e+00\n",
      "   0.00000000e+00  3.10000000e+01  4.30000000e+04  1.00000000e+05\n",
      "   1.00000000e+00  2.00000000e-01  2.00000000e+00]\n",
      " [ 1.00000000e+00  0.00000000e+00  0.00000000e+00  0.00000000e+00\n",
      "   1.00000000e+00  7.00000000e+01  4.50000000e+04  1.70000000e+04\n",
      "   0.00000000e+00  3.00000000e-01  0.00000000e+00]\n",
      " [ 0.00000000e+00  0.00000000e+00  1.00000000e+00  0.00000000e+00\n",
      "   0.00000000e+00  4.20000000e+01  7.00000000e+04  2.60000000e+04\n",
      "   1.00000000e+00  2.00000000e-01  0.00000000e+00]\n",
      " [ 0.00000000e+00  1.00000000e+00  0.00000000e+00  0.00000000e+00\n",
      "   8.00000000e+00  4.60000000e+01  8.00000000e+04  8.00000000e+03\n",
      "   1.00000000e+00  0.00000000e+00  3.00000000e+00]\n",
      " [ 0.00000000e+00  1.00000000e+00  0.00000000e+00  0.00000000e+00\n",
      "   3.00000000e+00  2.30000000e+01  1.00000000e+05  0.00000000e+00\n",
      "   1.00000000e+00  3.00000000e-01  1.00000000e+00]\n",
      " [ 0.00000000e+00  1.00000000e+00  0.00000000e+00  0.00000000e+00\n",
      "   4.00000000e+00  3.20000000e+01  2.10000000e+04  1.20000000e+03\n",
      "   1.00000000e+00  1.00000000e-01  2.00000000e+00]]\n"
     ]
    }
   ],
   "source": [
    "print(x)"
   ]
  },
  {
   "cell_type": "code",
   "execution_count": 117,
   "metadata": {},
   "outputs": [],
   "source": [
    "# application de cross_validation de scikitlearn to shrink the data in train and test data\n",
    "x_train,x_test,y_train,y_test = train_test_split(x,y,test_size = 0.2,random_state = 0)"
   ]
  },
  {
   "cell_type": "code",
   "execution_count": 118,
   "metadata": {},
   "outputs": [],
   "source": [
    "#Standardidation(centrer-reduir signifie conversion vers un stadard commun)\n",
    "#stdSc = StandardScaler()\n",
    "\n",
    "#x_train = stdSc.fit_transform(x_train)\n",
    "#x_test = stdSc.fit_transform(x_test)"
   ]
  },
  {
   "cell_type": "code",
   "execution_count": 123,
   "metadata": {},
   "outputs": [],
   "source": [
    "#print(x_train)"
   ]
  },
  {
   "cell_type": "code",
   "execution_count": 120,
   "metadata": {},
   "outputs": [],
   "source": [
    "#print(x_test)"
   ]
  },
  {
   "cell_type": "code",
   "execution_count": 124,
   "metadata": {},
   "outputs": [],
   "source": [
    "#La normalisation des donnees si on a des colonnes avec de gros nombre et d'autres avec de petit nombres\n",
    "\n",
    "x_train = normalize(x_train)\n",
    "x_test = normalize(x_test)"
   ]
  },
  {
   "cell_type": "code",
   "execution_count": 125,
   "metadata": {},
   "outputs": [
    {
     "name": "stdout",
     "output_type": "stream",
     "text": [
      "[[ 2.07882467e-05  0.00000000e+00  0.00000000e+00  0.00000000e+00\n",
      "   2.07882467e-05  1.45517727e-03  9.35471103e-01  3.53400194e-01\n",
      "   0.00000000e+00  6.23647402e-06  0.00000000e+00]\n",
      " [ 0.00000000e+00  1.24379628e-05  0.00000000e+00  0.00000000e+00\n",
      "   9.95037022e-05  5.72146287e-04  9.95037022e-01  9.95037022e-02\n",
      "   1.24379628e-05  0.00000000e+00  3.73138883e-05]\n",
      " [ 0.00000000e+00  1.99640936e-05  0.00000000e+00  0.00000000e+00\n",
      "  -1.99640936e-05  5.78958713e-04  9.98204678e-01  5.98922807e-02\n",
      "   0.00000000e+00  0.00000000e+00  0.00000000e+00]\n",
      " [ 3.68104814e-05  0.00000000e+00  0.00000000e+00  0.00000000e+00\n",
      "   0.00000000e+00  1.21474589e-03  9.93882998e-01  1.10431444e-01\n",
      "   0.00000000e+00  3.68104814e-06  7.36209628e-05]\n",
      " [ 0.00000000e+00  2.04807850e-05  0.00000000e+00  0.00000000e+00\n",
      "   0.00000000e+00  1.12644318e-03  5.73461980e-01  8.19231401e-01\n",
      "   0.00000000e+00  0.00000000e+00  0.00000000e+00]\n",
      " [ 0.00000000e+00  0.00000000e+00  0.00000000e+00  2.49921779e-05\n",
      "   0.00000000e+00  1.02467929e-03  9.99687116e-01  2.49921779e-02\n",
      "   2.49921779e-05  0.00000000e+00  9.99687116e-05]\n",
      " [ 0.00000000e+00  9.18669150e-06  0.00000000e+00  0.00000000e+00\n",
      "   0.00000000e+00  2.84787437e-04  3.95027735e-01  9.18669150e-01\n",
      "   9.18669150e-06  1.83733830e-06  1.83733830e-05]\n",
      " [ 0.00000000e+00  2.18132659e-05  0.00000000e+00  0.00000000e+00\n",
      "   6.54397978e-05  8.07090840e-04  9.99047580e-01  4.36265319e-02\n",
      "   2.18132659e-05  4.36265319e-06  4.36265319e-05]\n",
      " [ 0.00000000e+00  0.00000000e+00  0.00000000e+00  3.39813718e-05\n",
      "  -1.01944115e-04  8.15552923e-04  9.85459782e-01  1.69906859e-01\n",
      "   0.00000000e+00  0.00000000e+00  0.00000000e+00]\n",
      " [ 0.00000000e+00  9.99999973e-06  0.00000000e+00  0.00000000e+00\n",
      "   2.99999992e-05  2.29999994e-04  9.99999973e-01  0.00000000e+00\n",
      "   9.99999973e-06  2.99999992e-06  9.99999973e-06]\n",
      " [ 3.67606952e-05  0.00000000e+00  0.00000000e+00  0.00000000e+00\n",
      "   0.00000000e+00  1.39690642e-03  9.55778075e-01  2.94085562e-01\n",
      "   0.00000000e+00  1.47042781e-05  0.00000000e+00]\n",
      " [ 6.66665854e-05  0.00000000e+00  0.00000000e+00  0.00000000e+00\n",
      "   2.66666341e-04  1.53333146e-03  9.99998780e-01  0.00000000e+00\n",
      "   6.66665854e-05  6.66665854e-06  8.88887805e-05]\n",
      " [ 0.00000000e+00  2.48759140e-05  0.00000000e+00  0.00000000e+00\n",
      "   7.46277420e-05  1.11941613e-03  9.95036561e-01  9.95036561e-02\n",
      "   2.48759140e-05  7.46277420e-06  7.46277420e-05]\n",
      " [ 0.00000000e+00  0.00000000e+00  1.33917875e-05  0.00000000e+00\n",
      "   0.00000000e+00  5.62455074e-04  9.37425124e-01  3.48186474e-01\n",
      "   1.33917875e-05  2.67835750e-06  0.00000000e+00]\n",
      " [ 0.00000000e+00  0.00000000e+00  0.00000000e+00  3.40007934e-05\n",
      "  -1.02002380e-04  1.32603094e-03  9.86023008e-01  1.66603888e-01\n",
      "   3.40007934e-05  0.00000000e+00  3.40007934e-05]]\n"
     ]
    }
   ],
   "source": [
    "print(x_train)"
   ]
  },
  {
   "cell_type": "code",
   "execution_count": 126,
   "metadata": {},
   "outputs": [
    {
     "name": "stdout",
     "output_type": "stream",
     "text": [
      "[[0.00000000e+00 1.66614570e-05 0.00000000e+00 0.00000000e+00\n",
      "  3.33229141e-05 6.66458282e-04 9.99687422e-01 2.49921856e-02\n",
      "  1.66614570e-05 4.99843711e-06 4.99843711e-05]\n",
      " [0.00000000e+00 3.27562084e-05 0.00000000e+00 0.00000000e+00\n",
      "  1.63781042e-04 9.17173835e-04 9.99064356e-01 4.32381951e-02\n",
      "  3.27562084e-05 3.27562084e-06 0.00000000e+00]\n",
      " [0.00000000e+00 2.27272687e-05 0.00000000e+00 0.00000000e+00\n",
      "  3.03030250e-05 5.90908987e-04 9.99999824e-01 0.00000000e+00\n",
      "  2.27272687e-05 2.27272687e-06 2.27272687e-05]\n",
      " [0.00000000e+00 4.75414359e-05 0.00000000e+00 0.00000000e+00\n",
      "  1.90165744e-04 1.52132595e-03 9.98370154e-01 5.70497231e-02\n",
      "  4.75414359e-05 4.75414359e-06 9.50828718e-05]]\n"
     ]
    }
   ],
   "source": [
    "print(x_test)"
   ]
  },
  {
   "cell_type": "code",
   "execution_count": null,
   "metadata": {},
   "outputs": [],
   "source": []
  }
 ],
 "metadata": {
  "kernelspec": {
   "display_name": "Python 3",
   "language": "python",
   "name": "python3"
  },
  "language_info": {
   "codemirror_mode": {
    "name": "ipython",
    "version": 3
   },
   "file_extension": ".py",
   "mimetype": "text/x-python",
   "name": "python",
   "nbconvert_exporter": "python",
   "pygments_lexer": "ipython3",
   "version": "3.7.4"
  }
 },
 "nbformat": 4,
 "nbformat_minor": 2
}
