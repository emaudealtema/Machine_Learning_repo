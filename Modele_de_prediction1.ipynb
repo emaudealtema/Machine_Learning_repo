{
 "cells": [
  {
   "cell_type": "code",
   "execution_count": 55,
   "metadata": {},
   "outputs": [],
   "source": [
    "import numpy as np\n",
    "import matplotlib.pyplot as plt\n",
    "import pandas as pd\n",
    "import seaborn as sbn\n",
    "import statsmodels as stat\n",
    "from scipy import stats\n",
    "from sklearn.model_selection import train_test_split\n",
    "from sklearn.linear_model import LinearRegression\n",
    "from math import sqrt\n"
   ]
  },
  {
   "cell_type": "code",
   "execution_count": 37,
   "metadata": {},
   "outputs": [],
   "source": [
    "dtst = pd.read_csv('C:/Datascience/reg_simple.csv')"
   ]
  },
  {
   "cell_type": "code",
   "execution_count": 38,
   "metadata": {},
   "outputs": [],
   "source": [
    "x1 = dtst.iloc[:,:-1].values\n",
    "y1 = dtst.iloc[:,-1]"
   ]
  },
  {
   "cell_type": "code",
   "execution_count": 39,
   "metadata": {},
   "outputs": [
    {
     "data": {
      "image/png": "[encoded data removed]",
      "text/plain": [
       "<Figure size 432x288 with 1 Axes>"
      ]
     },
     "metadata": {},
     "output_type": "display_data"
    }
   ],
   "source": [
    "plt.scatter(x1,y1)\n",
    "plt.xlabel('heure_rev_independante_var')\n",
    "plt.ylabel('note : dependante variable')\n",
    "plt.style.use(['dark_background','fast'])\n",
    "plt.show()"
   ]
  },
  {
   "cell_type": "code",
   "execution_count": 40,
   "metadata": {},
   "outputs": [],
   "source": [
    "x_train,x_test,y_train,y_test = train_test_split(x1,y1,test_size = 0.2, random_state = 0)"
   ]
  },
  {
   "cell_type": "code",
   "execution_count": 41,
   "metadata": {},
   "outputs": [
    {
     "data": {
      "text/plain": [
       "LinearRegression(copy_X=True, fit_intercept=True, n_jobs=1, normalize=False)"
      ]
     },
     "execution_count": 41,
     "metadata": {},
     "output_type": "execute_result"
    }
   ],
   "source": [
    "#creer le regresseur pour cela importer linearregression from sklearn.linaer_model\n",
    "regresseur = LinearRegression()\n",
    "regresseur.fit(x_train,y_train)"
   ]
  },
  {
   "cell_type": "code",
   "execution_count": 42,
   "metadata": {},
   "outputs": [],
   "source": [
    "#Etablir la prediction\n",
    "y_prediction = regresseur.predict(x_test)"
   ]
  },
  {
   "cell_type": "code",
   "execution_count": 43,
   "metadata": {},
   "outputs": [
    {
     "name": "stdout",
     "output_type": "stream",
     "text": [
      "[13.88713911 87.16272966 53.85564304 63.84776903 23.87926509 43.86351706]\n"
     ]
    }
   ],
   "source": [
    "print(y_prediction)"
   ]
  },
  {
   "cell_type": "code",
   "execution_count": 44,
   "metadata": {},
   "outputs": [
    {
     "name": "stdout",
     "output_type": "stream",
     "text": [
      "2     20\n",
      "24    93\n",
      "14    55\n",
      "17    64\n",
      "5     25\n",
      "11    30\n",
      "Name: note, dtype: int64\n"
     ]
    }
   ],
   "source": [
    "print(y_test)"
   ]
  },
  {
   "cell_type": "code",
   "execution_count": 45,
   "metadata": {},
   "outputs": [
    {
     "name": "stdout",
     "output_type": "stream",
     "text": [
      "[[ 4]\n",
      " [26]\n",
      " [16]\n",
      " [19]\n",
      " [ 7]\n",
      " [13]]\n"
     ]
    }
   ],
   "source": [
    "print(x_test)"
   ]
  },
  {
   "cell_type": "code",
   "execution_count": 46,
   "metadata": {},
   "outputs": [
    {
     "data": {
      "image/png": "[encoded data removed]",
      "text/plain": [
       "<Figure size 432x288 with 1 Axes>"
      ]
     },
     "metadata": {},
     "output_type": "display_data"
    }
   ],
   "source": [
    "plt.scatter(x_test, y_test, color = 'red')\n",
    "plt.xlabel('heure_rev_independante_var')\n",
    "plt.plot(x_train, regresseur.predict(x_train), color = 'blue')\n",
    "plt.ylabel('dependance variable . NOTE')\n",
    "plt.title('droite de regression')\n",
    "plt.style.use(['dark_background','fast'])\n",
    "plt.show()"
   ]
  },
  {
   "cell_type": "code",
   "execution_count": 47,
   "metadata": {},
   "outputs": [
    {
     "data": {
      "text/plain": [
       "array([60.51706037])"
      ]
     },
     "execution_count": 47,
     "metadata": {},
     "output_type": "execute_result"
    }
   ],
   "source": [
    "regresseur.predict(18)"
   ]
  },
  {
   "cell_type": "code",
   "execution_count": 70,
   "metadata": {},
   "outputs": [
    {
     "name": "stdout",
     "output_type": "stream",
     "text": [
      "    heure_rev  note\n",
      "0           2    10\n",
      "1           3    12\n",
      "2           4    20\n",
      "3           5    22\n",
      "4           6    21\n",
      "5           7    25\n",
      "6           8    30\n",
      "7           9    21\n",
      "8          10    32\n",
      "9          11    34\n",
      "10         12    35\n",
      "11         13    30\n",
      "12         14    50\n",
      "13         15    45\n",
      "14         16    55\n",
      "15         17    60\n",
      "16         18    66\n",
      "17         19    64\n",
      "18         20    67\n",
      "19         21    72\n",
      "20         22    74\n",
      "21         23    80\n",
      "22         24    79\n",
      "23         25    84\n",
      "24         26    93\n",
      "25         29    98\n",
      "26         30    99\n"
     ]
    }
   ],
   "source": [
    "#Ici j'affiche mon dataset pour pouvoir comparer avec la prediction de 18 heure de revision\n",
    "#et on constate que 18 donne 66 comme si on l'eleve revise pendant 18 heure donc il y a un petit decalage\n",
    "\n",
    "print(dtst)"
   ]
  },
  {
   "cell_type": "code",
   "execution_count": 68,
   "metadata": {},
   "outputs": [],
   "source": [
    "#je vais implementer une methode pour definir la moyenne des erreurs\n",
    "def rmse(z,z_hat):\n",
    "    y_actual = np.array(z)\n",
    "    y_pred = np.array(z_hat)\n",
    "    error = (y_actual-y_pred)**2\n",
    "    error_mean = round(np.mean(error))\n",
    "    error1 = math.sqrt(error_mean)\n",
    "    return error1"
   ]
  },
  {
   "cell_type": "code",
   "execution_count": 69,
   "metadata": {},
   "outputs": [
    {
     "data": {
      "text/plain": [
       "5.477225575051661"
      ]
     },
     "execution_count": 69,
     "metadata": {},
     "output_type": "execute_result"
    }
   ],
   "source": [
    "rmse(66, regresseur.predict(18))"
   ]
  },
  {
   "cell_type": "code",
   "execution_count": null,
   "metadata": {},
   "outputs": [],
   "source": [
    "# Donc la valeur observee etant 66 et la valeur predite est 60 donc l'erreur evidente\n",
    "# 5.477 et 6 il n'y a pas de grande difference."
   ]
  },
  {
   "cell_type": "code",
   "execution_count": null,
   "metadata": {},
   "outputs": [],
   "source": []
  }
 ],
 "metadata": {
  "kernelspec": {
   "display_name": "Python 3",
   "language": "python",
   "name": "python3"
  },
  "language_info": {
   "codemirror_mode": {
    "name": "ipython",
    "version": 3
   },
   "file_extension": ".py",
   "mimetype": "text/x-python",
   "name": "python",
   "nbconvert_exporter": "python",
   "pygments_lexer": "ipython3",
   "version": "3.7.4"
  }
 },
 "nbformat": 4,
 "nbformat_minor": 2
}
